{
  "nbformat": 4,
  "nbformat_minor": 0,
  "metadata": {
    "colab": {
      "provenance": [],
      "gpuType": "T4",
      "authorship_tag": "ABX9TyOMhenjtKBHS4O6NuNMX8Lt",
      "include_colab_link": true
    },
    "kernelspec": {
      "name": "python3",
      "display_name": "Python 3"
    },
    "language_info": {
      "name": "python"
    },
    "accelerator": "GPU"
  },
  "cells": [
    {
      "cell_type": "markdown",
      "metadata": {
        "id": "view-in-github",
        "colab_type": "text"
      },
      "source": [
        "<a href=\"https://colab.research.google.com/github/DILSHAN565/FYP_DL_Models/blob/main/CNN_For_Report.ipynb\" target=\"_parent\"><img src=\"https://colab.research.google.com/assets/colab-badge.svg\" alt=\"Open In Colab\"/></a>"
      ]
    },
    {
      "cell_type": "code",
      "execution_count": 1,
      "metadata": {
        "colab": {
          "base_uri": "https://localhost:8080/"
        },
        "id": "lMl3wMO5N5wt",
        "outputId": "03a211fb-4a46-4caf-8313-61e7adba1620"
      },
      "outputs": [
        {
          "output_type": "stream",
          "name": "stdout",
          "text": [
            "Requirement already satisfied: tensorflow in /usr/local/lib/python3.10/dist-packages (2.15.0)\n",
            "Requirement already satisfied: absl-py>=1.0.0 in /usr/local/lib/python3.10/dist-packages (from tensorflow) (1.4.0)\n",
            "Requirement already satisfied: astunparse>=1.6.0 in /usr/local/lib/python3.10/dist-packages (from tensorflow) (1.6.3)\n",
            "Requirement already satisfied: flatbuffers>=23.5.26 in /usr/local/lib/python3.10/dist-packages (from tensorflow) (24.3.25)\n",
            "Requirement already satisfied: gast!=0.5.0,!=0.5.1,!=0.5.2,>=0.2.1 in /usr/local/lib/python3.10/dist-packages (from tensorflow) (0.6.0)\n",
            "Requirement already satisfied: google-pasta>=0.1.1 in /usr/local/lib/python3.10/dist-packages (from tensorflow) (0.2.0)\n",
            "Requirement already satisfied: h5py>=2.9.0 in /usr/local/lib/python3.10/dist-packages (from tensorflow) (3.9.0)\n",
            "Requirement already satisfied: libclang>=13.0.0 in /usr/local/lib/python3.10/dist-packages (from tensorflow) (18.1.1)\n",
            "Requirement already satisfied: ml-dtypes~=0.2.0 in /usr/local/lib/python3.10/dist-packages (from tensorflow) (0.2.0)\n",
            "Requirement already satisfied: numpy<2.0.0,>=1.23.5 in /usr/local/lib/python3.10/dist-packages (from tensorflow) (1.25.2)\n",
            "Requirement already satisfied: opt-einsum>=2.3.2 in /usr/local/lib/python3.10/dist-packages (from tensorflow) (3.3.0)\n",
            "Requirement already satisfied: packaging in /usr/local/lib/python3.10/dist-packages (from tensorflow) (24.1)\n",
            "Requirement already satisfied: protobuf!=4.21.0,!=4.21.1,!=4.21.2,!=4.21.3,!=4.21.4,!=4.21.5,<5.0.0dev,>=3.20.3 in /usr/local/lib/python3.10/dist-packages (from tensorflow) (3.20.3)\n",
            "Requirement already satisfied: setuptools in /usr/local/lib/python3.10/dist-packages (from tensorflow) (67.7.2)\n",
            "Requirement already satisfied: six>=1.12.0 in /usr/local/lib/python3.10/dist-packages (from tensorflow) (1.16.0)\n",
            "Requirement already satisfied: termcolor>=1.1.0 in /usr/local/lib/python3.10/dist-packages (from tensorflow) (2.4.0)\n",
            "Requirement already satisfied: typing-extensions>=3.6.6 in /usr/local/lib/python3.10/dist-packages (from tensorflow) (4.12.2)\n",
            "Requirement already satisfied: wrapt<1.15,>=1.11.0 in /usr/local/lib/python3.10/dist-packages (from tensorflow) (1.14.1)\n",
            "Requirement already satisfied: tensorflow-io-gcs-filesystem>=0.23.1 in /usr/local/lib/python3.10/dist-packages (from tensorflow) (0.37.0)\n",
            "Requirement already satisfied: grpcio<2.0,>=1.24.3 in /usr/local/lib/python3.10/dist-packages (from tensorflow) (1.64.1)\n",
            "Requirement already satisfied: tensorboard<2.16,>=2.15 in /usr/local/lib/python3.10/dist-packages (from tensorflow) (2.15.2)\n",
            "Requirement already satisfied: tensorflow-estimator<2.16,>=2.15.0 in /usr/local/lib/python3.10/dist-packages (from tensorflow) (2.15.0)\n",
            "Requirement already satisfied: keras<2.16,>=2.15.0 in /usr/local/lib/python3.10/dist-packages (from tensorflow) (2.15.0)\n",
            "Requirement already satisfied: wheel<1.0,>=0.23.0 in /usr/local/lib/python3.10/dist-packages (from astunparse>=1.6.0->tensorflow) (0.43.0)\n",
            "Requirement already satisfied: google-auth<3,>=1.6.3 in /usr/local/lib/python3.10/dist-packages (from tensorboard<2.16,>=2.15->tensorflow) (2.27.0)\n",
            "Requirement already satisfied: google-auth-oauthlib<2,>=0.5 in /usr/local/lib/python3.10/dist-packages (from tensorboard<2.16,>=2.15->tensorflow) (1.2.0)\n",
            "Requirement already satisfied: markdown>=2.6.8 in /usr/local/lib/python3.10/dist-packages (from tensorboard<2.16,>=2.15->tensorflow) (3.6)\n",
            "Requirement already satisfied: requests<3,>=2.21.0 in /usr/local/lib/python3.10/dist-packages (from tensorboard<2.16,>=2.15->tensorflow) (2.31.0)\n",
            "Requirement already satisfied: tensorboard-data-server<0.8.0,>=0.7.0 in /usr/local/lib/python3.10/dist-packages (from tensorboard<2.16,>=2.15->tensorflow) (0.7.2)\n",
            "Requirement already satisfied: werkzeug>=1.0.1 in /usr/local/lib/python3.10/dist-packages (from tensorboard<2.16,>=2.15->tensorflow) (3.0.3)\n",
            "Requirement already satisfied: cachetools<6.0,>=2.0.0 in /usr/local/lib/python3.10/dist-packages (from google-auth<3,>=1.6.3->tensorboard<2.16,>=2.15->tensorflow) (5.3.3)\n",
            "Requirement already satisfied: pyasn1-modules>=0.2.1 in /usr/local/lib/python3.10/dist-packages (from google-auth<3,>=1.6.3->tensorboard<2.16,>=2.15->tensorflow) (0.4.0)\n",
            "Requirement already satisfied: rsa<5,>=3.1.4 in /usr/local/lib/python3.10/dist-packages (from google-auth<3,>=1.6.3->tensorboard<2.16,>=2.15->tensorflow) (4.9)\n",
            "Requirement already satisfied: requests-oauthlib>=0.7.0 in /usr/local/lib/python3.10/dist-packages (from google-auth-oauthlib<2,>=0.5->tensorboard<2.16,>=2.15->tensorflow) (1.3.1)\n",
            "Requirement already satisfied: charset-normalizer<4,>=2 in /usr/local/lib/python3.10/dist-packages (from requests<3,>=2.21.0->tensorboard<2.16,>=2.15->tensorflow) (3.3.2)\n",
            "Requirement already satisfied: idna<4,>=2.5 in /usr/local/lib/python3.10/dist-packages (from requests<3,>=2.21.0->tensorboard<2.16,>=2.15->tensorflow) (3.7)\n",
            "Requirement already satisfied: urllib3<3,>=1.21.1 in /usr/local/lib/python3.10/dist-packages (from requests<3,>=2.21.0->tensorboard<2.16,>=2.15->tensorflow) (2.0.7)\n",
            "Requirement already satisfied: certifi>=2017.4.17 in /usr/local/lib/python3.10/dist-packages (from requests<3,>=2.21.0->tensorboard<2.16,>=2.15->tensorflow) (2024.6.2)\n",
            "Requirement already satisfied: MarkupSafe>=2.1.1 in /usr/local/lib/python3.10/dist-packages (from werkzeug>=1.0.1->tensorboard<2.16,>=2.15->tensorflow) (2.1.5)\n",
            "Requirement already satisfied: pyasn1<0.7.0,>=0.4.6 in /usr/local/lib/python3.10/dist-packages (from pyasn1-modules>=0.2.1->google-auth<3,>=1.6.3->tensorboard<2.16,>=2.15->tensorflow) (0.6.0)\n",
            "Requirement already satisfied: oauthlib>=3.0.0 in /usr/local/lib/python3.10/dist-packages (from requests-oauthlib>=0.7.0->google-auth-oauthlib<2,>=0.5->tensorboard<2.16,>=2.15->tensorflow) (3.2.2)\n"
          ]
        }
      ],
      "source": [
        "pip install tensorflow"
      ]
    },
    {
      "cell_type": "code",
      "source": [
        "import numpy as np"
      ],
      "metadata": {
        "id": "NTVSJiTJPX5B"
      },
      "execution_count": 2,
      "outputs": []
    },
    {
      "cell_type": "code",
      "source": [
        "import tensorflow as tf\n",
        "from tensorflow import keras"
      ],
      "metadata": {
        "id": "a4tPJP61Parq"
      },
      "execution_count": 3,
      "outputs": []
    },
    {
      "cell_type": "code",
      "source": [
        "from tensorflow.keras.layers import Dense, Activation"
      ],
      "metadata": {
        "id": "8b-JjypHPkB3"
      },
      "execution_count": 4,
      "outputs": []
    },
    {
      "cell_type": "code",
      "source": [
        "from tensorflow.keras.optimizers import Adam\n",
        "from tensorflow.keras.metrics import categorical_crossentropy\n",
        "from tensorflow.keras.preprocessing.image import ImageDataGenerator\n",
        "from tensorflow.keras.preprocessing import image\n",
        "from tensorflow.keras.models import Model\n",
        "from tensorflow.keras.applications import imagenet_utils\n",
        "from sklearn.metrics import confusion_matrix\n",
        "import itertools\n",
        "import os\n",
        "import shutil\n",
        "import random\n",
        "import matplotlib.pyplot as plt\n",
        "%matplotlib inline"
      ],
      "metadata": {
        "id": "5QdgFlsLPmcT"
      },
      "execution_count": 5,
      "outputs": []
    },
    {
      "cell_type": "code",
      "source": [
        "# Open In Colab\n",
        "from google.colab import drive\n",
        "drive.mount('/content/drive')"
      ],
      "metadata": {
        "colab": {
          "base_uri": "https://localhost:8080/"
        },
        "id": "B8mihQSdPoye",
        "outputId": "cf269b8c-6dc5-40f1-a313-5695cd1c3dd5"
      },
      "execution_count": 7,
      "outputs": [
        {
          "output_type": "stream",
          "name": "stdout",
          "text": [
            "Mounted at /content/drive\n"
          ]
        }
      ]
    },
    {
      "cell_type": "code",
      "source": [
        "import os\n",
        "\n",
        "# Define the path to the directory containing your dataset\n",
        "directory_path = '/content/drive/My Drive/Tea-Leaf-Diseases-Dataset'\n",
        "\n",
        "# List all files in the directory\n",
        "files = os.listdir(directory_path)\n",
        "\n",
        "# Print the list of files\n",
        "print(files)"
      ],
      "metadata": {
        "colab": {
          "base_uri": "https://localhost:8080/"
        },
        "id": "XDlzGYpiPsrc",
        "outputId": "d1cc26e7-e378-49d9-f8b3-c60b521a070e"
      },
      "execution_count": 8,
      "outputs": [
        {
          "output_type": "stream",
          "name": "stdout",
          "text": [
            "['train', 'validation', 'test']\n"
          ]
        }
      ]
    },
    {
      "cell_type": "code",
      "source": [
        "# Install necessary packages\n",
        "!pip -q install vit_keras tensorflow-addons\n",
        "!pip -q install --upgrade --no-cache-dir gdown"
      ],
      "metadata": {
        "colab": {
          "base_uri": "https://localhost:8080/"
        },
        "id": "YIsl3MTuQKqE",
        "outputId": "9997475e-094a-4abc-e298-84105839ec9b"
      },
      "execution_count": 9,
      "outputs": [
        {
          "output_type": "stream",
          "name": "stdout",
          "text": [
            "\u001b[2K     \u001b[90m━━━━━━━━━━━━━━━━━━━━━━━━━━━━━━━━━━━━━━━━\u001b[0m \u001b[32m611.8/611.8 kB\u001b[0m \u001b[31m15.9 MB/s\u001b[0m eta \u001b[36m0:00:00\u001b[0m\n",
            "\u001b[2K     \u001b[90m━━━━━━━━━━━━━━━━━━━━━━━━━━━━━━━━━━━━━━━━\u001b[0m \u001b[32m41.4/41.4 kB\u001b[0m \u001b[31m4.2 MB/s\u001b[0m eta \u001b[36m0:00:00\u001b[0m\n",
            "\u001b[?25h"
          ]
        }
      ]
    },
    {
      "cell_type": "code",
      "source": [
        "import numpy as np\n",
        "import tensorflow as tf\n",
        "import tensorflow_addons as tfa\n",
        "from tensorflow.keras.layers import Dense, Flatten\n",
        "from tensorflow.keras.optimizers import Adam\n",
        "from vit_keras import vit\n",
        "from sklearn.metrics import classification_report, confusion_matrix\n",
        "import warnings\n",
        "warnings.filterwarnings(\"ignore\")"
      ],
      "metadata": {
        "colab": {
          "base_uri": "https://localhost:8080/"
        },
        "id": "2fcKPKQSQKsK",
        "outputId": "b325b387-3aee-4097-cb27-c006f6e934b3"
      },
      "execution_count": 10,
      "outputs": [
        {
          "output_type": "stream",
          "name": "stderr",
          "text": [
            "/usr/local/lib/python3.10/dist-packages/tensorflow_addons/utils/tfa_eol_msg.py:23: UserWarning: \n",
            "\n",
            "TensorFlow Addons (TFA) has ended development and introduction of new features.\n",
            "TFA has entered a minimal maintenance and release mode until a planned end of life in May 2024.\n",
            "Please modify downstream libraries to take dependencies from other repositories in our TensorFlow community (e.g. Keras, Keras-CV, and Keras-NLP). \n",
            "\n",
            "For more information see: https://github.com/tensorflow/addons/issues/2807 \n",
            "\n",
            "  warnings.warn(\n"
          ]
        }
      ]
    },
    {
      "cell_type": "code",
      "source": [
        "SEED = 42\n",
        "np.random.seed(SEED)"
      ],
      "metadata": {
        "id": "6IneuEapQKur"
      },
      "execution_count": 11,
      "outputs": []
    },
    {
      "cell_type": "code",
      "source": [
        "# Insert the Dataset path here\n",
        "train_path = '/content/drive/MyDrive/Tea-Leaf-Diseases-Dataset/train'\n",
        "val_path = '/content/drive/MyDrive/Tea-Leaf-Diseases-Dataset/validation'\n",
        "test_path = '/content/drive/MyDrive/Tea-Leaf-Diseases-Dataset/test'"
      ],
      "metadata": {
        "id": "7lU1H85lQKxK"
      },
      "execution_count": 12,
      "outputs": []
    },
    {
      "cell_type": "code",
      "source": [
        "IMAGE_SIZE = 224\n",
        "BATCH_SIZE = 16\n",
        "EPOCHS = 100\n",
        "LEARNING_RATE = 1e-4"
      ],
      "metadata": {
        "id": "cZqp67v9QKzp"
      },
      "execution_count": 13,
      "outputs": []
    },
    {
      "cell_type": "code",
      "source": [
        "train_datagen = tf.keras.preprocessing.image.ImageDataGenerator(rescale=1./255,\n",
        "                                   rotation_range=360,\n",
        "                                   height_shift_range=0.1,\n",
        "                                   shear_range=0.1,\n",
        "                                   zoom_range=0.1,\n",
        "                                   fill_mode='nearest',\n",
        "                                   brightness_range=[0.8, 1.4],\n",
        "                                   vertical_flip=True,\n",
        "                                   horizontal_flip=True)\n",
        "\n",
        "val_datagen = tf.keras.preprocessing.image.ImageDataGenerator(rescale=1./255)\n",
        "test_datagen = tf.keras.preprocessing.image.ImageDataGenerator(rescale=1./255)\n",
        "\n",
        "train_generator = train_datagen.flow_from_directory(\n",
        "    train_path,\n",
        "    target_size=(IMAGE_SIZE, IMAGE_SIZE),\n",
        "    batch_size=BATCH_SIZE,\n",
        "    class_mode='categorical')\n",
        "\n",
        "validation_generator = val_datagen.flow_from_directory(\n",
        "    val_path,\n",
        "    target_size=(IMAGE_SIZE, IMAGE_SIZE),\n",
        "    batch_size=BATCH_SIZE,\n",
        "    class_mode='categorical')\n",
        "\n",
        "test_generator = test_datagen.flow_from_directory(\n",
        "    test_path,\n",
        "    target_size=(IMAGE_SIZE, IMAGE_SIZE),\n",
        "    batch_size=BATCH_SIZE,\n",
        "    class_mode='categorical',\n",
        "    shuffle=False)"
      ],
      "metadata": {
        "colab": {
          "base_uri": "https://localhost:8080/"
        },
        "id": "i2d5XorgQK22",
        "outputId": "7182bbb0-f93e-4f63-ec87-39338a4a14c1"
      },
      "execution_count": 14,
      "outputs": [
        {
          "output_type": "stream",
          "name": "stdout",
          "text": [
            "Found 566 images belonging to 8 classes.\n",
            "Found 123 images belonging to 8 classes.\n",
            "Found 124 images belonging to 8 classes.\n"
          ]
        }
      ]
    },
    {
      "cell_type": "code",
      "source": [
        "from tensorflow.keras.models import Sequential\n",
        "from tensorflow.keras.layers import Conv2D, MaxPooling2D, Flatten, Dense\n",
        "from tensorflow.keras.optimizers import Adam\n",
        "from tensorflow.keras.preprocessing.image import ImageDataGenerator"
      ],
      "metadata": {
        "id": "mIBl954PQWoN"
      },
      "execution_count": 15,
      "outputs": []
    },
    {
      "cell_type": "code",
      "source": [
        "# Define the model\n",
        "model = Sequential()"
      ],
      "metadata": {
        "id": "ohSVb0qOQfX0"
      },
      "execution_count": 16,
      "outputs": []
    },
    {
      "cell_type": "code",
      "source": [
        "# Add convolutional layers\n",
        "model.add(Conv2D(32, (3, 3), activation='relu', input_shape=(224, 224, 3)))\n",
        "model.add(MaxPooling2D((2, 2)))\n",
        "model.add(Conv2D(64, (3, 3), activation='relu'))\n",
        "model.add(MaxPooling2D((2, 2)))\n",
        "model.add(Conv2D(128, (3, 3), activation='relu'))\n",
        "model.add(MaxPooling2D((2, 2)))"
      ],
      "metadata": {
        "id": "WGQYYQ71Qh08"
      },
      "execution_count": 17,
      "outputs": []
    },
    {
      "cell_type": "code",
      "source": [
        "# Flatten the output before feeding into the fully connected layers\n",
        "model.add(Flatten())"
      ],
      "metadata": {
        "id": "smGkjhJxQkQ0"
      },
      "execution_count": 18,
      "outputs": []
    },
    {
      "cell_type": "code",
      "source": [
        "# Add fully connected layers\n",
        "model.add(Dense(128, activation='relu'))\n",
        "model.add(Dense(8, activation='softmax'))  # 8 classes for tea leaf disease classification"
      ],
      "metadata": {
        "id": "n46wK_P7QmvQ"
      },
      "execution_count": 19,
      "outputs": []
    },
    {
      "cell_type": "code",
      "source": [
        "model.summary()"
      ],
      "metadata": {
        "colab": {
          "base_uri": "https://localhost:8080/"
        },
        "id": "q979ZfDtQpN4",
        "outputId": "3398c4ad-9c89-4b39-b5e3-5069e6ab34ce"
      },
      "execution_count": 20,
      "outputs": [
        {
          "output_type": "stream",
          "name": "stdout",
          "text": [
            "Model: \"sequential\"\n",
            "_________________________________________________________________\n",
            " Layer (type)                Output Shape              Param #   \n",
            "=================================================================\n",
            " conv2d (Conv2D)             (None, 222, 222, 32)      896       \n",
            "                                                                 \n",
            " max_pooling2d (MaxPooling2  (None, 111, 111, 32)      0         \n",
            " D)                                                              \n",
            "                                                                 \n",
            " conv2d_1 (Conv2D)           (None, 109, 109, 64)      18496     \n",
            "                                                                 \n",
            " max_pooling2d_1 (MaxPoolin  (None, 54, 54, 64)        0         \n",
            " g2D)                                                            \n",
            "                                                                 \n",
            " conv2d_2 (Conv2D)           (None, 52, 52, 128)       73856     \n",
            "                                                                 \n",
            " max_pooling2d_2 (MaxPoolin  (None, 26, 26, 128)       0         \n",
            " g2D)                                                            \n",
            "                                                                 \n",
            " flatten (Flatten)           (None, 86528)             0         \n",
            "                                                                 \n",
            " dense (Dense)               (None, 128)               11075712  \n",
            "                                                                 \n",
            " dense_1 (Dense)             (None, 8)                 1032      \n",
            "                                                                 \n",
            "=================================================================\n",
            "Total params: 11169992 (42.61 MB)\n",
            "Trainable params: 11169992 (42.61 MB)\n",
            "Non-trainable params: 0 (0.00 Byte)\n",
            "_________________________________________________________________\n"
          ]
        }
      ]
    },
    {
      "cell_type": "code",
      "source": [
        "import os\n",
        "from tensorflow.keras.callbacks import EarlyStopping, ModelCheckpoint, ReduceLROnPlateau, CSVLogger\n"
      ],
      "metadata": {
        "id": "Mx4hjfD7QrVY"
      },
      "execution_count": 21,
      "outputs": []
    },
    {
      "cell_type": "code",
      "source": [
        "# Define the directory for saving model artifacts\n",
        "save_dir = '/content/drive/MyDrive/For-Report/CNN-Modified'\n",
        "\n",
        "# Ensure the base directory exists\n",
        "os.makedirs(save_dir, exist_ok=True)\n",
        "\n",
        "# Specific directory for saving weights\n",
        "weights_dir = os.path.join(save_dir, 'weights')\n",
        "os.makedirs(weights_dir, exist_ok=True)\n",
        "\n",
        "# Directory for logging CSV data\n",
        "logs_dir = os.path.join(save_dir, 'logs')\n",
        "os.makedirs(logs_dir, exist_ok=True)"
      ],
      "metadata": {
        "id": "TXecEQZOQyyE"
      },
      "execution_count": 22,
      "outputs": []
    },
    {
      "cell_type": "code",
      "source": [
        "# ModelCheckpoint: Save the best model weights\n",
        "model_checkpoint_callback = ModelCheckpoint(\n",
        "    filepath=os.path.join(weights_dir, 'CNN_weights-{epoch:02d}.h5'),\n",
        "    save_weights_only=True,\n",
        "    monitor='val_loss',  # Change to 'val_loss' if you want to monitor validation loss instead\n",
        "    mode='min',  # Use 'min' if monitoring 'val_loss'\n",
        "    save_best_only=True,\n",
        "    verbose=1\n",
        ")\n",
        "\n",
        "# ReduceLROnPlateau: Reduce learning rate when a metric has stopped improving\n",
        "reduce_lr_callback = ReduceLROnPlateau(\n",
        "    monitor='val_loss',\n",
        "    factor=0.1,\n",
        "    patience=5,\n",
        "    verbose=1\n",
        ")\n",
        "\n",
        "# CSVLogger: Log training data into a CSV file\n",
        "csv_logger_callback = CSVLogger(\n",
        "    os.path.join(logs_dir, 'training_log.csv')\n",
        ")\n",
        "\n",
        "# EarlyStopping: Stop training when a monitored metric has stopped improving\n",
        "early_stopping_callback = EarlyStopping(\n",
        "    monitor='val_loss',\n",
        "    patience=20,\n",
        "    verbose=1,\n",
        "    restore_best_weights=True\n",
        ")\n",
        "\n",
        "# Combine all callbacks\n",
        "callbacks = [\n",
        "    model_checkpoint_callback,\n",
        "    reduce_lr_callback,\n",
        "    csv_logger_callback,\n",
        "    early_stopping_callback\n",
        "]\n"
      ],
      "metadata": {
        "id": "dzQkAHVGQ1m5"
      },
      "execution_count": 23,
      "outputs": []
    },
    {
      "cell_type": "code",
      "source": [
        "model.compile(optimizer=Adam(learning_rate=0.0001), loss='categorical_crossentropy', metrics=['accuracy'])"
      ],
      "metadata": {
        "id": "DNe6V2TgRPgU"
      },
      "execution_count": 25,
      "outputs": []
    },
    {
      "cell_type": "code",
      "source": [],
      "metadata": {
        "id": "Nsh_WCBmRPjm"
      },
      "execution_count": null,
      "outputs": []
    },
    {
      "cell_type": "code",
      "source": [],
      "metadata": {
        "id": "8K4JmJdxRPol"
      },
      "execution_count": null,
      "outputs": []
    },
    {
      "cell_type": "code",
      "source": [],
      "metadata": {
        "id": "e1bM4OBVRPsG"
      },
      "execution_count": null,
      "outputs": []
    },
    {
      "cell_type": "code",
      "source": [
        "# Now, you can use this `callbacks` list when fitting your model\n",
        "history = model.fit(\n",
        "    train_generator,\n",
        "    validation_data=validation_generator,\n",
        "    epochs=100,\n",
        "    steps_per_epoch=train_generator.samples // BATCH_SIZE,\n",
        "    validation_steps=validation_generator.samples // BATCH_SIZE,\n",
        "    callbacks=callbacks\n",
        ")"
      ],
      "metadata": {
        "colab": {
          "base_uri": "https://localhost:8080/"
        },
        "id": "J16cz7KXQ6xH",
        "outputId": "1cc3f59b-0725-4098-c53e-b785542f0d0d"
      },
      "execution_count": 26,
      "outputs": [
        {
          "output_type": "stream",
          "name": "stdout",
          "text": [
            "Epoch 1/100\n",
            "35/35 [==============================] - ETA: 0s - loss: 1.9639 - accuracy: 0.2309\n",
            "Epoch 1: val_loss improved from inf to 1.82275, saving model to /content/drive/MyDrive/For-Report/CNN-Modified/weights/CNN_weights-01.h5\n",
            "35/35 [==============================] - 353s 10s/step - loss: 1.9639 - accuracy: 0.2309 - val_loss: 1.8228 - val_accuracy: 0.3125 - lr: 1.0000e-04\n",
            "Epoch 2/100\n",
            "35/35 [==============================] - ETA: 0s - loss: 1.6686 - accuracy: 0.3691\n",
            "Epoch 2: val_loss improved from 1.82275 to 1.54978, saving model to /content/drive/MyDrive/For-Report/CNN-Modified/weights/CNN_weights-02.h5\n",
            "35/35 [==============================] - 34s 978ms/step - loss: 1.6686 - accuracy: 0.3691 - val_loss: 1.5498 - val_accuracy: 0.3929 - lr: 1.0000e-04\n",
            "Epoch 3/100\n",
            "35/35 [==============================] - ETA: 0s - loss: 1.4376 - accuracy: 0.4018\n",
            "Epoch 3: val_loss improved from 1.54978 to 1.42275, saving model to /content/drive/MyDrive/For-Report/CNN-Modified/weights/CNN_weights-03.h5\n",
            "35/35 [==============================] - 36s 1s/step - loss: 1.4376 - accuracy: 0.4018 - val_loss: 1.4228 - val_accuracy: 0.3750 - lr: 1.0000e-04\n",
            "Epoch 4/100\n",
            "35/35 [==============================] - ETA: 0s - loss: 1.3149 - accuracy: 0.4255\n",
            "Epoch 4: val_loss improved from 1.42275 to 1.27192, saving model to /content/drive/MyDrive/For-Report/CNN-Modified/weights/CNN_weights-04.h5\n",
            "35/35 [==============================] - 35s 993ms/step - loss: 1.3149 - accuracy: 0.4255 - val_loss: 1.2719 - val_accuracy: 0.5089 - lr: 1.0000e-04\n",
            "Epoch 5/100\n",
            "35/35 [==============================] - ETA: 0s - loss: 1.2123 - accuracy: 0.4364\n",
            "Epoch 5: val_loss improved from 1.27192 to 1.22745, saving model to /content/drive/MyDrive/For-Report/CNN-Modified/weights/CNN_weights-05.h5\n",
            "35/35 [==============================] - 40s 1s/step - loss: 1.2123 - accuracy: 0.4364 - val_loss: 1.2274 - val_accuracy: 0.4554 - lr: 1.0000e-04\n",
            "Epoch 6/100\n",
            "35/35 [==============================] - ETA: 0s - loss: 1.1564 - accuracy: 0.4691\n",
            "Epoch 6: val_loss improved from 1.22745 to 1.15655, saving model to /content/drive/MyDrive/For-Report/CNN-Modified/weights/CNN_weights-06.h5\n",
            "35/35 [==============================] - 36s 1s/step - loss: 1.1564 - accuracy: 0.4691 - val_loss: 1.1566 - val_accuracy: 0.4375 - lr: 1.0000e-04\n",
            "Epoch 7/100\n",
            "35/35 [==============================] - ETA: 0s - loss: 1.0770 - accuracy: 0.5091\n",
            "Epoch 7: val_loss improved from 1.15655 to 1.11643, saving model to /content/drive/MyDrive/For-Report/CNN-Modified/weights/CNN_weights-07.h5\n",
            "35/35 [==============================] - 37s 1s/step - loss: 1.0770 - accuracy: 0.5091 - val_loss: 1.1164 - val_accuracy: 0.5089 - lr: 1.0000e-04\n",
            "Epoch 8/100\n",
            "35/35 [==============================] - ETA: 0s - loss: 1.0855 - accuracy: 0.5036\n",
            "Epoch 8: val_loss did not improve from 1.11643\n",
            "35/35 [==============================] - 35s 1s/step - loss: 1.0855 - accuracy: 0.5036 - val_loss: 1.3418 - val_accuracy: 0.4554 - lr: 1.0000e-04\n",
            "Epoch 9/100\n",
            "35/35 [==============================] - ETA: 0s - loss: 1.1639 - accuracy: 0.4545\n",
            "Epoch 9: val_loss did not improve from 1.11643\n",
            "35/35 [==============================] - 35s 1s/step - loss: 1.1639 - accuracy: 0.4545 - val_loss: 1.2758 - val_accuracy: 0.3929 - lr: 1.0000e-04\n",
            "Epoch 10/100\n",
            "35/35 [==============================] - ETA: 0s - loss: 1.0595 - accuracy: 0.5218\n",
            "Epoch 10: val_loss did not improve from 1.11643\n",
            "35/35 [==============================] - 34s 970ms/step - loss: 1.0595 - accuracy: 0.5218 - val_loss: 1.2830 - val_accuracy: 0.4821 - lr: 1.0000e-04\n",
            "Epoch 11/100\n",
            "35/35 [==============================] - ETA: 0s - loss: 1.0294 - accuracy: 0.5218\n",
            "Epoch 11: val_loss improved from 1.11643 to 1.05870, saving model to /content/drive/MyDrive/For-Report/CNN-Modified/weights/CNN_weights-11.h5\n",
            "35/35 [==============================] - 36s 1s/step - loss: 1.0294 - accuracy: 0.5218 - val_loss: 1.0587 - val_accuracy: 0.5536 - lr: 1.0000e-04\n",
            "Epoch 12/100\n",
            "35/35 [==============================] - ETA: 0s - loss: 0.9876 - accuracy: 0.5273\n",
            "Epoch 12: val_loss improved from 1.05870 to 1.02373, saving model to /content/drive/MyDrive/For-Report/CNN-Modified/weights/CNN_weights-12.h5\n",
            "35/35 [==============================] - 36s 1s/step - loss: 0.9876 - accuracy: 0.5273 - val_loss: 1.0237 - val_accuracy: 0.5804 - lr: 1.0000e-04\n",
            "Epoch 13/100\n",
            "35/35 [==============================] - ETA: 0s - loss: 1.0289 - accuracy: 0.5273\n",
            "Epoch 13: val_loss improved from 1.02373 to 0.95867, saving model to /content/drive/MyDrive/For-Report/CNN-Modified/weights/CNN_weights-13.h5\n",
            "35/35 [==============================] - 35s 1s/step - loss: 1.0289 - accuracy: 0.5273 - val_loss: 0.9587 - val_accuracy: 0.5536 - lr: 1.0000e-04\n",
            "Epoch 14/100\n",
            "35/35 [==============================] - ETA: 0s - loss: 1.0230 - accuracy: 0.5109\n",
            "Epoch 14: val_loss did not improve from 0.95867\n",
            "35/35 [==============================] - 34s 965ms/step - loss: 1.0230 - accuracy: 0.5109 - val_loss: 1.0533 - val_accuracy: 0.5536 - lr: 1.0000e-04\n",
            "Epoch 15/100\n",
            "35/35 [==============================] - ETA: 0s - loss: 1.0066 - accuracy: 0.5564\n",
            "Epoch 15: val_loss did not improve from 0.95867\n",
            "35/35 [==============================] - 34s 981ms/step - loss: 1.0066 - accuracy: 0.5564 - val_loss: 0.9965 - val_accuracy: 0.4732 - lr: 1.0000e-04\n",
            "Epoch 16/100\n",
            "35/35 [==============================] - ETA: 0s - loss: 1.0026 - accuracy: 0.5436\n",
            "Epoch 16: val_loss did not improve from 0.95867\n",
            "35/35 [==============================] - 36s 1s/step - loss: 1.0026 - accuracy: 0.5436 - val_loss: 1.1972 - val_accuracy: 0.4464 - lr: 1.0000e-04\n",
            "Epoch 17/100\n",
            "35/35 [==============================] - ETA: 0s - loss: 0.9558 - accuracy: 0.5673\n",
            "Epoch 17: val_loss improved from 0.95867 to 0.95389, saving model to /content/drive/MyDrive/For-Report/CNN-Modified/weights/CNN_weights-17.h5\n",
            "35/35 [==============================] - 35s 994ms/step - loss: 0.9558 - accuracy: 0.5673 - val_loss: 0.9539 - val_accuracy: 0.5625 - lr: 1.0000e-04\n",
            "Epoch 18/100\n",
            "35/35 [==============================] - ETA: 0s - loss: 0.9368 - accuracy: 0.5727\n",
            "Epoch 18: val_loss did not improve from 0.95389\n",
            "35/35 [==============================] - 35s 989ms/step - loss: 0.9368 - accuracy: 0.5727 - val_loss: 0.9884 - val_accuracy: 0.5536 - lr: 1.0000e-04\n",
            "Epoch 19/100\n",
            "35/35 [==============================] - ETA: 0s - loss: 0.9696 - accuracy: 0.5709\n",
            "Epoch 19: val_loss improved from 0.95389 to 0.92381, saving model to /content/drive/MyDrive/For-Report/CNN-Modified/weights/CNN_weights-19.h5\n",
            "35/35 [==============================] - 35s 990ms/step - loss: 0.9696 - accuracy: 0.5709 - val_loss: 0.9238 - val_accuracy: 0.5893 - lr: 1.0000e-04\n",
            "Epoch 20/100\n",
            "35/35 [==============================] - ETA: 0s - loss: 0.9491 - accuracy: 0.5836\n",
            "Epoch 20: val_loss improved from 0.92381 to 0.82615, saving model to /content/drive/MyDrive/For-Report/CNN-Modified/weights/CNN_weights-20.h5\n",
            "35/35 [==============================] - 36s 1s/step - loss: 0.9491 - accuracy: 0.5836 - val_loss: 0.8262 - val_accuracy: 0.6250 - lr: 1.0000e-04\n",
            "Epoch 21/100\n",
            "35/35 [==============================] - ETA: 0s - loss: 0.9345 - accuracy: 0.5764\n",
            "Epoch 21: val_loss did not improve from 0.82615\n",
            "35/35 [==============================] - 34s 986ms/step - loss: 0.9345 - accuracy: 0.5764 - val_loss: 0.8824 - val_accuracy: 0.6250 - lr: 1.0000e-04\n",
            "Epoch 22/100\n",
            "35/35 [==============================] - ETA: 0s - loss: 0.9295 - accuracy: 0.5691\n",
            "Epoch 22: val_loss did not improve from 0.82615\n",
            "35/35 [==============================] - 34s 969ms/step - loss: 0.9295 - accuracy: 0.5691 - val_loss: 0.9934 - val_accuracy: 0.5893 - lr: 1.0000e-04\n",
            "Epoch 23/100\n",
            "35/35 [==============================] - ETA: 0s - loss: 0.9158 - accuracy: 0.5945\n",
            "Epoch 23: val_loss did not improve from 0.82615\n",
            "35/35 [==============================] - 35s 1000ms/step - loss: 0.9158 - accuracy: 0.5945 - val_loss: 1.0788 - val_accuracy: 0.5179 - lr: 1.0000e-04\n",
            "Epoch 24/100\n",
            "35/35 [==============================] - ETA: 0s - loss: 0.9381 - accuracy: 0.5927\n",
            "Epoch 24: val_loss did not improve from 0.82615\n",
            "35/35 [==============================] - 37s 1s/step - loss: 0.9381 - accuracy: 0.5927 - val_loss: 1.1096 - val_accuracy: 0.5446 - lr: 1.0000e-04\n",
            "Epoch 25/100\n",
            "35/35 [==============================] - ETA: 0s - loss: 0.9050 - accuracy: 0.6164\n",
            "Epoch 25: val_loss did not improve from 0.82615\n",
            "\n",
            "Epoch 25: ReduceLROnPlateau reducing learning rate to 9.999999747378752e-06.\n",
            "35/35 [==============================] - 39s 1s/step - loss: 0.9050 - accuracy: 0.6164 - val_loss: 0.9146 - val_accuracy: 0.5893 - lr: 1.0000e-04\n",
            "Epoch 26/100\n",
            "35/35 [==============================] - ETA: 0s - loss: 0.8287 - accuracy: 0.6345\n",
            "Epoch 26: val_loss improved from 0.82615 to 0.76768, saving model to /content/drive/MyDrive/For-Report/CNN-Modified/weights/CNN_weights-26.h5\n",
            "35/35 [==============================] - 35s 993ms/step - loss: 0.8287 - accuracy: 0.6345 - val_loss: 0.7677 - val_accuracy: 0.6518 - lr: 1.0000e-05\n",
            "Epoch 27/100\n",
            "35/35 [==============================] - ETA: 0s - loss: 0.8393 - accuracy: 0.6600\n",
            "Epoch 27: val_loss did not improve from 0.76768\n",
            "35/35 [==============================] - 34s 979ms/step - loss: 0.8393 - accuracy: 0.6600 - val_loss: 0.8075 - val_accuracy: 0.6250 - lr: 1.0000e-05\n",
            "Epoch 28/100\n",
            "35/35 [==============================] - ETA: 0s - loss: 0.8073 - accuracy: 0.6418\n",
            "Epoch 28: val_loss did not improve from 0.76768\n",
            "35/35 [==============================] - 35s 1s/step - loss: 0.8073 - accuracy: 0.6418 - val_loss: 0.7686 - val_accuracy: 0.6429 - lr: 1.0000e-05\n",
            "Epoch 29/100\n",
            "35/35 [==============================] - ETA: 0s - loss: 0.7978 - accuracy: 0.6673\n",
            "Epoch 29: val_loss did not improve from 0.76768\n",
            "35/35 [==============================] - 36s 1s/step - loss: 0.7978 - accuracy: 0.6673 - val_loss: 0.7987 - val_accuracy: 0.6071 - lr: 1.0000e-05\n",
            "Epoch 30/100\n",
            "35/35 [==============================] - ETA: 0s - loss: 0.8202 - accuracy: 0.6600\n",
            "Epoch 30: val_loss did not improve from 0.76768\n",
            "35/35 [==============================] - 34s 986ms/step - loss: 0.8202 - accuracy: 0.6600 - val_loss: 0.7867 - val_accuracy: 0.6250 - lr: 1.0000e-05\n",
            "Epoch 31/100\n",
            "35/35 [==============================] - ETA: 0s - loss: 0.8068 - accuracy: 0.6564\n",
            "Epoch 31: val_loss improved from 0.76768 to 0.72255, saving model to /content/drive/MyDrive/For-Report/CNN-Modified/weights/CNN_weights-31.h5\n",
            "35/35 [==============================] - 34s 977ms/step - loss: 0.8068 - accuracy: 0.6564 - val_loss: 0.7225 - val_accuracy: 0.7054 - lr: 1.0000e-05\n",
            "Epoch 32/100\n",
            "35/35 [==============================] - ETA: 0s - loss: 0.8048 - accuracy: 0.6545\n",
            "Epoch 32: val_loss did not improve from 0.72255\n",
            "35/35 [==============================] - 39s 1s/step - loss: 0.8048 - accuracy: 0.6545 - val_loss: 0.7760 - val_accuracy: 0.6518 - lr: 1.0000e-05\n",
            "Epoch 33/100\n",
            "35/35 [==============================] - ETA: 0s - loss: 0.8001 - accuracy: 0.6564\n",
            "Epoch 33: val_loss did not improve from 0.72255\n",
            "35/35 [==============================] - 36s 1s/step - loss: 0.8001 - accuracy: 0.6564 - val_loss: 0.7990 - val_accuracy: 0.6339 - lr: 1.0000e-05\n",
            "Epoch 34/100\n",
            "35/35 [==============================] - ETA: 0s - loss: 0.7759 - accuracy: 0.6782\n",
            "Epoch 34: val_loss did not improve from 0.72255\n",
            "35/35 [==============================] - 35s 986ms/step - loss: 0.7759 - accuracy: 0.6782 - val_loss: 0.7943 - val_accuracy: 0.6250 - lr: 1.0000e-05\n",
            "Epoch 35/100\n",
            "35/35 [==============================] - ETA: 0s - loss: 0.7945 - accuracy: 0.6636\n",
            "Epoch 35: val_loss did not improve from 0.72255\n",
            "35/35 [==============================] - 35s 1s/step - loss: 0.7945 - accuracy: 0.6636 - val_loss: 0.7233 - val_accuracy: 0.6786 - lr: 1.0000e-05\n",
            "Epoch 36/100\n",
            "35/35 [==============================] - ETA: 0s - loss: 0.7926 - accuracy: 0.6673\n",
            "Epoch 36: val_loss did not improve from 0.72255\n",
            "\n",
            "Epoch 36: ReduceLROnPlateau reducing learning rate to 9.999999747378752e-07.\n",
            "35/35 [==============================] - 34s 972ms/step - loss: 0.7926 - accuracy: 0.6673 - val_loss: 0.7406 - val_accuracy: 0.6875 - lr: 1.0000e-05\n",
            "Epoch 37/100\n",
            "35/35 [==============================] - ETA: 0s - loss: 0.7497 - accuracy: 0.7073\n",
            "Epoch 37: val_loss did not improve from 0.72255\n",
            "35/35 [==============================] - 35s 1s/step - loss: 0.7497 - accuracy: 0.7073 - val_loss: 0.7642 - val_accuracy: 0.6607 - lr: 1.0000e-06\n",
            "Epoch 38/100\n",
            "35/35 [==============================] - ETA: 0s - loss: 0.7779 - accuracy: 0.6564\n",
            "Epoch 38: val_loss did not improve from 0.72255\n",
            "35/35 [==============================] - 35s 999ms/step - loss: 0.7779 - accuracy: 0.6564 - val_loss: 0.7305 - val_accuracy: 0.6875 - lr: 1.0000e-06\n",
            "Epoch 39/100\n",
            "35/35 [==============================] - ETA: 0s - loss: 0.7687 - accuracy: 0.6873\n",
            "Epoch 39: val_loss did not improve from 0.72255\n",
            "35/35 [==============================] - 35s 1s/step - loss: 0.7687 - accuracy: 0.6873 - val_loss: 0.7561 - val_accuracy: 0.6518 - lr: 1.0000e-06\n",
            "Epoch 40/100\n",
            "35/35 [==============================] - ETA: 0s - loss: 0.7827 - accuracy: 0.6782\n",
            "Epoch 40: val_loss did not improve from 0.72255\n",
            "35/35 [==============================] - 35s 983ms/step - loss: 0.7827 - accuracy: 0.6782 - val_loss: 0.7358 - val_accuracy: 0.6607 - lr: 1.0000e-06\n",
            "Epoch 41/100\n",
            "35/35 [==============================] - ETA: 0s - loss: 0.7643 - accuracy: 0.6982\n",
            "Epoch 41: val_loss did not improve from 0.72255\n",
            "\n",
            "Epoch 41: ReduceLROnPlateau reducing learning rate to 9.999999974752428e-08.\n",
            "35/35 [==============================] - 40s 1s/step - loss: 0.7643 - accuracy: 0.6982 - val_loss: 0.7684 - val_accuracy: 0.6429 - lr: 1.0000e-06\n",
            "Epoch 42/100\n",
            "35/35 [==============================] - ETA: 0s - loss: 0.7597 - accuracy: 0.6873\n",
            "Epoch 42: val_loss did not improve from 0.72255\n",
            "35/35 [==============================] - 39s 1s/step - loss: 0.7597 - accuracy: 0.6873 - val_loss: 0.7343 - val_accuracy: 0.6607 - lr: 1.0000e-07\n",
            "Epoch 43/100\n",
            "35/35 [==============================] - ETA: 0s - loss: 0.7651 - accuracy: 0.6964\n",
            "Epoch 43: val_loss did not improve from 0.72255\n",
            "35/35 [==============================] - 36s 1s/step - loss: 0.7651 - accuracy: 0.6964 - val_loss: 0.7416 - val_accuracy: 0.6518 - lr: 1.0000e-07\n",
            "Epoch 44/100\n",
            "35/35 [==============================] - ETA: 0s - loss: 0.7686 - accuracy: 0.6800\n",
            "Epoch 44: val_loss did not improve from 0.72255\n",
            "35/35 [==============================] - 35s 986ms/step - loss: 0.7686 - accuracy: 0.6800 - val_loss: 0.7475 - val_accuracy: 0.6607 - lr: 1.0000e-07\n",
            "Epoch 45/100\n",
            "35/35 [==============================] - ETA: 0s - loss: 0.7740 - accuracy: 0.6873\n",
            "Epoch 45: val_loss did not improve from 0.72255\n",
            "35/35 [==============================] - 35s 985ms/step - loss: 0.7740 - accuracy: 0.6873 - val_loss: 0.7465 - val_accuracy: 0.6518 - lr: 1.0000e-07\n",
            "Epoch 46/100\n",
            "35/35 [==============================] - ETA: 0s - loss: 0.7651 - accuracy: 0.6909\n",
            "Epoch 46: val_loss improved from 0.72255 to 0.70536, saving model to /content/drive/MyDrive/For-Report/CNN-Modified/weights/CNN_weights-46.h5\n",
            "35/35 [==============================] - 35s 992ms/step - loss: 0.7651 - accuracy: 0.6909 - val_loss: 0.7054 - val_accuracy: 0.6875 - lr: 1.0000e-07\n",
            "Epoch 47/100\n",
            "35/35 [==============================] - ETA: 0s - loss: 0.7672 - accuracy: 0.6945\n",
            "Epoch 47: val_loss did not improve from 0.70536\n",
            "35/35 [==============================] - 42s 1s/step - loss: 0.7672 - accuracy: 0.6945 - val_loss: 0.7445 - val_accuracy: 0.6607 - lr: 1.0000e-07\n",
            "Epoch 48/100\n",
            "35/35 [==============================] - ETA: 0s - loss: 0.7862 - accuracy: 0.6691\n",
            "Epoch 48: val_loss did not improve from 0.70536\n",
            "35/35 [==============================] - 35s 976ms/step - loss: 0.7862 - accuracy: 0.6691 - val_loss: 0.7484 - val_accuracy: 0.6518 - lr: 1.0000e-07\n",
            "Epoch 49/100\n",
            "35/35 [==============================] - ETA: 0s - loss: 0.7662 - accuracy: 0.6873\n",
            "Epoch 49: val_loss did not improve from 0.70536\n",
            "35/35 [==============================] - 34s 966ms/step - loss: 0.7662 - accuracy: 0.6873 - val_loss: 0.7470 - val_accuracy: 0.6696 - lr: 1.0000e-07\n",
            "Epoch 50/100\n",
            "35/35 [==============================] - ETA: 0s - loss: 0.7681 - accuracy: 0.6855\n",
            "Epoch 50: val_loss did not improve from 0.70536\n",
            "35/35 [==============================] - 35s 1s/step - loss: 0.7681 - accuracy: 0.6855 - val_loss: 0.7368 - val_accuracy: 0.6786 - lr: 1.0000e-07\n",
            "Epoch 51/100\n",
            "35/35 [==============================] - ETA: 0s - loss: 0.7885 - accuracy: 0.6873\n",
            "Epoch 51: val_loss did not improve from 0.70536\n",
            "\n",
            "Epoch 51: ReduceLROnPlateau reducing learning rate to 1.0000000116860975e-08.\n",
            "35/35 [==============================] - 40s 1s/step - loss: 0.7885 - accuracy: 0.6873 - val_loss: 0.7412 - val_accuracy: 0.6518 - lr: 1.0000e-07\n",
            "Epoch 52/100\n",
            "35/35 [==============================] - ETA: 0s - loss: 0.7872 - accuracy: 0.6527\n",
            "Epoch 52: val_loss did not improve from 0.70536\n",
            "35/35 [==============================] - 34s 985ms/step - loss: 0.7872 - accuracy: 0.6527 - val_loss: 0.7197 - val_accuracy: 0.6786 - lr: 1.0000e-08\n",
            "Epoch 53/100\n",
            "35/35 [==============================] - ETA: 0s - loss: 0.7759 - accuracy: 0.6782\n",
            "Epoch 53: val_loss did not improve from 0.70536\n",
            "35/35 [==============================] - 40s 1s/step - loss: 0.7759 - accuracy: 0.6782 - val_loss: 0.7464 - val_accuracy: 0.6518 - lr: 1.0000e-08\n",
            "Epoch 54/100\n",
            "35/35 [==============================] - ETA: 0s - loss: 0.7753 - accuracy: 0.6655\n",
            "Epoch 54: val_loss did not improve from 0.70536\n",
            "35/35 [==============================] - 36s 1s/step - loss: 0.7753 - accuracy: 0.6655 - val_loss: 0.7407 - val_accuracy: 0.6607 - lr: 1.0000e-08\n",
            "Epoch 55/100\n",
            "35/35 [==============================] - ETA: 0s - loss: 0.7659 - accuracy: 0.6855\n",
            "Epoch 55: val_loss did not improve from 0.70536\n",
            "35/35 [==============================] - 36s 1s/step - loss: 0.7659 - accuracy: 0.6855 - val_loss: 0.7340 - val_accuracy: 0.6607 - lr: 1.0000e-08\n",
            "Epoch 56/100\n",
            "35/35 [==============================] - ETA: 0s - loss: 0.7641 - accuracy: 0.6836\n",
            "Epoch 56: val_loss improved from 0.70536 to 0.69316, saving model to /content/drive/MyDrive/For-Report/CNN-Modified/weights/CNN_weights-56.h5\n",
            "35/35 [==============================] - 41s 1s/step - loss: 0.7641 - accuracy: 0.6836 - val_loss: 0.6932 - val_accuracy: 0.6786 - lr: 1.0000e-08\n",
            "Epoch 57/100\n",
            "35/35 [==============================] - ETA: 0s - loss: 0.7778 - accuracy: 0.6582\n",
            "Epoch 57: val_loss did not improve from 0.69316\n",
            "35/35 [==============================] - 36s 1s/step - loss: 0.7778 - accuracy: 0.6582 - val_loss: 0.7398 - val_accuracy: 0.6429 - lr: 1.0000e-08\n",
            "Epoch 58/100\n",
            "35/35 [==============================] - ETA: 0s - loss: 0.7859 - accuracy: 0.6782\n",
            "Epoch 58: val_loss did not improve from 0.69316\n",
            "35/35 [==============================] - 36s 1s/step - loss: 0.7859 - accuracy: 0.6782 - val_loss: 0.7072 - val_accuracy: 0.6696 - lr: 1.0000e-08\n",
            "Epoch 59/100\n",
            "35/35 [==============================] - ETA: 0s - loss: 0.7688 - accuracy: 0.6818\n",
            "Epoch 59: val_loss did not improve from 0.69316\n",
            "35/35 [==============================] - 40s 1s/step - loss: 0.7688 - accuracy: 0.6818 - val_loss: 0.7376 - val_accuracy: 0.6696 - lr: 1.0000e-08\n",
            "Epoch 60/100\n",
            "35/35 [==============================] - ETA: 0s - loss: 0.7553 - accuracy: 0.7055\n",
            "Epoch 60: val_loss did not improve from 0.69316\n",
            "35/35 [==============================] - 39s 1s/step - loss: 0.7553 - accuracy: 0.7055 - val_loss: 0.7353 - val_accuracy: 0.6607 - lr: 1.0000e-08\n",
            "Epoch 61/100\n",
            "35/35 [==============================] - ETA: 0s - loss: 0.7852 - accuracy: 0.6509\n",
            "Epoch 61: val_loss did not improve from 0.69316\n",
            "\n",
            "Epoch 61: ReduceLROnPlateau reducing learning rate to 9.999999939225292e-10.\n",
            "35/35 [==============================] - 40s 1s/step - loss: 0.7852 - accuracy: 0.6509 - val_loss: 0.7276 - val_accuracy: 0.6607 - lr: 1.0000e-08\n",
            "Epoch 62/100\n",
            "35/35 [==============================] - ETA: 0s - loss: 0.7793 - accuracy: 0.6745\n",
            "Epoch 62: val_loss did not improve from 0.69316\n",
            "35/35 [==============================] - 35s 987ms/step - loss: 0.7793 - accuracy: 0.6745 - val_loss: 0.7220 - val_accuracy: 0.6875 - lr: 1.0000e-09\n",
            "Epoch 63/100\n",
            "35/35 [==============================] - ETA: 0s - loss: 0.7924 - accuracy: 0.6655\n",
            "Epoch 63: val_loss did not improve from 0.69316\n",
            "35/35 [==============================] - 35s 997ms/step - loss: 0.7924 - accuracy: 0.6655 - val_loss: 0.7283 - val_accuracy: 0.6518 - lr: 1.0000e-09\n",
            "Epoch 64/100\n",
            "35/35 [==============================] - ETA: 0s - loss: 0.7710 - accuracy: 0.6800\n",
            "Epoch 64: val_loss did not improve from 0.69316\n",
            "35/35 [==============================] - 34s 982ms/step - loss: 0.7710 - accuracy: 0.6800 - val_loss: 0.7385 - val_accuracy: 0.6429 - lr: 1.0000e-09\n",
            "Epoch 65/100\n",
            "35/35 [==============================] - ETA: 0s - loss: 0.7536 - accuracy: 0.6836\n",
            "Epoch 65: val_loss did not improve from 0.69316\n",
            "35/35 [==============================] - 36s 1s/step - loss: 0.7536 - accuracy: 0.6836 - val_loss: 0.7397 - val_accuracy: 0.6518 - lr: 1.0000e-09\n",
            "Epoch 66/100\n",
            "35/35 [==============================] - ETA: 0s - loss: 0.7580 - accuracy: 0.6964\n",
            "Epoch 66: val_loss did not improve from 0.69316\n",
            "\n",
            "Epoch 66: ReduceLROnPlateau reducing learning rate to 9.999999717180686e-11.\n",
            "35/35 [==============================] - 34s 974ms/step - loss: 0.7580 - accuracy: 0.6964 - val_loss: 0.7549 - val_accuracy: 0.6518 - lr: 1.0000e-09\n",
            "Epoch 67/100\n",
            "35/35 [==============================] - ETA: 0s - loss: 0.7811 - accuracy: 0.7000\n",
            "Epoch 67: val_loss did not improve from 0.69316\n",
            "35/35 [==============================] - 36s 1s/step - loss: 0.7811 - accuracy: 0.7000 - val_loss: 0.7445 - val_accuracy: 0.6429 - lr: 1.0000e-10\n",
            "Epoch 68/100\n",
            "35/35 [==============================] - ETA: 0s - loss: 0.7822 - accuracy: 0.6691\n",
            "Epoch 68: val_loss did not improve from 0.69316\n",
            "35/35 [==============================] - 40s 1s/step - loss: 0.7822 - accuracy: 0.6691 - val_loss: 0.7134 - val_accuracy: 0.6786 - lr: 1.0000e-10\n",
            "Epoch 69/100\n",
            "35/35 [==============================] - ETA: 0s - loss: 0.7840 - accuracy: 0.6527\n",
            "Epoch 69: val_loss did not improve from 0.69316\n",
            "35/35 [==============================] - 35s 1s/step - loss: 0.7840 - accuracy: 0.6527 - val_loss: 0.7219 - val_accuracy: 0.6518 - lr: 1.0000e-10\n",
            "Epoch 70/100\n",
            "35/35 [==============================] - ETA: 0s - loss: 0.7595 - accuracy: 0.6714\n",
            "Epoch 70: val_loss did not improve from 0.69316\n",
            "35/35 [==============================] - 36s 1s/step - loss: 0.7595 - accuracy: 0.6714 - val_loss: 0.7449 - val_accuracy: 0.6518 - lr: 1.0000e-10\n",
            "Epoch 71/100\n",
            "35/35 [==============================] - ETA: 0s - loss: 0.7744 - accuracy: 0.6873\n",
            "Epoch 71: val_loss did not improve from 0.69316\n",
            "\n",
            "Epoch 71: ReduceLROnPlateau reducing learning rate to 9.99999943962493e-12.\n",
            "35/35 [==============================] - 35s 1s/step - loss: 0.7744 - accuracy: 0.6873 - val_loss: 0.7365 - val_accuracy: 0.6518 - lr: 1.0000e-10\n",
            "Epoch 72/100\n",
            "35/35 [==============================] - ETA: 0s - loss: 0.7596 - accuracy: 0.6982\n",
            "Epoch 72: val_loss did not improve from 0.69316\n",
            "35/35 [==============================] - 34s 977ms/step - loss: 0.7596 - accuracy: 0.6982 - val_loss: 0.7552 - val_accuracy: 0.6518 - lr: 1.0000e-11\n",
            "Epoch 73/100\n",
            "35/35 [==============================] - ETA: 0s - loss: 0.7675 - accuracy: 0.7018\n",
            "Epoch 73: val_loss did not improve from 0.69316\n",
            "35/35 [==============================] - 35s 1s/step - loss: 0.7675 - accuracy: 0.7018 - val_loss: 0.7589 - val_accuracy: 0.6518 - lr: 1.0000e-11\n",
            "Epoch 74/100\n",
            "35/35 [==============================] - ETA: 0s - loss: 0.7640 - accuracy: 0.7018\n",
            "Epoch 74: val_loss improved from 0.69316 to 0.66578, saving model to /content/drive/MyDrive/For-Report/CNN-Modified/weights/CNN_weights-74.h5\n",
            "35/35 [==============================] - 37s 1s/step - loss: 0.7640 - accuracy: 0.7018 - val_loss: 0.6658 - val_accuracy: 0.6696 - lr: 1.0000e-11\n",
            "Epoch 75/100\n",
            "35/35 [==============================] - ETA: 0s - loss: 0.7847 - accuracy: 0.6582\n",
            "Epoch 75: val_loss did not improve from 0.66578\n",
            "35/35 [==============================] - 41s 1s/step - loss: 0.7847 - accuracy: 0.6582 - val_loss: 0.7437 - val_accuracy: 0.6696 - lr: 1.0000e-11\n",
            "Epoch 76/100\n",
            "35/35 [==============================] - ETA: 0s - loss: 0.7797 - accuracy: 0.6764\n",
            "Epoch 76: val_loss did not improve from 0.66578\n",
            "35/35 [==============================] - 34s 964ms/step - loss: 0.7797 - accuracy: 0.6764 - val_loss: 0.7393 - val_accuracy: 0.6607 - lr: 1.0000e-11\n",
            "Epoch 77/100\n",
            "35/35 [==============================] - ETA: 0s - loss: 0.7807 - accuracy: 0.6655\n",
            "Epoch 77: val_loss did not improve from 0.66578\n",
            "35/35 [==============================] - 35s 1s/step - loss: 0.7807 - accuracy: 0.6655 - val_loss: 0.7039 - val_accuracy: 0.6786 - lr: 1.0000e-11\n",
            "Epoch 78/100\n",
            "35/35 [==============================] - ETA: 0s - loss: 0.7949 - accuracy: 0.6709\n",
            "Epoch 78: val_loss did not improve from 0.66578\n",
            "35/35 [==============================] - 37s 1s/step - loss: 0.7949 - accuracy: 0.6709 - val_loss: 0.7104 - val_accuracy: 0.6786 - lr: 1.0000e-11\n",
            "Epoch 79/100\n",
            "35/35 [==============================] - ETA: 0s - loss: 0.7889 - accuracy: 0.6509\n",
            "Epoch 79: val_loss did not improve from 0.66578\n",
            "\n",
            "Epoch 79: ReduceLROnPlateau reducing learning rate to 9.999999092680235e-13.\n",
            "35/35 [==============================] - 40s 1s/step - loss: 0.7889 - accuracy: 0.6509 - val_loss: 0.7313 - val_accuracy: 0.6607 - lr: 1.0000e-11\n",
            "Epoch 80/100\n",
            "35/35 [==============================] - ETA: 0s - loss: 0.7600 - accuracy: 0.7200\n",
            "Epoch 80: val_loss did not improve from 0.66578\n",
            "35/35 [==============================] - 34s 979ms/step - loss: 0.7600 - accuracy: 0.7200 - val_loss: 0.7666 - val_accuracy: 0.6429 - lr: 1.0000e-12\n",
            "Epoch 81/100\n",
            "35/35 [==============================] - ETA: 0s - loss: 0.7753 - accuracy: 0.6782\n",
            "Epoch 81: val_loss did not improve from 0.66578\n",
            "35/35 [==============================] - 35s 994ms/step - loss: 0.7753 - accuracy: 0.6782 - val_loss: 0.6913 - val_accuracy: 0.6786 - lr: 1.0000e-12\n",
            "Epoch 82/100\n",
            "35/35 [==============================] - ETA: 0s - loss: 0.7593 - accuracy: 0.6927\n",
            "Epoch 82: val_loss did not improve from 0.66578\n",
            "35/35 [==============================] - 35s 1s/step - loss: 0.7593 - accuracy: 0.6927 - val_loss: 0.7452 - val_accuracy: 0.6696 - lr: 1.0000e-12\n",
            "Epoch 83/100\n",
            "35/35 [==============================] - ETA: 0s - loss: 0.7714 - accuracy: 0.6636\n",
            "Epoch 83: val_loss did not improve from 0.66578\n",
            "35/35 [==============================] - 42s 1s/step - loss: 0.7714 - accuracy: 0.6636 - val_loss: 0.7568 - val_accuracy: 0.6429 - lr: 1.0000e-12\n",
            "Epoch 84/100\n",
            "35/35 [==============================] - ETA: 0s - loss: 0.7602 - accuracy: 0.7164\n",
            "Epoch 84: val_loss did not improve from 0.66578\n",
            "\n",
            "Epoch 84: ReduceLROnPlateau reducing learning rate to 9.9999988758398e-14.\n",
            "35/35 [==============================] - 39s 1s/step - loss: 0.7602 - accuracy: 0.7164 - val_loss: 0.7039 - val_accuracy: 0.6607 - lr: 1.0000e-12\n",
            "Epoch 85/100\n",
            "35/35 [==============================] - ETA: 0s - loss: 0.7706 - accuracy: 0.6727\n",
            "Epoch 85: val_loss did not improve from 0.66578\n",
            "35/35 [==============================] - 36s 1s/step - loss: 0.7706 - accuracy: 0.6727 - val_loss: 0.7647 - val_accuracy: 0.6339 - lr: 1.0000e-13\n",
            "Epoch 86/100\n",
            "35/35 [==============================] - ETA: 0s - loss: 0.7828 - accuracy: 0.6909\n",
            "Epoch 86: val_loss did not improve from 0.66578\n",
            "35/35 [==============================] - 35s 989ms/step - loss: 0.7828 - accuracy: 0.6909 - val_loss: 0.7526 - val_accuracy: 0.6518 - lr: 1.0000e-13\n",
            "Epoch 87/100\n",
            "35/35 [==============================] - ETA: 0s - loss: 0.7685 - accuracy: 0.6873\n",
            "Epoch 87: val_loss did not improve from 0.66578\n",
            "35/35 [==============================] - 41s 1s/step - loss: 0.7685 - accuracy: 0.6873 - val_loss: 0.7299 - val_accuracy: 0.6696 - lr: 1.0000e-13\n",
            "Epoch 88/100\n",
            "35/35 [==============================] - ETA: 0s - loss: 0.7735 - accuracy: 0.6855\n",
            "Epoch 88: val_loss did not improve from 0.66578\n",
            "35/35 [==============================] - 35s 999ms/step - loss: 0.7735 - accuracy: 0.6855 - val_loss: 0.7453 - val_accuracy: 0.6607 - lr: 1.0000e-13\n",
            "Epoch 89/100\n",
            "35/35 [==============================] - ETA: 0s - loss: 0.7708 - accuracy: 0.6727\n",
            "Epoch 89: val_loss did not improve from 0.66578\n",
            "\n",
            "Epoch 89: ReduceLROnPlateau reducing learning rate to 9.999999146890344e-15.\n",
            "35/35 [==============================] - 35s 1s/step - loss: 0.7708 - accuracy: 0.6727 - val_loss: 0.7461 - val_accuracy: 0.6518 - lr: 1.0000e-13\n",
            "Epoch 90/100\n",
            "35/35 [==============================] - ETA: 0s - loss: 0.7794 - accuracy: 0.6655\n",
            "Epoch 90: val_loss did not improve from 0.66578\n",
            "35/35 [==============================] - 35s 1s/step - loss: 0.7794 - accuracy: 0.6655 - val_loss: 0.7392 - val_accuracy: 0.6518 - lr: 1.0000e-14\n",
            "Epoch 91/100\n",
            "35/35 [==============================] - ETA: 0s - loss: 0.7747 - accuracy: 0.6782\n",
            "Epoch 91: val_loss did not improve from 0.66578\n",
            "35/35 [==============================] - 40s 1s/step - loss: 0.7747 - accuracy: 0.6782 - val_loss: 0.7485 - val_accuracy: 0.6696 - lr: 1.0000e-14\n",
            "Epoch 92/100\n",
            "35/35 [==============================] - ETA: 0s - loss: 0.7817 - accuracy: 0.6745\n",
            "Epoch 92: val_loss did not improve from 0.66578\n",
            "35/35 [==============================] - 37s 1s/step - loss: 0.7817 - accuracy: 0.6745 - val_loss: 0.7344 - val_accuracy: 0.6518 - lr: 1.0000e-14\n",
            "Epoch 93/100\n",
            "35/35 [==============================] - ETA: 0s - loss: 0.7716 - accuracy: 0.6655\n",
            "Epoch 93: val_loss did not improve from 0.66578\n",
            "35/35 [==============================] - 34s 990ms/step - loss: 0.7716 - accuracy: 0.6655 - val_loss: 0.7489 - val_accuracy: 0.6429 - lr: 1.0000e-14\n",
            "Epoch 94/100\n",
            "35/35 [==============================] - ETA: 0s - loss: 0.7716 - accuracy: 0.6745\n",
            "Epoch 94: val_loss did not improve from 0.66578\n",
            "\n",
            "Epoch 94: ReduceLROnPlateau reducing learning rate to 9.999998977483753e-16.\n",
            "Restoring model weights from the end of the best epoch: 74.\n",
            "35/35 [==============================] - 35s 1s/step - loss: 0.7716 - accuracy: 0.6745 - val_loss: 0.7311 - val_accuracy: 0.6607 - lr: 1.0000e-14\n",
            "Epoch 94: early stopping\n"
          ]
        }
      ]
    },
    {
      "cell_type": "code",
      "source": [
        "import matplotlib.pyplot as plt\n",
        "\n",
        "def plot_accuracy(history, title):\n",
        "    plt.title(title)\n",
        "    plt.plot(history.history['categorical_accuracy'])\n",
        "    plt.plot(history.history['val_categorical_accuracy'])\n",
        "    plt.ylabel('accuracy')\n",
        "    plt.xlabel('epoch')\n",
        "    plt.ylim(0, 1)\n",
        "    plt.legend(['train_accuracy', 'val_accuracy'], loc='best')\n",
        "    plt.show()\n",
        "\n",
        "def plot_loss(history, title):\n",
        "    plt.title(title)\n",
        "    plt.plot(history.history['loss'])\n",
        "    plt.plot(history.history['val_loss'])\n",
        "    plt.ylabel('loss')\n",
        "    plt.xlabel('epoch')\n",
        "    plt.ylim(0, 1)\n",
        "    plt.legend(['train_loss', 'val_loss'], loc='best')\n",
        "    plt.show()"
      ],
      "metadata": {
        "id": "Xvjll0CmRYY2"
      },
      "execution_count": 27,
      "outputs": []
    },
    {
      "cell_type": "code",
      "source": [
        "def plot_accuracy(history, title):\n",
        "    plt.title(title)\n",
        "    plt.plot(history.history['accuracy'])  # Replace with 'accuracy' if that's the key in your history\n",
        "    plt.plot(history.history['val_accuracy'])  # Replace with 'val_accuracy' accordingly\n",
        "    plt.ylabel('Accuracy')\n",
        "    plt.xlabel('Epoch')\n",
        "    plt.ylim(0, 1)\n",
        "    plt.legend(['Train Accuracy', 'Validation Accuracy'], loc='best')\n",
        "    plt.show()\n",
        "\n",
        "# Call plot_accuracy with your history object\n",
        "plot_accuracy(history, 'Model Accuracy')\n"
      ],
      "metadata": {
        "colab": {
          "base_uri": "https://localhost:8080/",
          "height": 472
        },
        "id": "xubLnJYyRYde",
        "outputId": "ccce3773-140b-4d90-a30e-326556b086a4"
      },
      "execution_count": 30,
      "outputs": [
        {
          "output_type": "display_data",
          "data": {
            "text/plain": [
              "<Figure size 640x480 with 1 Axes>"
            ],
            "image/png": "[encoded data removed]"
          },
          "metadata": {}
        }
      ]
    },
    {
      "cell_type": "code",
      "source": [
        "\n",
        "#model = create_model()\n",
        "model.load_weights('/content/drive/MyDrive/For-Report/CNN-Modified/weights/CNN_weights-37.h5')\n"
      ],
      "metadata": {
        "id": "K8GE1LGURYg7"
      },
      "execution_count": null,
      "outputs": []
    },
    {
      "cell_type": "code",
      "source": [
        "# Assume the model.predict() call returns a predictions object\n",
        "predictions = model.predict(test_generator, verbose=0)\n",
        "\n",
        "# Getting the index of the highest probability class per image\n",
        "y_pred = np.argmax(predictions, axis=1)\n",
        "\n",
        "# Getting the true labels per image\n",
        "y_true = test_generator.classes\n",
        "\n",
        "# Getting the class names (labels) from the generator\n",
        "class_names = list(test_generator.class_indices.keys())\n",
        "\n",
        "# Printing the classification report\n",
        "report = classification_report(y_true, y_pred, target_names=class_names)\n",
        "print(\"\\nClassification Report:\")\n",
        "print(report)"
      ],
      "metadata": {
        "id": "DP8ZGqcgRM4z"
      },
      "execution_count": null,
      "outputs": []
    },
    {
      "cell_type": "code",
      "source": [
        "\n",
        "from sklearn import metrics\n",
        "from mlxtend.plotting import plot_confusion_matrix\n",
        "import matplotlib.pyplot as plt# Compute confusion matrix\n",
        "cm = metrics.confusion_matrix(y_true, y_pred)\n",
        "\n",
        "# Plot the confusion matrix using mlxtend's `plot_confusion_matrix`\n",
        "figure, ax = plot_confusion_matrix(conf_mat=cm,\n",
        "                                   show_absolute=True,\n",
        "                                   show_normed=False,\n",
        "                                   colorbar=True,\n",
        "                                   class_names=class_names,\n",
        "                                   figsize=(7, 7))\n",
        "plt.show()"
      ],
      "metadata": {
        "id": "-MHXsbFbR0dr"
      },
      "execution_count": null,
      "outputs": []
    },
    {
      "cell_type": "code",
      "source": [],
      "metadata": {
        "id": "NggddGl8R0gW"
      },
      "execution_count": null,
      "outputs": []
    },
    {
      "cell_type": "code",
      "source": [],
      "metadata": {
        "id": "t_ZYJRw-R0jp"
      },
      "execution_count": null,
      "outputs": []
    }
  ]
}