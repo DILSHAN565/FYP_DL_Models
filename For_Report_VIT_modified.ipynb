{
  "nbformat": 4,
  "nbformat_minor": 0,
  "metadata": {
    "colab": {
      "provenance": [],
      "gpuType": "T4",
      "authorship_tag": "ABX9TyPfhsHznznZVlN6EssVZ09I",
      "include_colab_link": true
    },
    "kernelspec": {
      "name": "python3",
      "display_name": "Python 3"
    },
    "language_info": {
      "name": "python"
    },
    "accelerator": "GPU"
  },
  "cells": [
    {
      "cell_type": "markdown",
      "metadata": {
        "id": "view-in-github",
        "colab_type": "text"
      },
      "source": [
        "<a href=\"https://colab.research.google.com/github/DILSHAN565/FYP_DL_Models/blob/main/For_Report_VIT_modified.ipynb\" target=\"_parent\"><img src=\"https://colab.research.google.com/assets/colab-badge.svg\" alt=\"Open In Colab\"/></a>"
      ]
    },
    {
      "cell_type": "code",
      "execution_count": 2,
      "metadata": {
        "colab": {
          "base_uri": "https://localhost:8080/"
        },
        "id": "kDtWjwGL02MF",
        "outputId": "c200f9e8-c81a-4f66-e0aa-c21a6949dfc7"
      },
      "outputs": [
        {
          "output_type": "stream",
          "name": "stdout",
          "text": [
            "Mounted at /content/drive\n"
          ]
        }
      ],
      "source": [
        "# Open In Colab\n",
        "from google.colab import drive\n",
        "drive.mount('/content/drive')"
      ]
    },
    {
      "cell_type": "code",
      "source": [
        "import os\n",
        "\n",
        "# Define the path to the directory containing your dataset\n",
        "directory_path = '/content/drive/My Drive/Tea-Leaf-Diseases-Dataset'\n",
        "\n",
        "# List all files in the directory\n",
        "files = os.listdir(directory_path)\n",
        "\n",
        "# Print the list of files\n",
        "print(files)"
      ],
      "metadata": {
        "colab": {
          "base_uri": "https://localhost:8080/"
        },
        "id": "PqUkpR8303Yy",
        "outputId": "e518a8d8-9dde-40f6-d721-70938c7b3e2f"
      },
      "execution_count": 3,
      "outputs": [
        {
          "output_type": "stream",
          "name": "stdout",
          "text": [
            "['train', 'validation', 'test']\n"
          ]
        }
      ]
    },
    {
      "cell_type": "code",
      "source": [
        "# Install necessary packages\n",
        "!pip -q install vit_keras tensorflow-addons\n",
        "!pip -q install --upgrade --no-cache-dir gdown"
      ],
      "metadata": {
        "colab": {
          "base_uri": "https://localhost:8080/"
        },
        "id": "Fn4xwLsp1AwJ",
        "outputId": "7d574ce7-49e0-45e4-f51c-900c03c7ad1d"
      },
      "execution_count": 4,
      "outputs": [
        {
          "output_type": "stream",
          "name": "stdout",
          "text": [
            "\u001b[?25l     \u001b[90m━━━━━━━━━━━━━━━━━━━━━━━━━━━━━━━━━━━━━━━━\u001b[0m \u001b[32m0.0/611.8 kB\u001b[0m \u001b[31m?\u001b[0m eta \u001b[36m-:--:--\u001b[0m\r\u001b[2K     \u001b[91m━━━━━━━━━━━━━━━━━━━━━━\u001b[0m\u001b[90m╺\u001b[0m\u001b[90m━━━━━━━━━━━━━━━━━\u001b[0m \u001b[32m337.9/611.8 kB\u001b[0m \u001b[31m10.1 MB/s\u001b[0m eta \u001b[36m0:00:01\u001b[0m\r\u001b[2K     \u001b[90m━━━━━━━━━━━━━━━━━━━━━━━━━━━━━━━━━━━━━━━━\u001b[0m \u001b[32m611.8/611.8 kB\u001b[0m \u001b[31m9.7 MB/s\u001b[0m eta \u001b[36m0:00:00\u001b[0m\n",
            "\u001b[?25h\u001b[?25l     \u001b[90m━━━━━━━━━━━━━━━━━━━━━━━━━━━━━━━━━━━━━━━━\u001b[0m \u001b[32m0.0/41.4 kB\u001b[0m \u001b[31m?\u001b[0m eta \u001b[36m-:--:--\u001b[0m\r\u001b[2K     \u001b[90m━━━━━━━━━━━━━━━━━━━━━━━━━━━━━━━━━━━━━━━━\u001b[0m \u001b[32m41.4/41.4 kB\u001b[0m \u001b[31m5.5 MB/s\u001b[0m eta \u001b[36m0:00:00\u001b[0m\n",
            "\u001b[?25h"
          ]
        }
      ]
    },
    {
      "cell_type": "code",
      "source": [
        "import numpy as np\n",
        "import tensorflow as tf\n",
        "import tensorflow_addons as tfa\n",
        "from tensorflow.keras.layers import Dense, Flatten\n",
        "from tensorflow.keras.optimizers import Adam\n",
        "from vit_keras import vit\n",
        "from sklearn.metrics import classification_report, confusion_matrix\n",
        "import warnings\n",
        "warnings.filterwarnings(\"ignore\")"
      ],
      "metadata": {
        "colab": {
          "base_uri": "https://localhost:8080/"
        },
        "id": "JIUrnS9Y1D6v",
        "outputId": "7f184227-74ab-4b67-9784-4910d64b92f5"
      },
      "execution_count": 5,
      "outputs": [
        {
          "output_type": "stream",
          "name": "stderr",
          "text": [
            "/usr/local/lib/python3.10/dist-packages/tensorflow_addons/utils/tfa_eol_msg.py:23: UserWarning: \n",
            "\n",
            "TensorFlow Addons (TFA) has ended development and introduction of new features.\n",
            "TFA has entered a minimal maintenance and release mode until a planned end of life in May 2024.\n",
            "Please modify downstream libraries to take dependencies from other repositories in our TensorFlow community (e.g. Keras, Keras-CV, and Keras-NLP). \n",
            "\n",
            "For more information see: https://github.com/tensorflow/addons/issues/2807 \n",
            "\n",
            "  warnings.warn(\n"
          ]
        }
      ]
    },
    {
      "cell_type": "code",
      "source": [
        "SEED = 42\n",
        "np.random.seed(SEED)"
      ],
      "metadata": {
        "id": "b6T9pPWo1HH-"
      },
      "execution_count": 6,
      "outputs": []
    },
    {
      "cell_type": "code",
      "source": [
        "# Insert the Dataset path here\n",
        "train_path = '/content/drive/MyDrive/Tea-Leaf-Diseases-Dataset/train'\n",
        "val_path = '/content/drive/MyDrive/Tea-Leaf-Diseases-Dataset/validation'\n",
        "test_path = '/content/drive/MyDrive/Tea-Leaf-Diseases-Dataset/test'\n"
      ],
      "metadata": {
        "id": "eCN-bHsu1Jrj"
      },
      "execution_count": 7,
      "outputs": []
    },
    {
      "cell_type": "code",
      "source": [
        "IMAGE_SIZE = 224\n",
        "BATCH_SIZE = 16\n",
        "EPOCHS = 100\n",
        "LEARNING_RATE = 1e-4"
      ],
      "metadata": {
        "id": "n17wlfzo1Pc1"
      },
      "execution_count": 8,
      "outputs": []
    },
    {
      "cell_type": "code",
      "source": [
        "train_datagen = tf.keras.preprocessing.image.ImageDataGenerator(rescale=1./255,\n",
        "                                   rotation_range=360,\n",
        "                                   height_shift_range=0.1,\n",
        "                                   shear_range=0.1,\n",
        "                                   zoom_range=0.1,\n",
        "                                   fill_mode='nearest',\n",
        "                                   brightness_range=[0.8, 1.4],\n",
        "                                   vertical_flip=True,\n",
        "                                   horizontal_flip=True)\n",
        "\n",
        "val_datagen = tf.keras.preprocessing.image.ImageDataGenerator(rescale=1./255)\n",
        "test_datagen = tf.keras.preprocessing.image.ImageDataGenerator(rescale=1./255)\n",
        "\n",
        "train_generator = train_datagen.flow_from_directory(\n",
        "    train_path,\n",
        "    target_size=(IMAGE_SIZE, IMAGE_SIZE),\n",
        "    batch_size=BATCH_SIZE,\n",
        "    class_mode='categorical')\n",
        "\n",
        "validation_generator = val_datagen.flow_from_directory(\n",
        "    val_path,\n",
        "    target_size=(IMAGE_SIZE, IMAGE_SIZE),\n",
        "    batch_size=BATCH_SIZE,\n",
        "    class_mode='categorical')\n",
        "\n",
        "test_generator = test_datagen.flow_from_directory(\n",
        "    test_path,\n",
        "    target_size=(IMAGE_SIZE, IMAGE_SIZE),\n",
        "    batch_size=BATCH_SIZE,\n",
        "    class_mode='categorical',\n",
        "    shuffle=False)"
      ],
      "metadata": {
        "colab": {
          "base_uri": "https://localhost:8080/"
        },
        "id": "1f9MfN5s1RvK",
        "outputId": "fbbb5369-c102-4816-b074-52169d9816b7"
      },
      "execution_count": 9,
      "outputs": [
        {
          "output_type": "stream",
          "name": "stdout",
          "text": [
            "Found 566 images belonging to 8 classes.\n",
            "Found 123 images belonging to 8 classes.\n",
            "Found 124 images belonging to 8 classes.\n"
          ]
        }
      ]
    },
    {
      "cell_type": "code",
      "source": [
        "def create_model():\n",
        "    vit_model = vit.vit_b16(\n",
        "        image_size=IMAGE_SIZE,\n",
        "        activation='softmax',\n",
        "        pretrained=True,\n",
        "        include_top=False,\n",
        "        pretrained_top=False)\n",
        "\n",
        "    model = tf.keras.Sequential([\n",
        "        vit_model,\n",
        "        Flatten(),\n",
        "        Dense(8, activation='softmax') # Change to 8 for tea leaf disease classification\n",
        "    ])\n",
        "\n",
        "    model.compile(optimizer=Adam(learning_rate=LEARNING_RATE),\n",
        "                  loss=tf.keras.losses.CategoricalCrossentropy(),\n",
        "                  metrics=[tf.keras.metrics.CategoricalAccuracy()])\n",
        "\n",
        "    return model"
      ],
      "metadata": {
        "id": "IE_qSl-K1WNV"
      },
      "execution_count": 10,
      "outputs": []
    },
    {
      "cell_type": "code",
      "source": [
        "model = create_model()\n",
        "model.summary()"
      ],
      "metadata": {
        "colab": {
          "base_uri": "https://localhost:8080/"
        },
        "id": "82sLNPNa1ZUq",
        "outputId": "84c26ac7-cfd1-4fdc-c49c-42983bdc3bec"
      },
      "execution_count": 11,
      "outputs": [
        {
          "output_type": "stream",
          "name": "stdout",
          "text": [
            "Downloading data from https://github.com/faustomorales/vit-keras/releases/download/dl/ViT-B_16_imagenet21k+imagenet2012.npz\n",
            "347502902/347502902 [==============================] - 6s 0us/step\n",
            "Model: \"sequential\"\n",
            "_________________________________________________________________\n",
            " Layer (type)                Output Shape              Param #   \n",
            "=================================================================\n",
            " vit-b16 (Functional)        (None, 768)               85798656  \n",
            "                                                                 \n",
            " flatten (Flatten)           (None, 768)               0         \n",
            "                                                                 \n",
            " dense (Dense)               (None, 8)                 6152      \n",
            "                                                                 \n",
            "=================================================================\n",
            "Total params: 85804808 (327.32 MB)\n",
            "Trainable params: 85804808 (327.32 MB)\n",
            "Non-trainable params: 0 (0.00 Byte)\n",
            "_________________________________________________________________\n"
          ]
        }
      ]
    },
    {
      "cell_type": "code",
      "source": [
        "import os\n",
        "from tensorflow.keras.callbacks import EarlyStopping, ModelCheckpoint, ReduceLROnPlateau, CSVLogger\n"
      ],
      "metadata": {
        "id": "qL8PP4d21csh"
      },
      "execution_count": 12,
      "outputs": []
    },
    {
      "cell_type": "code",
      "source": [
        "# Define the directory for saving model artifacts\n",
        "save_dir = '/content/drive/MyDrive/For-Report/VIT-Modified'\n",
        "\n",
        "# Ensure the base directory exists\n",
        "os.makedirs(save_dir, exist_ok=True)\n",
        "\n",
        "# Specific directory for saving weights\n",
        "weights_dir = os.path.join(save_dir, 'weights')\n",
        "os.makedirs(weights_dir, exist_ok=True)\n",
        "\n",
        "# Directory for logging CSV data\n",
        "logs_dir = os.path.join(save_dir, 'logs')\n",
        "os.makedirs(logs_dir, exist_ok=True)"
      ],
      "metadata": {
        "id": "vHJoU-CI1ind"
      },
      "execution_count": 13,
      "outputs": []
    },
    {
      "cell_type": "code",
      "source": [
        "# ModelCheckpoint: Save the best model weights\n",
        "model_checkpoint_callback = ModelCheckpoint(\n",
        "    filepath=os.path.join(weights_dir, 'ViT_weights-{epoch:02d}.h5'),\n",
        "    save_weights_only=True,\n",
        "    monitor='val_loss',  # Change to 'val_loss' if you want to monitor validation loss instead\n",
        "    mode='min',  # Use 'min' if monitoring 'val_loss'\n",
        "    save_best_only=True,\n",
        "    verbose=1\n",
        ")\n",
        "\n",
        "# ReduceLROnPlateau: Reduce learning rate when a metric has stopped improving\n",
        "reduce_lr_callback = ReduceLROnPlateau(\n",
        "    monitor='val_loss',\n",
        "    factor=0.1,\n",
        "    patience=5,\n",
        "    verbose=1\n",
        ")\n",
        "\n",
        "# CSVLogger: Log training data into a CSV file\n",
        "csv_logger_callback = CSVLogger(\n",
        "    os.path.join(logs_dir, 'training_log.csv')\n",
        ")\n",
        "\n",
        "# EarlyStopping: Stop training when a monitored metric has stopped improving\n",
        "early_stopping_callback = EarlyStopping(\n",
        "    monitor='val_loss',\n",
        "    patience=20,\n",
        "    verbose=1,\n",
        "    restore_best_weights=True\n",
        ")\n",
        "\n",
        "# Combine all callbacks\n",
        "callbacks = [\n",
        "    model_checkpoint_callback,\n",
        "    reduce_lr_callback,\n",
        "    csv_logger_callback,\n",
        "    early_stopping_callback\n",
        "]\n"
      ],
      "metadata": {
        "id": "wdf3rFtw1qWT"
      },
      "execution_count": 14,
      "outputs": []
    },
    {
      "cell_type": "code",
      "source": [
        "# Now, you can use this `callbacks` list when fitting your model\n",
        "history = model.fit(\n",
        "    train_generator,\n",
        "    validation_data=validation_generator,\n",
        "    epochs=100,\n",
        "    steps_per_epoch=train_generator.samples // BATCH_SIZE,\n",
        "    validation_steps=validation_generator.samples // BATCH_SIZE,\n",
        "    callbacks=callbacks\n",
        ")"
      ],
      "metadata": {
        "colab": {
          "base_uri": "https://localhost:8080/"
        },
        "id": "N6UtAvJf1uV9",
        "outputId": "5273a924-718f-4817-acc8-0000c9eafc5e"
      },
      "execution_count": 15,
      "outputs": [
        {
          "output_type": "stream",
          "name": "stdout",
          "text": [
            "Epoch 1/100\n",
            "35/35 [==============================] - ETA: 0s - loss: 1.2711 - categorical_accuracy: 0.5545\n",
            "Epoch 1: val_loss improved from inf to 1.10607, saving model to /content/drive/MyDrive/For-Report/VIT-Modified/weights/ViT_weights-01.h5\n",
            "35/35 [==============================] - 443s 11s/step - loss: 1.2711 - categorical_accuracy: 0.5545 - val_loss: 1.1061 - val_categorical_accuracy: 0.5893 - lr: 1.0000e-04\n",
            "Epoch 2/100\n",
            "35/35 [==============================] - ETA: 0s - loss: 0.6248 - categorical_accuracy: 0.7509\n",
            "Epoch 2: val_loss improved from 1.10607 to 0.68709, saving model to /content/drive/MyDrive/For-Report/VIT-Modified/weights/ViT_weights-02.h5\n",
            "35/35 [==============================] - 61s 2s/step - loss: 0.6248 - categorical_accuracy: 0.7509 - val_loss: 0.6871 - val_categorical_accuracy: 0.6875 - lr: 1.0000e-04\n",
            "Epoch 3/100\n",
            "35/35 [==============================] - ETA: 0s - loss: 0.4767 - categorical_accuracy: 0.8073\n",
            "Epoch 3: val_loss improved from 0.68709 to 0.44807, saving model to /content/drive/MyDrive/For-Report/VIT-Modified/weights/ViT_weights-03.h5\n",
            "35/35 [==============================] - 59s 2s/step - loss: 0.4767 - categorical_accuracy: 0.8073 - val_loss: 0.4481 - val_categorical_accuracy: 0.8214 - lr: 1.0000e-04\n",
            "Epoch 4/100\n",
            "35/35 [==============================] - ETA: 0s - loss: 0.4220 - categorical_accuracy: 0.8345\n",
            "Epoch 4: val_loss improved from 0.44807 to 0.42752, saving model to /content/drive/MyDrive/For-Report/VIT-Modified/weights/ViT_weights-04.h5\n",
            "35/35 [==============================] - 52s 1s/step - loss: 0.4220 - categorical_accuracy: 0.8345 - val_loss: 0.4275 - val_categorical_accuracy: 0.8571 - lr: 1.0000e-04\n",
            "Epoch 5/100\n",
            "35/35 [==============================] - ETA: 0s - loss: 0.2497 - categorical_accuracy: 0.9073\n",
            "Epoch 5: val_loss did not improve from 0.42752\n",
            "35/35 [==============================] - 50s 1s/step - loss: 0.2497 - categorical_accuracy: 0.9073 - val_loss: 0.5969 - val_categorical_accuracy: 0.7679 - lr: 1.0000e-04\n",
            "Epoch 6/100\n",
            "35/35 [==============================] - ETA: 0s - loss: 0.2156 - categorical_accuracy: 0.9255\n",
            "Epoch 6: val_loss did not improve from 0.42752\n",
            "35/35 [==============================] - 44s 1s/step - loss: 0.2156 - categorical_accuracy: 0.9255 - val_loss: 0.5349 - val_categorical_accuracy: 0.8393 - lr: 1.0000e-04\n",
            "Epoch 7/100\n",
            "35/35 [==============================] - ETA: 0s - loss: 0.1773 - categorical_accuracy: 0.9436\n",
            "Epoch 7: val_loss improved from 0.42752 to 0.29178, saving model to /content/drive/MyDrive/For-Report/VIT-Modified/weights/ViT_weights-07.h5\n",
            "35/35 [==============================] - 47s 1s/step - loss: 0.1773 - categorical_accuracy: 0.9436 - val_loss: 0.2918 - val_categorical_accuracy: 0.8929 - lr: 1.0000e-04\n",
            "Epoch 8/100\n",
            "35/35 [==============================] - ETA: 0s - loss: 0.1575 - categorical_accuracy: 0.9418\n",
            "Epoch 8: val_loss did not improve from 0.29178\n",
            "35/35 [==============================] - 52s 1s/step - loss: 0.1575 - categorical_accuracy: 0.9418 - val_loss: 0.5293 - val_categorical_accuracy: 0.8571 - lr: 1.0000e-04\n",
            "Epoch 9/100\n",
            "35/35 [==============================] - ETA: 0s - loss: 0.1792 - categorical_accuracy: 0.9327\n",
            "Epoch 9: val_loss did not improve from 0.29178\n",
            "35/35 [==============================] - 44s 1s/step - loss: 0.1792 - categorical_accuracy: 0.9327 - val_loss: 0.8432 - val_categorical_accuracy: 0.7946 - lr: 1.0000e-04\n",
            "Epoch 10/100\n",
            "35/35 [==============================] - ETA: 0s - loss: 0.1613 - categorical_accuracy: 0.9446\n",
            "Epoch 10: val_loss did not improve from 0.29178\n",
            "35/35 [==============================] - 48s 1s/step - loss: 0.1613 - categorical_accuracy: 0.9446 - val_loss: 0.4646 - val_categorical_accuracy: 0.8482 - lr: 1.0000e-04\n",
            "Epoch 11/100\n",
            "35/35 [==============================] - ETA: 0s - loss: 0.1803 - categorical_accuracy: 0.9255\n",
            "Epoch 11: val_loss did not improve from 0.29178\n",
            "35/35 [==============================] - 48s 1s/step - loss: 0.1803 - categorical_accuracy: 0.9255 - val_loss: 0.6952 - val_categorical_accuracy: 0.7679 - lr: 1.0000e-04\n",
            "Epoch 12/100\n",
            "35/35 [==============================] - ETA: 0s - loss: 0.1801 - categorical_accuracy: 0.9345\n",
            "Epoch 12: val_loss did not improve from 0.29178\n",
            "\n",
            "Epoch 12: ReduceLROnPlateau reducing learning rate to 9.999999747378752e-06.\n",
            "35/35 [==============================] - 50s 1s/step - loss: 0.1801 - categorical_accuracy: 0.9345 - val_loss: 0.4188 - val_categorical_accuracy: 0.8750 - lr: 1.0000e-04\n",
            "Epoch 13/100\n",
            "35/35 [==============================] - ETA: 0s - loss: 0.0740 - categorical_accuracy: 0.9745\n",
            "Epoch 13: val_loss improved from 0.29178 to 0.27301, saving model to /content/drive/MyDrive/For-Report/VIT-Modified/weights/ViT_weights-13.h5\n",
            "35/35 [==============================] - 50s 1s/step - loss: 0.0740 - categorical_accuracy: 0.9745 - val_loss: 0.2730 - val_categorical_accuracy: 0.9107 - lr: 1.0000e-05\n",
            "Epoch 14/100\n",
            "35/35 [==============================] - ETA: 0s - loss: 0.0629 - categorical_accuracy: 0.9855\n",
            "Epoch 14: val_loss did not improve from 0.27301\n",
            "35/35 [==============================] - 45s 1s/step - loss: 0.0629 - categorical_accuracy: 0.9855 - val_loss: 0.3086 - val_categorical_accuracy: 0.8929 - lr: 1.0000e-05\n",
            "Epoch 15/100\n",
            "35/35 [==============================] - ETA: 0s - loss: 0.0623 - categorical_accuracy: 0.9800\n",
            "Epoch 15: val_loss did not improve from 0.27301\n",
            "35/35 [==============================] - 51s 1s/step - loss: 0.0623 - categorical_accuracy: 0.9800 - val_loss: 0.3204 - val_categorical_accuracy: 0.8839 - lr: 1.0000e-05\n",
            "Epoch 16/100\n",
            "35/35 [==============================] - ETA: 0s - loss: 0.0537 - categorical_accuracy: 0.9818\n",
            "Epoch 16: val_loss improved from 0.27301 to 0.26256, saving model to /content/drive/MyDrive/For-Report/VIT-Modified/weights/ViT_weights-16.h5\n",
            "35/35 [==============================] - 62s 2s/step - loss: 0.0537 - categorical_accuracy: 0.9818 - val_loss: 0.2626 - val_categorical_accuracy: 0.9286 - lr: 1.0000e-05\n",
            "Epoch 17/100\n",
            "35/35 [==============================] - ETA: 0s - loss: 0.0518 - categorical_accuracy: 0.9836\n",
            "Epoch 17: val_loss did not improve from 0.26256\n",
            "35/35 [==============================] - 47s 1s/step - loss: 0.0518 - categorical_accuracy: 0.9836 - val_loss: 0.3221 - val_categorical_accuracy: 0.8929 - lr: 1.0000e-05\n",
            "Epoch 18/100\n",
            "35/35 [==============================] - ETA: 0s - loss: 0.0450 - categorical_accuracy: 0.9855\n",
            "Epoch 18: val_loss did not improve from 0.26256\n",
            "35/35 [==============================] - 46s 1s/step - loss: 0.0450 - categorical_accuracy: 0.9855 - val_loss: 0.3379 - val_categorical_accuracy: 0.8929 - lr: 1.0000e-05\n",
            "Epoch 19/100\n",
            "35/35 [==============================] - ETA: 0s - loss: 0.0468 - categorical_accuracy: 0.9818\n",
            "Epoch 19: val_loss did not improve from 0.26256\n",
            "35/35 [==============================] - 48s 1s/step - loss: 0.0468 - categorical_accuracy: 0.9818 - val_loss: 0.2786 - val_categorical_accuracy: 0.9196 - lr: 1.0000e-05\n",
            "Epoch 20/100\n",
            "35/35 [==============================] - ETA: 0s - loss: 0.0292 - categorical_accuracy: 0.9927\n",
            "Epoch 20: val_loss did not improve from 0.26256\n",
            "35/35 [==============================] - 47s 1s/step - loss: 0.0292 - categorical_accuracy: 0.9927 - val_loss: 0.2745 - val_categorical_accuracy: 0.9107 - lr: 1.0000e-05\n",
            "Epoch 21/100\n",
            "35/35 [==============================] - ETA: 0s - loss: 0.0279 - categorical_accuracy: 0.9909\n",
            "Epoch 21: val_loss did not improve from 0.26256\n",
            "\n",
            "Epoch 21: ReduceLROnPlateau reducing learning rate to 9.999999747378752e-07.\n",
            "35/35 [==============================] - 46s 1s/step - loss: 0.0279 - categorical_accuracy: 0.9909 - val_loss: 0.3818 - val_categorical_accuracy: 0.8661 - lr: 1.0000e-05\n",
            "Epoch 22/100\n",
            "35/35 [==============================] - ETA: 0s - loss: 0.0346 - categorical_accuracy: 0.9927\n",
            "Epoch 22: val_loss did not improve from 0.26256\n",
            "35/35 [==============================] - 48s 1s/step - loss: 0.0346 - categorical_accuracy: 0.9927 - val_loss: 0.3658 - val_categorical_accuracy: 0.8661 - lr: 1.0000e-06\n",
            "Epoch 23/100\n",
            "35/35 [==============================] - ETA: 0s - loss: 0.0293 - categorical_accuracy: 0.9927\n",
            "Epoch 23: val_loss did not improve from 0.26256\n",
            "35/35 [==============================] - 45s 1s/step - loss: 0.0293 - categorical_accuracy: 0.9927 - val_loss: 0.3259 - val_categorical_accuracy: 0.8929 - lr: 1.0000e-06\n",
            "Epoch 24/100\n",
            "35/35 [==============================] - ETA: 0s - loss: 0.0325 - categorical_accuracy: 0.9945\n",
            "Epoch 24: val_loss did not improve from 0.26256\n",
            "35/35 [==============================] - 47s 1s/step - loss: 0.0325 - categorical_accuracy: 0.9945 - val_loss: 0.3265 - val_categorical_accuracy: 0.9018 - lr: 1.0000e-06\n",
            "Epoch 25/100\n",
            "35/35 [==============================] - ETA: 0s - loss: 0.0358 - categorical_accuracy: 0.9855\n",
            "Epoch 25: val_loss did not improve from 0.26256\n",
            "35/35 [==============================] - 46s 1s/step - loss: 0.0358 - categorical_accuracy: 0.9855 - val_loss: 0.3157 - val_categorical_accuracy: 0.9018 - lr: 1.0000e-06\n",
            "Epoch 26/100\n",
            "35/35 [==============================] - ETA: 0s - loss: 0.0191 - categorical_accuracy: 0.9945\n",
            "Epoch 26: val_loss did not improve from 0.26256\n",
            "\n",
            "Epoch 26: ReduceLROnPlateau reducing learning rate to 9.999999974752428e-08.\n",
            "35/35 [==============================] - 48s 1s/step - loss: 0.0191 - categorical_accuracy: 0.9945 - val_loss: 0.2906 - val_categorical_accuracy: 0.9107 - lr: 1.0000e-06\n",
            "Epoch 27/100\n",
            "35/35 [==============================] - ETA: 0s - loss: 0.0239 - categorical_accuracy: 0.9964\n",
            "Epoch 27: val_loss did not improve from 0.26256\n",
            "35/35 [==============================] - 51s 1s/step - loss: 0.0239 - categorical_accuracy: 0.9964 - val_loss: 0.3338 - val_categorical_accuracy: 0.8929 - lr: 1.0000e-07\n",
            "Epoch 28/100\n",
            "35/35 [==============================] - ETA: 0s - loss: 0.0333 - categorical_accuracy: 0.9909\n",
            "Epoch 28: val_loss did not improve from 0.26256\n",
            "35/35 [==============================] - 51s 1s/step - loss: 0.0333 - categorical_accuracy: 0.9909 - val_loss: 0.2985 - val_categorical_accuracy: 0.9107 - lr: 1.0000e-07\n",
            "Epoch 29/100\n",
            "35/35 [==============================] - ETA: 0s - loss: 0.0167 - categorical_accuracy: 0.9982\n",
            "Epoch 29: val_loss did not improve from 0.26256\n",
            "35/35 [==============================] - 44s 1s/step - loss: 0.0167 - categorical_accuracy: 0.9982 - val_loss: 0.3407 - val_categorical_accuracy: 0.8929 - lr: 1.0000e-07\n",
            "Epoch 30/100\n",
            "35/35 [==============================] - ETA: 0s - loss: 0.0316 - categorical_accuracy: 0.9909\n",
            "Epoch 30: val_loss did not improve from 0.26256\n",
            "35/35 [==============================] - 53s 2s/step - loss: 0.0316 - categorical_accuracy: 0.9909 - val_loss: 0.3165 - val_categorical_accuracy: 0.9018 - lr: 1.0000e-07\n",
            "Epoch 31/100\n",
            "35/35 [==============================] - ETA: 0s - loss: 0.0255 - categorical_accuracy: 0.9945\n",
            "Epoch 31: val_loss did not improve from 0.26256\n",
            "\n",
            "Epoch 31: ReduceLROnPlateau reducing learning rate to 1.0000000116860975e-08.\n",
            "35/35 [==============================] - 46s 1s/step - loss: 0.0255 - categorical_accuracy: 0.9945 - val_loss: 0.3288 - val_categorical_accuracy: 0.8929 - lr: 1.0000e-07\n",
            "Epoch 32/100\n",
            "35/35 [==============================] - ETA: 0s - loss: 0.0304 - categorical_accuracy: 0.9891\n",
            "Epoch 32: val_loss did not improve from 0.26256\n",
            "35/35 [==============================] - 49s 1s/step - loss: 0.0304 - categorical_accuracy: 0.9891 - val_loss: 0.3000 - val_categorical_accuracy: 0.9107 - lr: 1.0000e-08\n",
            "Epoch 33/100\n",
            "35/35 [==============================] - ETA: 0s - loss: 0.0334 - categorical_accuracy: 0.9873\n",
            "Epoch 33: val_loss improved from 0.26256 to 0.21183, saving model to /content/drive/MyDrive/For-Report/VIT-Modified/weights/ViT_weights-33.h5\n",
            "35/35 [==============================] - 47s 1s/step - loss: 0.0334 - categorical_accuracy: 0.9873 - val_loss: 0.2118 - val_categorical_accuracy: 0.9107 - lr: 1.0000e-08\n",
            "Epoch 34/100\n",
            "35/35 [==============================] - ETA: 0s - loss: 0.0181 - categorical_accuracy: 0.9964\n",
            "Epoch 34: val_loss did not improve from 0.21183\n",
            "35/35 [==============================] - 50s 1s/step - loss: 0.0181 - categorical_accuracy: 0.9964 - val_loss: 0.3355 - val_categorical_accuracy: 0.9018 - lr: 1.0000e-08\n",
            "Epoch 35/100\n",
            "35/35 [==============================] - ETA: 0s - loss: 0.0279 - categorical_accuracy: 0.9945\n",
            "Epoch 35: val_loss did not improve from 0.21183\n",
            "35/35 [==============================] - 45s 1s/step - loss: 0.0279 - categorical_accuracy: 0.9945 - val_loss: 0.3291 - val_categorical_accuracy: 0.8929 - lr: 1.0000e-08\n",
            "Epoch 36/100\n",
            "35/35 [==============================] - ETA: 0s - loss: 0.0214 - categorical_accuracy: 0.9927\n",
            "Epoch 36: val_loss did not improve from 0.21183\n",
            "35/35 [==============================] - 47s 1s/step - loss: 0.0214 - categorical_accuracy: 0.9927 - val_loss: 0.3186 - val_categorical_accuracy: 0.9018 - lr: 1.0000e-08\n",
            "Epoch 37/100\n",
            "35/35 [==============================] - ETA: 0s - loss: 0.0250 - categorical_accuracy: 0.9945\n",
            "Epoch 37: val_loss did not improve from 0.21183\n",
            "35/35 [==============================] - 44s 1s/step - loss: 0.0250 - categorical_accuracy: 0.9945 - val_loss: 0.3106 - val_categorical_accuracy: 0.9018 - lr: 1.0000e-08\n",
            "Epoch 38/100\n",
            "35/35 [==============================] - ETA: 0s - loss: 0.0225 - categorical_accuracy: 0.9964\n",
            "Epoch 38: val_loss did not improve from 0.21183\n",
            "\n",
            "Epoch 38: ReduceLROnPlateau reducing learning rate to 9.999999939225292e-10.\n",
            "35/35 [==============================] - 47s 1s/step - loss: 0.0225 - categorical_accuracy: 0.9964 - val_loss: 0.2693 - val_categorical_accuracy: 0.9196 - lr: 1.0000e-08\n",
            "Epoch 39/100\n",
            "35/35 [==============================] - ETA: 0s - loss: 0.0184 - categorical_accuracy: 0.9964\n",
            "Epoch 39: val_loss did not improve from 0.21183\n",
            "35/35 [==============================] - 48s 1s/step - loss: 0.0184 - categorical_accuracy: 0.9964 - val_loss: 0.3422 - val_categorical_accuracy: 0.8929 - lr: 1.0000e-09\n",
            "Epoch 40/100\n",
            "35/35 [==============================] - ETA: 0s - loss: 0.0264 - categorical_accuracy: 0.9945\n",
            "Epoch 40: val_loss did not improve from 0.21183\n",
            "35/35 [==============================] - 50s 1s/step - loss: 0.0264 - categorical_accuracy: 0.9945 - val_loss: 0.2839 - val_categorical_accuracy: 0.9196 - lr: 1.0000e-09\n",
            "Epoch 41/100\n",
            "35/35 [==============================] - ETA: 0s - loss: 0.0343 - categorical_accuracy: 0.9891\n",
            "Epoch 41: val_loss did not improve from 0.21183\n",
            "35/35 [==============================] - 46s 1s/step - loss: 0.0343 - categorical_accuracy: 0.9891 - val_loss: 0.3358 - val_categorical_accuracy: 0.8929 - lr: 1.0000e-09\n",
            "Epoch 42/100\n",
            "35/35 [==============================] - ETA: 0s - loss: 0.0275 - categorical_accuracy: 0.9927\n",
            "Epoch 42: val_loss did not improve from 0.21183\n",
            "35/35 [==============================] - 45s 1s/step - loss: 0.0275 - categorical_accuracy: 0.9927 - val_loss: 0.3108 - val_categorical_accuracy: 0.9018 - lr: 1.0000e-09\n",
            "Epoch 43/100\n",
            "35/35 [==============================] - ETA: 0s - loss: 0.0270 - categorical_accuracy: 0.9927\n",
            "Epoch 43: val_loss did not improve from 0.21183\n",
            "\n",
            "Epoch 43: ReduceLROnPlateau reducing learning rate to 9.999999717180686e-11.\n",
            "35/35 [==============================] - 50s 1s/step - loss: 0.0270 - categorical_accuracy: 0.9927 - val_loss: 0.3307 - val_categorical_accuracy: 0.9018 - lr: 1.0000e-09\n",
            "Epoch 44/100\n",
            "35/35 [==============================] - ETA: 0s - loss: 0.0312 - categorical_accuracy: 0.9945\n",
            "Epoch 44: val_loss did not improve from 0.21183\n",
            "35/35 [==============================] - 46s 1s/step - loss: 0.0312 - categorical_accuracy: 0.9945 - val_loss: 0.3400 - val_categorical_accuracy: 0.8929 - lr: 1.0000e-10\n",
            "Epoch 45/100\n",
            "35/35 [==============================] - ETA: 0s - loss: 0.0228 - categorical_accuracy: 0.9945\n",
            "Epoch 45: val_loss did not improve from 0.21183\n",
            "35/35 [==============================] - 50s 1s/step - loss: 0.0228 - categorical_accuracy: 0.9945 - val_loss: 0.3211 - val_categorical_accuracy: 0.9018 - lr: 1.0000e-10\n",
            "Epoch 46/100\n",
            "35/35 [==============================] - ETA: 0s - loss: 0.0237 - categorical_accuracy: 0.9945\n",
            "Epoch 46: val_loss did not improve from 0.21183\n",
            "35/35 [==============================] - 51s 1s/step - loss: 0.0237 - categorical_accuracy: 0.9945 - val_loss: 0.2706 - val_categorical_accuracy: 0.9107 - lr: 1.0000e-10\n",
            "Epoch 47/100\n",
            "35/35 [==============================] - ETA: 0s - loss: 0.0270 - categorical_accuracy: 0.9945\n",
            "Epoch 47: val_loss did not improve from 0.21183\n",
            "35/35 [==============================] - 53s 1s/step - loss: 0.0270 - categorical_accuracy: 0.9945 - val_loss: 0.3399 - val_categorical_accuracy: 0.8929 - lr: 1.0000e-10\n",
            "Epoch 48/100\n",
            "35/35 [==============================] - ETA: 0s - loss: 0.0185 - categorical_accuracy: 0.9982\n",
            "Epoch 48: val_loss did not improve from 0.21183\n",
            "\n",
            "Epoch 48: ReduceLROnPlateau reducing learning rate to 9.99999943962493e-12.\n",
            "35/35 [==============================] - 49s 1s/step - loss: 0.0185 - categorical_accuracy: 0.9982 - val_loss: 0.3300 - val_categorical_accuracy: 0.9018 - lr: 1.0000e-10\n",
            "Epoch 49/100\n",
            "35/35 [==============================] - ETA: 0s - loss: 0.0221 - categorical_accuracy: 0.9945\n",
            "Epoch 49: val_loss did not improve from 0.21183\n",
            "35/35 [==============================] - 50s 1s/step - loss: 0.0221 - categorical_accuracy: 0.9945 - val_loss: 0.3227 - val_categorical_accuracy: 0.9107 - lr: 1.0000e-11\n",
            "Epoch 50/100\n",
            "35/35 [==============================] - ETA: 0s - loss: 0.0213 - categorical_accuracy: 0.9964\n",
            "Epoch 50: val_loss did not improve from 0.21183\n",
            "35/35 [==============================] - 49s 1s/step - loss: 0.0213 - categorical_accuracy: 0.9964 - val_loss: 0.3177 - val_categorical_accuracy: 0.9018 - lr: 1.0000e-11\n",
            "Epoch 51/100\n",
            "35/35 [==============================] - ETA: 0s - loss: 0.0298 - categorical_accuracy: 0.9927\n",
            "Epoch 51: val_loss did not improve from 0.21183\n",
            "35/35 [==============================] - 52s 1s/step - loss: 0.0298 - categorical_accuracy: 0.9927 - val_loss: 0.3419 - val_categorical_accuracy: 0.8929 - lr: 1.0000e-11\n",
            "Epoch 52/100\n",
            "35/35 [==============================] - ETA: 0s - loss: 0.0259 - categorical_accuracy: 0.9964\n",
            "Epoch 52: val_loss did not improve from 0.21183\n",
            "35/35 [==============================] - 47s 1s/step - loss: 0.0259 - categorical_accuracy: 0.9964 - val_loss: 0.2944 - val_categorical_accuracy: 0.9018 - lr: 1.0000e-11\n",
            "Epoch 53/100\n",
            "35/35 [==============================] - ETA: 0s - loss: 0.0213 - categorical_accuracy: 0.9964\n",
            "Epoch 53: val_loss did not improve from 0.21183\n",
            "\n",
            "Epoch 53: ReduceLROnPlateau reducing learning rate to 9.999999092680235e-13.\n",
            "Restoring model weights from the end of the best epoch: 33.\n",
            "35/35 [==============================] - 53s 2s/step - loss: 0.0213 - categorical_accuracy: 0.9964 - val_loss: 0.3373 - val_categorical_accuracy: 0.8929 - lr: 1.0000e-11\n",
            "Epoch 53: early stopping\n"
          ]
        }
      ]
    },
    {
      "cell_type": "markdown",
      "source": [],
      "metadata": {
        "id": "12lv5KhUZ9Oc"
      }
    },
    {
      "cell_type": "code",
      "source": [
        "import matplotlib.pyplot as plt\n",
        "\n",
        "def plot_accuracy(history, title):\n",
        "    plt.title(title)\n",
        "    plt.plot(history.history['categorical_accuracy'])\n",
        "    plt.plot(history.history['val_categorical_accuracy'])\n",
        "    plt.ylabel('accuracy')\n",
        "    plt.xlabel('epoch')\n",
        "    plt.ylim(0, 1)\n",
        "    plt.legend(['train_accuracy', 'val_accuracy'], loc='best')\n",
        "    plt.show()\n",
        "\n",
        "def plot_loss(history, title):\n",
        "    plt.title(title)\n",
        "    plt.plot(history.history['loss'])\n",
        "    plt.plot(history.history['val_loss'])\n",
        "    plt.ylabel('loss')\n",
        "    plt.xlabel('epoch')\n",
        "    plt.ylim(0, 1)\n",
        "    plt.legend(['train_loss', 'val_loss'], loc='best')\n",
        "    plt.show()"
      ],
      "metadata": {
        "id": "o8pfwvSf1xGj"
      },
      "execution_count": 16,
      "outputs": []
    },
    {
      "cell_type": "code",
      "source": [
        "plot_accuracy(history, 'Classification Accuracy Plot')\n",
        "plot_loss(history, 'Classification Loss Plot')"
      ],
      "metadata": {
        "id": "JXhf2qAQ3DU8",
        "colab": {
          "base_uri": "https://localhost:8080/",
          "height": 927
        },
        "outputId": "38698843-648e-4c6f-bde6-e0de01368a84"
      },
      "execution_count": 17,
      "outputs": [
        {
          "output_type": "display_data",
          "data": {
            "text/plain": [
              "<Figure size 640x480 with 1 Axes>"
            ],
            "image/png": "[encoded data removed]"
          },
          "metadata": {}
        },
        {
          "output_type": "display_data",
          "data": {
            "text/plain": [
              "<Figure size 640x480 with 1 Axes>"
            ],
            "image/png": "[encoded data removed]"
          },
          "metadata": {}
        }
      ]
    },
    {
      "cell_type": "code",
      "source": [
        "\n",
        "#model = create_model()\n",
        "model.load_weights('/content/drive/MyDrive/For-Report/VIT-Modified_b=8/weights/MobileNet_weights-37.h5')\n"
      ],
      "metadata": {
        "id": "Z-LRLseM3DXX"
      },
      "execution_count": null,
      "outputs": []
    },
    {
      "cell_type": "code",
      "source": [
        "\n",
        "#model = create_model()\n",
        "model.load_weights('/content/drive/MyDrive/For-Report/VIT-Modified/weights/ViT_weights-33.h5')\n"
      ],
      "metadata": {
        "id": "J0roqG8AePt3"
      },
      "execution_count": 18,
      "outputs": []
    },
    {
      "cell_type": "code",
      "source": [
        "# Assume the model.predict() call returns a predictions object\n",
        "predictions = model.predict(test_generator, verbose=0)\n",
        "\n",
        "# Getting the index of the highest probability class per image\n",
        "y_pred = np.argmax(predictions, axis=1)\n",
        "\n",
        "# Getting the true labels per image\n",
        "y_true = test_generator.classes\n",
        "\n",
        "# Getting the class names (labels) from the generator\n",
        "class_names = list(test_generator.class_indices.keys())\n",
        "\n",
        "# Printing the classification report\n",
        "report = classification_report(y_true, y_pred, target_names=class_names)\n",
        "print(\"\\nClassification Report:\")\n",
        "print(report)"
      ],
      "metadata": {
        "id": "EdTXyHsi3Da9",
        "colab": {
          "base_uri": "https://localhost:8080/"
        },
        "outputId": "eb05fc63-5e4d-458c-93df-86be1f40a28b"
      },
      "execution_count": 19,
      "outputs": [
        {
          "output_type": "stream",
          "name": "stdout",
          "text": [
            "\n",
            "Classification Report:\n",
            "              precision    recall  f1-score   support\n",
            "\n",
            "           0       0.80      0.92      0.86        13\n",
            "           1       0.80      1.00      0.89        12\n",
            "           2       0.94      1.00      0.97        15\n",
            "           3       0.83      0.88      0.86        17\n",
            "           4       1.00      0.73      0.85        15\n",
            "           5       1.00      1.00      1.00        12\n",
            "           6       1.00      1.00      1.00        18\n",
            "           7       0.84      0.73      0.78        22\n",
            "\n",
            "    accuracy                           0.90       124\n",
            "   macro avg       0.90      0.91      0.90       124\n",
            "weighted avg       0.90      0.90      0.89       124\n",
            "\n"
          ]
        }
      ]
    },
    {
      "cell_type": "code",
      "source": [
        "\n",
        "from sklearn import metrics\n",
        "from mlxtend.plotting import plot_confusion_matrix\n",
        "import matplotlib.pyplot as plt"
      ],
      "metadata": {
        "id": "NYyn7E_U3WfW"
      },
      "execution_count": 20,
      "outputs": []
    },
    {
      "cell_type": "code",
      "source": [
        "# Compute confusion matrix\n",
        "cm = metrics.confusion_matrix(y_true, y_pred)\n",
        "\n",
        "# Plot the confusion matrix using mlxtend's `plot_confusion_matrix`\n",
        "figure, ax = plot_confusion_matrix(conf_mat=cm,\n",
        "                                   show_absolute=True,\n",
        "                                   show_normed=False,\n",
        "                                   colorbar=True,\n",
        "                                   class_names=class_names,\n",
        "                                   figsize=(7, 7))\n",
        "plt.show()"
      ],
      "metadata": {
        "id": "e5f8DVeA3Yl7",
        "colab": {
          "base_uri": "https://localhost:8080/",
          "height": 590
        },
        "outputId": "70080080-607c-428d-d264-d4f1a6a2682b"
      },
      "execution_count": 22,
      "outputs": [
        {
          "output_type": "display_data",
          "data": {
            "text/plain": [
              "<Figure size 700x700 with 2 Axes>"
            ],
            "image/png": "[encoded data removed]"
          },
          "metadata": {}
        }
      ]
    },
    {
      "cell_type": "code",
      "source": [],
      "metadata": {
        "id": "Y3LwCCuwfqbt"
      },
      "execution_count": null,
      "outputs": []
    }
  ]
}