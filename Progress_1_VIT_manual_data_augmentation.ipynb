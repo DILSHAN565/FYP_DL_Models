{
  "cells": [
    {
      "cell_type": "markdown",
      "metadata": {
        "id": "view-in-github",
        "colab_type": "text"
      },
      "source": [
        "<a href=\"https://colab.research.google.com/github/DILSHAN565/FYP_DL_Models/blob/main/Progress_1_VIT_manual_data_augmentation.ipynb\" target=\"_parent\"><img src=\"https://colab.research.google.com/assets/colab-badge.svg\" alt=\"Open In Colab\"/></a>"
      ]
    },
    {
      "cell_type": "code",
      "execution_count": null,
      "metadata": {
        "colab": {
          "base_uri": "https://localhost:8080/"
        },
        "id": "D1SbIFuFkDZH",
        "outputId": "dee35510-f174-46f0-845a-88d90674dd69"
      },
      "outputs": [
        {
          "name": "stdout",
          "output_type": "stream",
          "text": [
            "Mounted at /content/drive\n"
          ]
        }
      ],
      "source": [
        "from google.colab import drive\n",
        "drive.mount('/content/drive')\n"
      ]
    },
    {
      "cell_type": "code",
      "execution_count": null,
      "metadata": {
        "colab": {
          "base_uri": "https://localhost:8080/"
        },
        "id": "kEcrlwOykLAM",
        "outputId": "743a3acc-f155-44a8-8ef4-e8edc985b4cd"
      },
      "outputs": [
        {
          "name": "stdout",
          "output_type": "stream",
          "text": [
            "['validation', 'train', 'test', 'valid']\n"
          ]
        }
      ],
      "source": [
        "import os\n",
        "\n",
        "# Define the path to the directory containing your dataset\n",
        "directory_path = '/content/drive/My Drive/progress/Tea-Leaf-Diseases-Dataset'\n",
        "\n",
        "# List all files in the directory\n",
        "files = os.listdir(directory_path)\n",
        "\n",
        "# Print the list of files\n",
        "print(files)"
      ]
    },
    {
      "cell_type": "code",
      "execution_count": null,
      "metadata": {
        "colab": {
          "base_uri": "https://localhost:8080/"
        },
        "id": "lb1I3jKQkvkF",
        "outputId": "df02b669-2085-4331-84b8-fcaf55933462"
      },
      "outputs": [
        {
          "name": "stdout",
          "output_type": "stream",
          "text": [
            "\u001b[?25l     \u001b[90m━━━━━━━━━━━━━━━━━━━━━━━━━━━━━━━━━━━━━━━━\u001b[0m \u001b[32m0.0/611.8 kB\u001b[0m \u001b[31m?\u001b[0m eta \u001b[36m-:--:--\u001b[0m\r\u001b[2K     \u001b[91m━━━━━━━━━━━━━━\u001b[0m\u001b[91m╸\u001b[0m\u001b[90m━━━━━━━━━━━━━━━━━━━━━━━━━\u001b[0m \u001b[32m225.3/611.8 kB\u001b[0m \u001b[31m6.6 MB/s\u001b[0m eta \u001b[36m0:00:01\u001b[0m\r\u001b[2K     \u001b[91m━━━━━━━━━━━━━━━━━━━━━━━━━━━━━━━━━━━━\u001b[0m\u001b[91m╸\u001b[0m\u001b[90m━━━\u001b[0m \u001b[32m563.2/611.8 kB\u001b[0m \u001b[31m8.2 MB/s\u001b[0m eta \u001b[36m0:00:01\u001b[0m\r\u001b[2K     \u001b[90m━━━━━━━━━━━━━━━━━━━━━━━━━━━━━━━━━━━━━━━━\u001b[0m \u001b[32m611.8/611.8 kB\u001b[0m \u001b[31m7.4 MB/s\u001b[0m eta \u001b[36m0:00:00\u001b[0m\n",
            "\u001b[?25h\u001b[?25l     \u001b[90m━━━━━━━━━━━━━━━━━━━━━━━━━━━━━━━━━━━━━━━━\u001b[0m \u001b[32m0.0/40.0 kB\u001b[0m \u001b[31m?\u001b[0m eta \u001b[36m-:--:--\u001b[0m\r\u001b[2K     \u001b[90m━━━━━━━━━━━━━━━━━━━━━━━━━━━━━━━━━━━━━━━━\u001b[0m \u001b[32m40.0/40.0 kB\u001b[0m \u001b[31m4.1 MB/s\u001b[0m eta \u001b[36m0:00:00\u001b[0m\n",
            "\u001b[?25h"
          ]
        }
      ],
      "source": [
        "!pip -q install vit_keras tensorflow-addons"
      ]
    },
    {
      "cell_type": "code",
      "execution_count": null,
      "metadata": {
        "id": "w4Bf6xKAk218"
      },
      "outputs": [],
      "source": [
        "!pip -q install --upgrade --no-cache-dir gdown"
      ]
    },
    {
      "cell_type": "code",
      "execution_count": null,
      "metadata": {
        "colab": {
          "base_uri": "https://localhost:8080/"
        },
        "id": "rFPfwyHOk7hv",
        "outputId": "1a7b08e4-e8a1-450f-bf12-39eefc6fbf0f"
      },
      "outputs": [
        {
          "name": "stderr",
          "output_type": "stream",
          "text": [
            "/usr/local/lib/python3.10/dist-packages/tensorflow_addons/utils/tfa_eol_msg.py:23: UserWarning: \n",
            "\n",
            "TensorFlow Addons (TFA) has ended development and introduction of new features.\n",
            "TFA has entered a minimal maintenance and release mode until a planned end of life in May 2024.\n",
            "Please modify downstream libraries to take dependencies from other repositories in our TensorFlow community (e.g. Keras, Keras-CV, and Keras-NLP). \n",
            "\n",
            "For more information see: https://github.com/tensorflow/addons/issues/2807 \n",
            "\n",
            "  warnings.warn(\n"
          ]
        }
      ],
      "source": [
        "import numpy as np\n",
        "import tensorflow as tf\n",
        "import tensorflow_addons as tfa\n",
        "from tensorflow.keras.layers import Dense, Flatten\n",
        "from tensorflow.keras.optimizers import Adam\n",
        "from tensorflow.keras.losses import CategoricalCrossentropy\n",
        "from tensorflow.keras.metrics import CategoricalAccuracy\n",
        "from vit_keras import vit\n",
        "from sklearn.metrics import classification_report, confusion_matrix\n",
        "import warnings\n",
        "warnings.filterwarnings(\"ignore\")"
      ]
    },
    {
      "cell_type": "code",
      "execution_count": null,
      "metadata": {
        "id": "Eq7a2e3Tk-tl"
      },
      "outputs": [],
      "source": [
        "SEED = 42\n",
        "np.random.seed(SEED)\n"
      ]
    },
    {
      "cell_type": "code",
      "execution_count": null,
      "metadata": {
        "id": "sraU-amwlC58"
      },
      "outputs": [],
      "source": [
        "# Insert the Dataset path here\n",
        "train_path = '/content/drive/MyDrive/progress/Tea-Leaf-Diseases-Dataset/train'\n",
        "val_path = '/content/drive/MyDrive/progress/Tea-Leaf-Diseases-Dataset/validation'\n",
        "test_path = '/content/drive/MyDrive/progress/Tea-Leaf-Diseases-Dataset/test'"
      ]
    },
    {
      "cell_type": "code",
      "execution_count": null,
      "metadata": {
        "id": "_kx1PUCAlXew"
      },
      "outputs": [],
      "source": [
        "IMAGE_SIZE = 224\n",
        "BATCH_SIZE = 8\n",
        "EPOCHS = 200\n",
        "LEARNING_RATE = 1e-4"
      ]
    },
    {
      "cell_type": "code",
      "execution_count": null,
      "metadata": {
        "id": "jD5ZWqYIlaXA"
      },
      "outputs": [],
      "source": [
        "train_datagen = tf.keras.preprocessing.image.ImageDataGenerator(rescale=1./255,\n",
        "                                   rotation_range=360,\n",
        "                                   height_shift_range=0.1,\n",
        "                                   shear_range=0.1,\n",
        "                                   zoom_range=0.1,\n",
        "                                   fill_mode='nearest',\n",
        "                                   brightness_range=[0.8, 1.4],\n",
        "                                   vertical_flip=True,\n",
        "                                   horizontal_flip=True)"
      ]
    },
    {
      "cell_type": "code",
      "execution_count": null,
      "metadata": {
        "id": "IN9Hj_gRleNv"
      },
      "outputs": [],
      "source": [
        "val_datagen = tf.keras.preprocessing.image.ImageDataGenerator(rescale=1./255)\n",
        "\n",
        "test_datagen = tf.keras.preprocessing.image.ImageDataGenerator(rescale=1./255)\n"
      ]
    },
    {
      "cell_type": "code",
      "execution_count": null,
      "metadata": {
        "colab": {
          "base_uri": "https://localhost:8080/"
        },
        "id": "yYFJHvRvlg5A",
        "outputId": "2d5c00bf-246a-477a-8f8b-7201d259edc6"
      },
      "outputs": [
        {
          "name": "stdout",
          "output_type": "stream",
          "text": [
            "Found 725 images belonging to 8 classes.\n"
          ]
        }
      ],
      "source": [
        "train_generator = train_datagen.flow_from_directory(\n",
        "    train_path,\n",
        "    target_size=(IMAGE_SIZE, IMAGE_SIZE),\n",
        "    batch_size=BATCH_SIZE,\n",
        "    class_mode='categorical')"
      ]
    },
    {
      "cell_type": "code",
      "execution_count": null,
      "metadata": {
        "colab": {
          "base_uri": "https://localhost:8080/"
        },
        "id": "z4eoHlbJljDD",
        "outputId": "0d696279-1e6a-448e-fddf-72bc782f4c43"
      },
      "outputs": [
        {
          "name": "stdout",
          "output_type": "stream",
          "text": [
            "Found 82 images belonging to 8 classes.\n"
          ]
        }
      ],
      "source": [
        "validation_generator = val_datagen.flow_from_directory(\n",
        "    val_path,\n",
        "    target_size=(IMAGE_SIZE, IMAGE_SIZE),\n",
        "    batch_size=BATCH_SIZE,\n",
        "    class_mode='categorical')"
      ]
    },
    {
      "cell_type": "code",
      "execution_count": null,
      "metadata": {
        "colab": {
          "base_uri": "https://localhost:8080/"
        },
        "id": "yZSCgQ_Illo5",
        "outputId": "1ee77498-9283-4092-8d2d-c61280a4bc0b"
      },
      "outputs": [
        {
          "name": "stdout",
          "output_type": "stream",
          "text": [
            "Found 83 images belonging to 8 classes.\n"
          ]
        }
      ],
      "source": [
        "test_generator = test_datagen.flow_from_directory(\n",
        "    test_path,\n",
        "    target_size=(IMAGE_SIZE, IMAGE_SIZE),\n",
        "    batch_size=BATCH_SIZE,\n",
        "    class_mode='categorical',\n",
        "    shuffle=False)"
      ]
    },
    {
      "cell_type": "code",
      "execution_count": null,
      "metadata": {
        "id": "iRHBfdm0ln44"
      },
      "outputs": [],
      "source": [
        "def create_model():\n",
        "    vit_model = vit.vit_b16(\n",
        "        image_size=IMAGE_SIZE,\n",
        "        activation='softmax',\n",
        "        pretrained=True,\n",
        "        include_top=False,\n",
        "        pretrained_top=False)\n",
        "\n",
        "    model = tf.keras.Sequential([\n",
        "        vit_model,\n",
        "        Flatten(),\n",
        "        Dense(8, activation='softmax') # Change to 8 for tea leaf disease classification\n",
        "    ])\n"
      ]
    },
    {
      "cell_type": "code",
      "execution_count": null,
      "metadata": {
        "id": "HHzMj-K4lrkC"
      },
      "outputs": [],
      "source": []
    },
    {
      "cell_type": "code",
      "execution_count": null,
      "metadata": {
        "colab": {
          "base_uri": "https://localhost:8080/"
        },
        "id": "xayA6R-ql2J3",
        "outputId": "139124b9-73ee-408c-d089-c68b96e815d3"
      },
      "outputs": [
        {
          "name": "stdout",
          "output_type": "stream",
          "text": [
            "Downloading data from https://github.com/faustomorales/vit-keras/releases/download/dl/ViT-B_16_imagenet21k+imagenet2012.npz\n",
            "347502902/347502902 [==============================] - 2s 0us/step\n",
            "Model: \"sequential\"\n",
            "_________________________________________________________________\n",
            " Layer (type)                Output Shape              Param #   \n",
            "=================================================================\n",
            " vit-b16 (Functional)        (None, 768)               85798656  \n",
            "                                                                 \n",
            " flatten (Flatten)           (None, 768)               0         \n",
            "                                                                 \n",
            " dense (Dense)               (None, 8)                 6152      \n",
            "                                                                 \n",
            "=================================================================\n",
            "Total params: 85804808 (327.32 MB)\n",
            "Trainable params: 85804808 (327.32 MB)\n",
            "Non-trainable params: 0 (0.00 Byte)\n",
            "_________________________________________________________________\n"
          ]
        }
      ],
      "source": [
        "def create_model():\n",
        "    vit_model = vit.vit_b16(\n",
        "        image_size=IMAGE_SIZE,\n",
        "        activation='softmax',\n",
        "        pretrained=True,\n",
        "        include_top=False,\n",
        "        pretrained_top=False)\n",
        "\n",
        "    model = tf.keras.Sequential([\n",
        "        vit_model,\n",
        "        Flatten(),\n",
        "        Dense(8, activation='softmax') #3 ***********************************************************\n",
        "    ])\n",
        "\n",
        "    model.compile(optimizer=Adam(learning_rate=LEARNING_RATE),\n",
        "                  loss=tf.keras.losses.CategoricalCrossentropy(),\n",
        "                  metrics=[tf.keras.metrics.CategoricalAccuracy()])\n",
        "\n",
        "    return model\n",
        "\n",
        "model = create_model()\n",
        "model.summary()\n"
      ]
    },
    {
      "cell_type": "code",
      "execution_count": null,
      "metadata": {
        "id": "OE91tjqqmCVd"
      },
      "outputs": [],
      "source": [
        "import os\n",
        "from tensorflow.keras.callbacks import EarlyStopping, ModelCheckpoint, ReduceLROnPlateau, CSVLogger"
      ]
    },
    {
      "cell_type": "code",
      "execution_count": null,
      "metadata": {
        "id": "_IFvSHvHmOVu"
      },
      "outputs": [],
      "source": [
        "#Define the directory for saving model artifacts\n",
        "save_dir = '/content/drive/MyDrive/progress/VIT-high-2'"
      ]
    },
    {
      "cell_type": "code",
      "execution_count": null,
      "metadata": {
        "id": "PtGBXV8_mSNs"
      },
      "outputs": [],
      "source": [
        "# Ensure the base directory exists\n",
        "os.makedirs(save_dir, exist_ok=True)"
      ]
    },
    {
      "cell_type": "code",
      "execution_count": null,
      "metadata": {
        "id": "IjvkEKremak2"
      },
      "outputs": [],
      "source": [
        "# Specific directory for saving weights\n",
        "weights_dir = os.path.join(save_dir, 'weights')\n",
        "os.makedirs(weights_dir, exist_ok=True)\n"
      ]
    },
    {
      "cell_type": "code",
      "execution_count": null,
      "metadata": {
        "id": "p5P4kB-kmdLT"
      },
      "outputs": [],
      "source": [
        "# Directory for logging CSV data\n",
        "logs_dir = os.path.join(save_dir, 'logs')\n",
        "os.makedirs(logs_dir, exist_ok=True)"
      ]
    },
    {
      "cell_type": "code",
      "execution_count": null,
      "metadata": {
        "id": "7EAN0lsBmhkA"
      },
      "outputs": [],
      "source": [
        "# ModelCheckpoint: Save the best model weights\n",
        "model_checkpoint_callback = ModelCheckpoint(\n",
        "    filepath=os.path.join(weights_dir, 'ViT_weights-{epoch:02d}.h5'),\n",
        "    save_weights_only=True,\n",
        "    monitor='val_loss',  # Change to 'val_loss' if you want to monitor validation loss instead\n",
        "    mode='min',  # Use 'min' if monitoring 'val_loss'\n",
        "    save_best_only=True,\n",
        "    verbose=1\n",
        ")"
      ]
    },
    {
      "cell_type": "code",
      "execution_count": null,
      "metadata": {
        "id": "wO-bZrMImkZn"
      },
      "outputs": [],
      "source": [
        "# ReduceLROnPlateau: Reduce learning rate when a metric has stopped improving\n",
        "reduce_lr_callback = ReduceLROnPlateau(\n",
        "    monitor='val_loss',\n",
        "    factor=0.1,\n",
        "    patience=5,\n",
        "    verbose=1\n",
        ")"
      ]
    },
    {
      "cell_type": "code",
      "execution_count": null,
      "metadata": {
        "id": "3coxamrNmoPG"
      },
      "outputs": [],
      "source": [
        "# CSVLogger: Log training data into a CSV file\n",
        "csv_logger_callback = CSVLogger(\n",
        "    os.path.join(logs_dir, 'training_log.csv')\n",
        ")"
      ]
    },
    {
      "cell_type": "code",
      "execution_count": null,
      "metadata": {
        "id": "GRJ16QMhmqrH"
      },
      "outputs": [],
      "source": [
        "# EarlyStopping: Stop training when a monitored metric has stopped improving\n",
        "early_stopping_callback = EarlyStopping(\n",
        "    monitor='val_loss',\n",
        "    patience=20,\n",
        "    verbose=1,\n",
        "    restore_best_weights=True\n",
        ")\n"
      ]
    },
    {
      "cell_type": "code",
      "execution_count": null,
      "metadata": {
        "id": "h9eeQoUNmtRd"
      },
      "outputs": [],
      "source": [
        "# Combine all callbacks\n",
        "callbacks = [\n",
        "    model_checkpoint_callback,\n",
        "    reduce_lr_callback,\n",
        "    csv_logger_callback,\n",
        "    early_stopping_callback,\n",
        "    # Assuming metric_callback is defined elsewhere in your code\n",
        "    # metric_callback\n",
        "]"
      ]
    },
    {
      "cell_type": "code",
      "execution_count": null,
      "metadata": {
        "colab": {
          "base_uri": "https://localhost:8080/"
        },
        "id": "ImcQ1kANmvWy",
        "outputId": "5d33f8bb-5578-4d91-c2eb-c7ae093cf459"
      },
      "outputs": [
        {
          "name": "stdout",
          "output_type": "stream",
          "text": [
            "Epoch 1/100\n",
            "90/90 [==============================] - ETA: 0s - loss: 1.1912 - categorical_accuracy: 0.5718\n",
            "Epoch 1: val_loss improved from inf to 0.79972, saving model to /content/drive/MyDrive/progress/VIT-high-2/weights/ViT_weights-01.h5\n",
            "90/90 [==============================] - 369s 4s/step - loss: 1.1912 - categorical_accuracy: 0.5718 - val_loss: 0.7997 - val_categorical_accuracy: 0.6750 - lr: 1.0000e-04\n",
            "Epoch 2/100\n",
            "90/90 [==============================] - ETA: 0s - loss: 0.6504 - categorical_accuracy: 0.7629\n",
            "Epoch 2: val_loss improved from 0.79972 to 0.63741, saving model to /content/drive/MyDrive/progress/VIT-high-2/weights/ViT_weights-02.h5\n",
            "90/90 [==============================] - 53s 586ms/step - loss: 0.6504 - categorical_accuracy: 0.7629 - val_loss: 0.6374 - val_categorical_accuracy: 0.7875 - lr: 1.0000e-04\n",
            "Epoch 3/100\n",
            "90/90 [==============================] - ETA: 0s - loss: 0.4886 - categorical_accuracy: 0.8145\n",
            "Epoch 3: val_loss improved from 0.63741 to 0.54781, saving model to /content/drive/MyDrive/progress/VIT-high-2/weights/ViT_weights-03.h5\n",
            "90/90 [==============================] - 55s 606ms/step - loss: 0.4886 - categorical_accuracy: 0.8145 - val_loss: 0.5478 - val_categorical_accuracy: 0.7625 - lr: 1.0000e-04\n",
            "Epoch 4/100\n",
            "90/90 [==============================] - ETA: 0s - loss: 0.3831 - categorical_accuracy: 0.8563\n",
            "Epoch 4: val_loss did not improve from 0.54781\n",
            "90/90 [==============================] - 56s 619ms/step - loss: 0.3831 - categorical_accuracy: 0.8563 - val_loss: 0.7705 - val_categorical_accuracy: 0.7375 - lr: 1.0000e-04\n",
            "Epoch 5/100\n",
            "90/90 [==============================] - ETA: 0s - loss: 0.3066 - categorical_accuracy: 0.8870\n",
            "Epoch 5: val_loss did not improve from 0.54781\n",
            "90/90 [==============================] - 54s 591ms/step - loss: 0.3066 - categorical_accuracy: 0.8870 - val_loss: 0.6545 - val_categorical_accuracy: 0.8000 - lr: 1.0000e-04\n",
            "Epoch 6/100\n",
            "90/90 [==============================] - ETA: 0s - loss: 0.2659 - categorical_accuracy: 0.9010\n",
            "Epoch 6: val_loss did not improve from 0.54781\n",
            "90/90 [==============================] - 54s 603ms/step - loss: 0.2659 - categorical_accuracy: 0.9010 - val_loss: 0.8652 - val_categorical_accuracy: 0.7625 - lr: 1.0000e-04\n",
            "Epoch 7/100\n",
            "90/90 [==============================] - ETA: 0s - loss: 0.3118 - categorical_accuracy: 0.8856\n",
            "Epoch 7: val_loss improved from 0.54781 to 0.36067, saving model to /content/drive/MyDrive/progress/VIT-high-2/weights/ViT_weights-07.h5\n",
            "90/90 [==============================] - 54s 600ms/step - loss: 0.3118 - categorical_accuracy: 0.8856 - val_loss: 0.3607 - val_categorical_accuracy: 0.8250 - lr: 1.0000e-04\n",
            "Epoch 8/100\n",
            "90/90 [==============================] - ETA: 0s - loss: 0.1851 - categorical_accuracy: 0.9372\n",
            "Epoch 8: val_loss did not improve from 0.36067\n",
            "90/90 [==============================] - 54s 590ms/step - loss: 0.1851 - categorical_accuracy: 0.9372 - val_loss: 0.7122 - val_categorical_accuracy: 0.8125 - lr: 1.0000e-04\n",
            "Epoch 9/100\n",
            "90/90 [==============================] - ETA: 0s - loss: 0.2468 - categorical_accuracy: 0.9066\n",
            "Epoch 9: val_loss did not improve from 0.36067\n",
            "90/90 [==============================] - 56s 624ms/step - loss: 0.2468 - categorical_accuracy: 0.9066 - val_loss: 0.4970 - val_categorical_accuracy: 0.8500 - lr: 1.0000e-04\n",
            "Epoch 10/100\n",
            "90/90 [==============================] - ETA: 0s - loss: 0.2105 - categorical_accuracy: 0.9163\n",
            "Epoch 10: val_loss improved from 0.36067 to 0.23824, saving model to /content/drive/MyDrive/progress/VIT-high-2/weights/ViT_weights-10.h5\n",
            "90/90 [==============================] - 60s 660ms/step - loss: 0.2105 - categorical_accuracy: 0.9163 - val_loss: 0.2382 - val_categorical_accuracy: 0.9250 - lr: 1.0000e-04\n",
            "Epoch 11/100\n",
            "90/90 [==============================] - ETA: 0s - loss: 0.1699 - categorical_accuracy: 0.9303\n",
            "Epoch 11: val_loss did not improve from 0.23824\n",
            "90/90 [==============================] - 57s 622ms/step - loss: 0.1699 - categorical_accuracy: 0.9303 - val_loss: 0.2920 - val_categorical_accuracy: 0.9125 - lr: 1.0000e-04\n",
            "Epoch 12/100\n",
            "90/90 [==============================] - ETA: 0s - loss: 0.1987 - categorical_accuracy: 0.9219\n",
            "Epoch 12: val_loss did not improve from 0.23824\n",
            "90/90 [==============================] - 55s 612ms/step - loss: 0.1987 - categorical_accuracy: 0.9219 - val_loss: 0.4007 - val_categorical_accuracy: 0.8500 - lr: 1.0000e-04\n",
            "Epoch 13/100\n",
            "90/90 [==============================] - ETA: 0s - loss: 0.1739 - categorical_accuracy: 0.9386\n",
            "Epoch 13: val_loss did not improve from 0.23824\n",
            "90/90 [==============================] - 55s 611ms/step - loss: 0.1739 - categorical_accuracy: 0.9386 - val_loss: 0.3885 - val_categorical_accuracy: 0.9000 - lr: 1.0000e-04\n",
            "Epoch 14/100\n",
            "90/90 [==============================] - ETA: 0s - loss: 0.2070 - categorical_accuracy: 0.9442\n",
            "Epoch 14: val_loss did not improve from 0.23824\n",
            "90/90 [==============================] - 54s 593ms/step - loss: 0.2070 - categorical_accuracy: 0.9442 - val_loss: 0.3011 - val_categorical_accuracy: 0.9250 - lr: 1.0000e-04\n",
            "Epoch 15/100\n",
            "90/90 [==============================] - ETA: 0s - loss: 0.1629 - categorical_accuracy: 0.9400\n",
            "Epoch 15: val_loss did not improve from 0.23824\n",
            "\n",
            "Epoch 15: ReduceLROnPlateau reducing learning rate to 9.999999747378752e-06.\n",
            "90/90 [==============================] - 53s 592ms/step - loss: 0.1629 - categorical_accuracy: 0.9400 - val_loss: 0.7544 - val_categorical_accuracy: 0.8500 - lr: 1.0000e-04\n",
            "Epoch 16/100\n",
            "90/90 [==============================] - ETA: 0s - loss: 0.0821 - categorical_accuracy: 0.9763\n",
            "Epoch 16: val_loss did not improve from 0.23824\n",
            "90/90 [==============================] - 53s 581ms/step - loss: 0.0821 - categorical_accuracy: 0.9763 - val_loss: 0.4606 - val_categorical_accuracy: 0.8750 - lr: 1.0000e-05\n",
            "Epoch 17/100\n",
            "90/90 [==============================] - ETA: 0s - loss: 0.0432 - categorical_accuracy: 0.9861\n",
            "Epoch 17: val_loss did not improve from 0.23824\n",
            "90/90 [==============================] - 57s 628ms/step - loss: 0.0432 - categorical_accuracy: 0.9861 - val_loss: 0.4041 - val_categorical_accuracy: 0.9000 - lr: 1.0000e-05\n",
            "Epoch 18/100\n",
            "90/90 [==============================] - ETA: 0s - loss: 0.0401 - categorical_accuracy: 0.9777\n",
            "Epoch 18: val_loss did not improve from 0.23824\n",
            "90/90 [==============================] - 55s 601ms/step - loss: 0.0401 - categorical_accuracy: 0.9777 - val_loss: 0.4166 - val_categorical_accuracy: 0.8750 - lr: 1.0000e-05\n",
            "Epoch 19/100\n",
            "90/90 [==============================] - ETA: 0s - loss: 0.0333 - categorical_accuracy: 0.9888\n",
            "Epoch 19: val_loss did not improve from 0.23824\n",
            "90/90 [==============================] - 53s 587ms/step - loss: 0.0333 - categorical_accuracy: 0.9888 - val_loss: 0.4404 - val_categorical_accuracy: 0.8875 - lr: 1.0000e-05\n",
            "Epoch 20/100\n",
            "90/90 [==============================] - ETA: 0s - loss: 0.0300 - categorical_accuracy: 0.9916\n",
            "Epoch 20: val_loss did not improve from 0.23824\n",
            "\n",
            "Epoch 20: ReduceLROnPlateau reducing learning rate to 9.999999747378752e-07.\n",
            "90/90 [==============================] - 53s 582ms/step - loss: 0.0300 - categorical_accuracy: 0.9916 - val_loss: 0.3752 - val_categorical_accuracy: 0.8875 - lr: 1.0000e-05\n",
            "Epoch 21/100\n",
            "90/90 [==============================] - ETA: 0s - loss: 0.0210 - categorical_accuracy: 0.9944\n",
            "Epoch 21: val_loss did not improve from 0.23824\n",
            "90/90 [==============================] - 53s 584ms/step - loss: 0.0210 - categorical_accuracy: 0.9944 - val_loss: 0.3674 - val_categorical_accuracy: 0.9000 - lr: 1.0000e-06\n",
            "Epoch 22/100\n",
            "90/90 [==============================] - ETA: 0s - loss: 0.0194 - categorical_accuracy: 0.9958\n",
            "Epoch 22: val_loss did not improve from 0.23824\n",
            "90/90 [==============================] - 54s 593ms/step - loss: 0.0194 - categorical_accuracy: 0.9958 - val_loss: 0.3793 - val_categorical_accuracy: 0.8875 - lr: 1.0000e-06\n",
            "Epoch 23/100\n",
            "90/90 [==============================] - ETA: 0s - loss: 0.0279 - categorical_accuracy: 0.9944\n",
            "Epoch 23: val_loss did not improve from 0.23824\n",
            "90/90 [==============================] - 55s 612ms/step - loss: 0.0279 - categorical_accuracy: 0.9944 - val_loss: 0.3869 - val_categorical_accuracy: 0.8875 - lr: 1.0000e-06\n",
            "Epoch 24/100\n",
            "90/90 [==============================] - ETA: 0s - loss: 0.0229 - categorical_accuracy: 0.9944\n",
            "Epoch 24: val_loss did not improve from 0.23824\n",
            "90/90 [==============================] - 56s 622ms/step - loss: 0.0229 - categorical_accuracy: 0.9944 - val_loss: 0.3780 - val_categorical_accuracy: 0.8875 - lr: 1.0000e-06\n",
            "Epoch 25/100\n",
            "90/90 [==============================] - ETA: 0s - loss: 0.0207 - categorical_accuracy: 0.9930\n",
            "Epoch 25: val_loss did not improve from 0.23824\n",
            "\n",
            "Epoch 25: ReduceLROnPlateau reducing learning rate to 9.999999974752428e-08.\n",
            "90/90 [==============================] - 59s 652ms/step - loss: 0.0207 - categorical_accuracy: 0.9930 - val_loss: 0.3842 - val_categorical_accuracy: 0.8875 - lr: 1.0000e-06\n",
            "Epoch 26/100\n",
            "90/90 [==============================] - ETA: 0s - loss: 0.0197 - categorical_accuracy: 0.9944\n",
            "Epoch 26: val_loss did not improve from 0.23824\n",
            "90/90 [==============================] - 54s 597ms/step - loss: 0.0197 - categorical_accuracy: 0.9944 - val_loss: 0.3542 - val_categorical_accuracy: 0.9000 - lr: 1.0000e-07\n",
            "Epoch 27/100\n",
            "90/90 [==============================] - ETA: 0s - loss: 0.0246 - categorical_accuracy: 0.9944\n",
            "Epoch 27: val_loss did not improve from 0.23824\n",
            "90/90 [==============================] - 56s 624ms/step - loss: 0.0246 - categorical_accuracy: 0.9944 - val_loss: 0.3848 - val_categorical_accuracy: 0.8875 - lr: 1.0000e-07\n",
            "Epoch 28/100\n",
            "90/90 [==============================] - ETA: 0s - loss: 0.0270 - categorical_accuracy: 0.9944\n",
            "Epoch 28: val_loss did not improve from 0.23824\n",
            "90/90 [==============================] - 56s 616ms/step - loss: 0.0270 - categorical_accuracy: 0.9944 - val_loss: 0.3831 - val_categorical_accuracy: 0.8875 - lr: 1.0000e-07\n",
            "Epoch 29/100\n",
            "90/90 [==============================] - ETA: 0s - loss: 0.0295 - categorical_accuracy: 0.9930\n",
            "Epoch 29: val_loss did not improve from 0.23824\n",
            "90/90 [==============================] - 51s 566ms/step - loss: 0.0295 - categorical_accuracy: 0.9930 - val_loss: 0.3819 - val_categorical_accuracy: 0.8875 - lr: 1.0000e-07\n",
            "Epoch 30/100\n",
            "90/90 [==============================] - ETA: 0s - loss: 0.0176 - categorical_accuracy: 0.9986\n",
            "Epoch 30: val_loss did not improve from 0.23824\n",
            "\n",
            "Epoch 30: ReduceLROnPlateau reducing learning rate to 1.0000000116860975e-08.\n",
            "Restoring model weights from the end of the best epoch: 10.\n",
            "90/90 [==============================] - 53s 593ms/step - loss: 0.0176 - categorical_accuracy: 0.9986 - val_loss: 0.3633 - val_categorical_accuracy: 0.9000 - lr: 1.0000e-07\n",
            "Epoch 30: early stopping\n"
          ]
        }
      ],
      "source": [
        "# Now, you can use this `callbacks` list when fitting your model\n",
        "history = model.fit(\n",
        "    train_generator,\n",
        "    validation_data=validation_generator,\n",
        "    epochs=100,\n",
        "    steps_per_epoch=train_generator.samples // BATCH_SIZE,\n",
        "    validation_steps=validation_generator.samples // BATCH_SIZE,\n",
        "    callbacks=callbacks\n",
        ")"
      ]
    },
    {
      "cell_type": "code",
      "execution_count": null,
      "metadata": {
        "id": "3Fjf8xETmyL_"
      },
      "outputs": [],
      "source": [
        "import matplotlib.pyplot as plt\n",
        "\n",
        "def plot_accuracy(history, title):\n",
        "    plt.title(title)\n",
        "    plt.plot(history.history['categorical_accuracy'])\n",
        "    plt.plot(history.history['val_categorical_accuracy'])\n",
        "    plt.ylabel('accuracy')\n",
        "    plt.xlabel('epoch')\n",
        "    plt.ylim(0, 1)\n",
        "    plt.legend(['train_accuracy', 'val_accuracy'], loc='best')\n",
        "    plt.show()\n",
        "\n",
        "def plot_loss(history, title):\n",
        "    plt.title(title)\n",
        "    plt.plot(history.history['loss'])\n",
        "    plt.plot(history.history['val_loss'])\n",
        "    plt.ylabel('loss')\n",
        "    plt.xlabel('epoch')\n",
        "    plt.ylim(0, 1)\n",
        "    plt.legend(['train_loss', 'val_loss'], loc='best')\n",
        "    plt.show()\n"
      ]
    },
    {
      "cell_type": "code",
      "execution_count": null,
      "metadata": {
        "colab": {
          "base_uri": "https://localhost:8080/",
          "height": 927
        },
        "id": "-5oqWcfdrPCU",
        "outputId": "0c11980a-b3c2-4f5c-cd3b-7a7105482f80"
      },
      "outputs": [
        {
          "data": {
            "image/png": "[encoded data removed]",
            "text/plain": [
              "<Figure size 640x480 with 1 Axes>"
            ]
          },
          "metadata": {},
          "output_type": "display_data"
        },
        {
          "data": {
            "image/png": "[encoded data removed]",
            "text/plain": [
              "<Figure size 640x480 with 1 Axes>"
            ]
          },
          "metadata": {},
          "output_type": "display_data"
        }
      ],
      "source": [
        "plot_accuracy(history, 'Classification Accuracy Plot')\n",
        "plot_loss(history, 'Classification Loss Plot')"
      ]
    },
    {
      "cell_type": "code",
      "execution_count": null,
      "metadata": {
        "id": "6lyoYhHZ1B27"
      },
      "outputs": [],
      "source": [
        "model = create_model()\n",
        "model.load_weights('/content/drive/MyDrive/progress/VIT-high-2/weights/ViT_weights-10.h5')\n"
      ]
    },
    {
      "cell_type": "code",
      "execution_count": null,
      "metadata": {
        "colab": {
          "base_uri": "https://localhost:8080/"
        },
        "id": "RD79LfwO1IHT",
        "outputId": "7eb97909-85a3-40fc-8994-9d6bd8398f53"
      },
      "outputs": [
        {
          "name": "stdout",
          "output_type": "stream",
          "text": [
            "\n",
            "Classification Report:\n",
            "              precision    recall  f1-score   support\n",
            "\n",
            "           0       1.00      1.00      1.00        10\n",
            "           1       0.86      0.60      0.71        10\n",
            "           2       0.82      0.82      0.82        11\n",
            "           3       0.89      0.80      0.84        10\n",
            "           4       0.77      1.00      0.87        10\n",
            "           5       1.00      1.00      1.00         8\n",
            "           6       1.00      1.00      1.00        12\n",
            "           7       0.85      0.92      0.88        12\n",
            "\n",
            "    accuracy                           0.89        83\n",
            "   macro avg       0.90      0.89      0.89        83\n",
            "weighted avg       0.90      0.89      0.89        83\n",
            "\n"
          ]
        }
      ],
      "source": [
        "# Assume the model.predict() call returns a predictions object\n",
        "predictions = model.predict(test_generator, verbose=0)\n",
        "\n",
        "# Getting the index of the highest probability class per image\n",
        "y_pred = np.argmax(predictions, axis=1)\n",
        "\n",
        "# Getting the true labels per image\n",
        "y_true = test_generator.classes\n",
        "\n",
        "# Getting the class names (labels) from the generator\n",
        "class_names = list(test_generator.class_indices.keys())\n",
        "\n",
        "# Printing the classification report\n",
        "report = classification_report(y_true, y_pred, target_names=class_names)\n",
        "print(\"\\nClassification Report:\")\n",
        "print(report)"
      ]
    },
    {
      "cell_type": "code",
      "execution_count": null,
      "metadata": {
        "id": "4xIwblL53ASs"
      },
      "outputs": [],
      "source": [
        "from sklearn import metrics\n",
        "from mlxtend.plotting import plot_confusion_matrix\n",
        "import matplotlib.pyplot as plt"
      ]
    },
    {
      "cell_type": "code",
      "execution_count": null,
      "metadata": {
        "colab": {
          "base_uri": "https://localhost:8080/",
          "height": 590
        },
        "id": "3FHv_0OZ3S-a",
        "outputId": "f2f251a0-9b1d-464b-ab64-a02919f11f6f"
      },
      "outputs": [
        {
          "data": {
            "image/png": "[encoded data removed]",
            "text/plain": [
              "<Figure size 700x700 with 2 Axes>"
            ]
          },
          "metadata": {},
          "output_type": "display_data"
        }
      ],
      "source": [
        "# Compute confusion matrix\n",
        "cm = metrics.confusion_matrix(y_true, y_pred)\n",
        "\n",
        "# Plot the confusion matrix using mlxtend's `plot_confusion_matrix`\n",
        "figure, ax = plot_confusion_matrix(conf_mat=cm,\n",
        "                                   show_absolute=True,\n",
        "                                   show_normed=True,\n",
        "                                   colorbar=True,\n",
        "                                   class_names=class_names,\n",
        "                                   figsize=(7, 7))\n",
        "plt.show()"
      ]
    },
    {
      "cell_type": "code",
      "execution_count": null,
      "metadata": {
        "id": "ycxztWP23Vrk"
      },
      "outputs": [],
      "source": []
    }
  ],
  "metadata": {
    "accelerator": "GPU",
    "colab": {
      "gpuType": "T4",
      "provenance": [],
      "include_colab_link": true
    },
    "kernelspec": {
      "display_name": "Python 3",
      "name": "python3"
    },
    "language_info": {
      "name": "python"
    }
  },
  "nbformat": 4,
  "nbformat_minor": 0
}