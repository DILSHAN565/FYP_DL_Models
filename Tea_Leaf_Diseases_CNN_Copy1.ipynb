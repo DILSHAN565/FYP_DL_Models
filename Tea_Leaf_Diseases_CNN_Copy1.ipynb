{
  "cells": [
    {
      "cell_type": "markdown",
      "metadata": {
        "id": "view-in-github",
        "colab_type": "text"
      },
      "source": [
        "<a href=\"https://colab.research.google.com/github/DILSHAN565/FYP_DL_Models/blob/main/Tea_Leaf_Diseases_CNN_Copy1.ipynb\" target=\"_parent\"><img src=\"https://colab.research.google.com/assets/colab-badge.svg\" alt=\"Open In Colab\"/></a>"
      ]
    },
    {
      "cell_type": "code",
      "execution_count": null,
      "id": "d55e457b",
      "metadata": {
        "id": "d55e457b",
        "outputId": "1e8048ae-162c-4086-d99a-370af02df5e7"
      },
      "outputs": [
        {
          "name": "stdout",
          "output_type": "stream",
          "text": [
            "Requirement already satisfied: tensorflow in d:\\anaconda\\lib\\site-packages (2.15.0)\n",
            "Requirement already satisfied: tensorflow-intel==2.15.0 in d:\\anaconda\\lib\\site-packages (from tensorflow) (2.15.0)\n",
            "Requirement already satisfied: absl-py>=1.0.0 in d:\\anaconda\\lib\\site-packages (from tensorflow-intel==2.15.0->tensorflow) (2.1.0)\n",
            "Requirement already satisfied: astunparse>=1.6.0 in d:\\anaconda\\lib\\site-packages (from tensorflow-intel==2.15.0->tensorflow) (1.6.3)\n",
            "Requirement already satisfied: flatbuffers>=23.5.26 in d:\\anaconda\\lib\\site-packages (from tensorflow-intel==2.15.0->tensorflow) (23.5.26)\n",
            "Requirement already satisfied: gast!=0.5.0,!=0.5.1,!=0.5.2,>=0.2.1 in d:\\anaconda\\lib\\site-packages (from tensorflow-intel==2.15.0->tensorflow) (0.5.4)\n",
            "Requirement already satisfied: google-pasta>=0.1.1 in d:\\anaconda\\lib\\site-packages (from tensorflow-intel==2.15.0->tensorflow) (0.2.0)\n",
            "Requirement already satisfied: h5py>=2.9.0 in d:\\anaconda\\lib\\site-packages (from tensorflow-intel==2.15.0->tensorflow) (3.9.0)\n",
            "Requirement already satisfied: libclang>=13.0.0 in d:\\anaconda\\lib\\site-packages (from tensorflow-intel==2.15.0->tensorflow) (16.0.6)\n",
            "Requirement already satisfied: ml-dtypes~=0.2.0 in d:\\anaconda\\lib\\site-packages (from tensorflow-intel==2.15.0->tensorflow) (0.2.0)\n",
            "Requirement already satisfied: numpy<2.0.0,>=1.23.5 in d:\\anaconda\\lib\\site-packages (from tensorflow-intel==2.15.0->tensorflow) (1.24.3)\n",
            "Requirement already satisfied: opt-einsum>=2.3.2 in d:\\anaconda\\lib\\site-packages (from tensorflow-intel==2.15.0->tensorflow) (3.3.0)\n",
            "Requirement already satisfied: packaging in d:\\anaconda\\lib\\site-packages (from tensorflow-intel==2.15.0->tensorflow) (23.1)\n",
            "Requirement already satisfied: protobuf!=4.21.0,!=4.21.1,!=4.21.2,!=4.21.3,!=4.21.4,!=4.21.5,<5.0.0dev,>=3.20.3 in d:\\anaconda\\lib\\site-packages (from tensorflow-intel==2.15.0->tensorflow) (4.25.2)\n",
            "Requirement already satisfied: setuptools in d:\\anaconda\\lib\\site-packages (from tensorflow-intel==2.15.0->tensorflow) (68.0.0)\n",
            "Requirement already satisfied: six>=1.12.0 in d:\\anaconda\\lib\\site-packages (from tensorflow-intel==2.15.0->tensorflow) (1.16.0)\n",
            "Requirement already satisfied: termcolor>=1.1.0 in d:\\anaconda\\lib\\site-packages (from tensorflow-intel==2.15.0->tensorflow) (2.4.0)\n",
            "Requirement already satisfied: typing-extensions>=3.6.6 in d:\\anaconda\\lib\\site-packages (from tensorflow-intel==2.15.0->tensorflow) (4.7.1)\n",
            "Requirement already satisfied: wrapt<1.15,>=1.11.0 in d:\\anaconda\\lib\\site-packages (from tensorflow-intel==2.15.0->tensorflow) (1.14.1)\n",
            "Requirement already satisfied: tensorflow-io-gcs-filesystem>=0.23.1 in d:\\anaconda\\lib\\site-packages (from tensorflow-intel==2.15.0->tensorflow) (0.31.0)\n",
            "Requirement already satisfied: grpcio<2.0,>=1.24.3 in d:\\anaconda\\lib\\site-packages (from tensorflow-intel==2.15.0->tensorflow) (1.60.1)\n",
            "Requirement already satisfied: tensorboard<2.16,>=2.15 in d:\\anaconda\\lib\\site-packages (from tensorflow-intel==2.15.0->tensorflow) (2.15.2)\n",
            "Requirement already satisfied: tensorflow-estimator<2.16,>=2.15.0 in d:\\anaconda\\lib\\site-packages (from tensorflow-intel==2.15.0->tensorflow) (2.15.0)\n",
            "Requirement already satisfied: keras<2.16,>=2.15.0 in d:\\anaconda\\lib\\site-packages (from tensorflow-intel==2.15.0->tensorflow) (2.15.0)\n",
            "Requirement already satisfied: wheel<1.0,>=0.23.0 in d:\\anaconda\\lib\\site-packages (from astunparse>=1.6.0->tensorflow-intel==2.15.0->tensorflow) (0.38.4)\n",
            "Requirement already satisfied: google-auth<3,>=1.6.3 in d:\\anaconda\\lib\\site-packages (from tensorboard<2.16,>=2.15->tensorflow-intel==2.15.0->tensorflow) (2.27.0)\n",
            "Requirement already satisfied: google-auth-oauthlib<2,>=0.5 in d:\\anaconda\\lib\\site-packages (from tensorboard<2.16,>=2.15->tensorflow-intel==2.15.0->tensorflow) (1.2.0)\n",
            "Requirement already satisfied: markdown>=2.6.8 in d:\\anaconda\\lib\\site-packages (from tensorboard<2.16,>=2.15->tensorflow-intel==2.15.0->tensorflow) (3.4.1)\n",
            "Requirement already satisfied: requests<3,>=2.21.0 in d:\\anaconda\\lib\\site-packages (from tensorboard<2.16,>=2.15->tensorflow-intel==2.15.0->tensorflow) (2.31.0)\n",
            "Requirement already satisfied: tensorboard-data-server<0.8.0,>=0.7.0 in d:\\anaconda\\lib\\site-packages (from tensorboard<2.16,>=2.15->tensorflow-intel==2.15.0->tensorflow) (0.7.2)\n",
            "Requirement already satisfied: werkzeug>=1.0.1 in d:\\anaconda\\lib\\site-packages (from tensorboard<2.16,>=2.15->tensorflow-intel==2.15.0->tensorflow) (2.2.3)\n",
            "Requirement already satisfied: cachetools<6.0,>=2.0.0 in d:\\anaconda\\lib\\site-packages (from google-auth<3,>=1.6.3->tensorboard<2.16,>=2.15->tensorflow-intel==2.15.0->tensorflow) (5.3.2)\n",
            "Requirement already satisfied: pyasn1-modules>=0.2.1 in d:\\anaconda\\lib\\site-packages (from google-auth<3,>=1.6.3->tensorboard<2.16,>=2.15->tensorflow-intel==2.15.0->tensorflow) (0.2.8)\n",
            "Requirement already satisfied: rsa<5,>=3.1.4 in d:\\anaconda\\lib\\site-packages (from google-auth<3,>=1.6.3->tensorboard<2.16,>=2.15->tensorflow-intel==2.15.0->tensorflow) (4.9)\n",
            "Requirement already satisfied: requests-oauthlib>=0.7.0 in d:\\anaconda\\lib\\site-packages (from google-auth-oauthlib<2,>=0.5->tensorboard<2.16,>=2.15->tensorflow-intel==2.15.0->tensorflow) (1.3.1)\n",
            "Requirement already satisfied: charset-normalizer<4,>=2 in d:\\anaconda\\lib\\site-packages (from requests<3,>=2.21.0->tensorboard<2.16,>=2.15->tensorflow-intel==2.15.0->tensorflow) (2.0.4)\n",
            "Requirement already satisfied: idna<4,>=2.5 in d:\\anaconda\\lib\\site-packages (from requests<3,>=2.21.0->tensorboard<2.16,>=2.15->tensorflow-intel==2.15.0->tensorflow) (3.4)\n",
            "Requirement already satisfied: urllib3<3,>=1.21.1 in d:\\anaconda\\lib\\site-packages (from requests<3,>=2.21.0->tensorboard<2.16,>=2.15->tensorflow-intel==2.15.0->tensorflow) (1.26.16)\n",
            "Requirement already satisfied: certifi>=2017.4.17 in d:\\anaconda\\lib\\site-packages (from requests<3,>=2.21.0->tensorboard<2.16,>=2.15->tensorflow-intel==2.15.0->tensorflow) (2023.7.22)\n",
            "Requirement already satisfied: MarkupSafe>=2.1.1 in d:\\anaconda\\lib\\site-packages (from werkzeug>=1.0.1->tensorboard<2.16,>=2.15->tensorflow-intel==2.15.0->tensorflow) (2.1.1)\n",
            "Requirement already satisfied: pyasn1<0.5.0,>=0.4.6 in d:\\anaconda\\lib\\site-packages (from pyasn1-modules>=0.2.1->google-auth<3,>=1.6.3->tensorboard<2.16,>=2.15->tensorflow-intel==2.15.0->tensorflow) (0.4.8)\n",
            "Requirement already satisfied: oauthlib>=3.0.0 in d:\\anaconda\\lib\\site-packages (from requests-oauthlib>=0.7.0->google-auth-oauthlib<2,>=0.5->tensorboard<2.16,>=2.15->tensorflow-intel==2.15.0->tensorflow) (3.2.2)\n",
            "Note: you may need to restart the kernel to use updated packages.\n"
          ]
        }
      ],
      "source": [
        "pip install tensorflow"
      ]
    },
    {
      "cell_type": "code",
      "execution_count": null,
      "id": "b61e5123",
      "metadata": {
        "id": "b61e5123"
      },
      "outputs": [],
      "source": [
        "import numpy as np"
      ]
    },
    {
      "cell_type": "code",
      "execution_count": null,
      "id": "45d6ec70",
      "metadata": {
        "id": "45d6ec70",
        "outputId": "baaf258d-f856-4ee2-e0d9-35199d82b2e9"
      },
      "outputs": [
        {
          "name": "stdout",
          "output_type": "stream",
          "text": [
            "WARNING:tensorflow:From D:\\Anaconda\\Lib\\site-packages\\keras\\src\\losses.py:2976: The name tf.losses.sparse_softmax_cross_entropy is deprecated. Please use tf.compat.v1.losses.sparse_softmax_cross_entropy instead.\n",
            "\n"
          ]
        }
      ],
      "source": [
        "import tensorflow as tf\n",
        "from tensorflow import keras"
      ]
    },
    {
      "cell_type": "code",
      "execution_count": null,
      "id": "cdbf2819",
      "metadata": {
        "id": "cdbf2819"
      },
      "outputs": [],
      "source": [
        "from tensorflow.keras.layers import Dense, Activation"
      ]
    },
    {
      "cell_type": "code",
      "execution_count": null,
      "id": "705defdb",
      "metadata": {
        "id": "705defdb"
      },
      "outputs": [],
      "source": [
        "from tensorflow.keras.optimizers import Adam\n",
        "from tensorflow.keras.metrics import categorical_crossentropy\n",
        "from tensorflow.keras.preprocessing.image import ImageDataGenerator\n",
        "from tensorflow.keras.preprocessing import image\n",
        "from tensorflow.keras.models import Model\n",
        "from tensorflow.keras.applications import imagenet_utils\n",
        "from sklearn.metrics import confusion_matrix\n",
        "import itertools\n",
        "import os\n",
        "import shutil\n",
        "import random\n",
        "import matplotlib.pyplot as plt\n",
        "%matplotlib inline"
      ]
    },
    {
      "cell_type": "code",
      "execution_count": null,
      "id": "5d2b0c6f",
      "metadata": {
        "id": "5d2b0c6f"
      },
      "outputs": [],
      "source": [
        "# Organize data into train, valid, test dirs\n",
        "os.chdir('data/Tea-Leaf-Diseases-Dataset')\n",
        "if os.path.isdir('train/0/') is False:\n",
        "    os.mkdir('train')\n",
        "    os.mkdir('valid')\n",
        "    os.mkdir('test')\n",
        "\n",
        "    for i in range(0, 8):\n",
        "        shutil.move(f'{i}', 'train')\n",
        "        os.mkdir(f'valid/{i}')\n",
        "        os.mkdir(f'test/{i}')\n",
        "\n",
        "        valid_samples = random.sample(os.listdir(f'train/{i}'), 24)\n",
        "        for j in valid_samples:\n",
        "            shutil.move(f'train/{i}/{j}', f'valid/{i}')\n",
        "\n",
        "        test_samples = random.sample(os.listdir(f'train/{i}'), 4)\n",
        "        for k in test_samples:\n",
        "            shutil.move(f'train/{i}/{k}', f'test/{i}')\n",
        "os.chdir('../..')"
      ]
    },
    {
      "cell_type": "code",
      "execution_count": null,
      "id": "518a42a9",
      "metadata": {
        "id": "518a42a9"
      },
      "outputs": [],
      "source": [
        "train_path = 'data/Tea-Leaf-Diseases-Dataset/train'\n",
        "valid_path = 'data/Tea-Leaf-Diseases-Dataset/valid'\n",
        "test_path = 'data/Tea-Leaf-Diseases-Dataset/test'"
      ]
    },
    {
      "cell_type": "code",
      "execution_count": null,
      "id": "740d4ca1",
      "metadata": {
        "id": "740d4ca1",
        "outputId": "cf4ad611-077b-4dc3-d42e-4277d4c05302"
      },
      "outputs": [
        {
          "name": "stdout",
          "output_type": "stream",
          "text": [
            "Found 661 images belonging to 8 classes.\n",
            "Found 192 images belonging to 8 classes.\n",
            "Found 32 images belonging to 8 classes.\n"
          ]
        }
      ],
      "source": [
        "# Data generators\n",
        "train_batches = ImageDataGenerator(rescale=1.0/255).flow_from_directory(\n",
        "    directory=train_path, target_size=(224, 224), batch_size=10)\n",
        "valid_batches = ImageDataGenerator(rescale=1.0/255).flow_from_directory(\n",
        "    directory=valid_path, target_size=(224, 224), batch_size=10)\n",
        "test_batches = ImageDataGenerator(rescale=1.0/255).flow_from_directory(\n",
        "    directory=test_path, target_size=(224, 224), batch_size=10, shuffle=False)"
      ]
    },
    {
      "cell_type": "code",
      "execution_count": null,
      "id": "ecf28dde",
      "metadata": {
        "id": "ecf28dde"
      },
      "outputs": [],
      "source": [
        "from tensorflow.keras.models import Sequential\n",
        "from tensorflow.keras.layers import Conv2D, MaxPooling2D, Flatten, Dense\n",
        "from tensorflow.keras.optimizers import Adam\n",
        "from tensorflow.keras.preprocessing.image import ImageDataGenerator"
      ]
    },
    {
      "cell_type": "code",
      "execution_count": null,
      "id": "77336f0a",
      "metadata": {
        "id": "77336f0a",
        "outputId": "8b1df11c-5576-47b8-b995-700e649f8ff3"
      },
      "outputs": [
        {
          "name": "stdout",
          "output_type": "stream",
          "text": [
            "WARNING:tensorflow:From D:\\Anaconda\\Lib\\site-packages\\keras\\src\\backend.py:873: The name tf.get_default_graph is deprecated. Please use tf.compat.v1.get_default_graph instead.\n",
            "\n"
          ]
        }
      ],
      "source": [
        "# Define the model\n",
        "model = Sequential()"
      ]
    },
    {
      "cell_type": "code",
      "execution_count": null,
      "id": "16649e1b",
      "metadata": {
        "id": "16649e1b",
        "outputId": "aa8d9bcc-a784-4a88-ee5a-0cd19246d5f6"
      },
      "outputs": [
        {
          "name": "stdout",
          "output_type": "stream",
          "text": [
            "WARNING:tensorflow:From D:\\Anaconda\\Lib\\site-packages\\keras\\src\\layers\\pooling\\max_pooling2d.py:161: The name tf.nn.max_pool is deprecated. Please use tf.nn.max_pool2d instead.\n",
            "\n"
          ]
        }
      ],
      "source": [
        "# Add convolutional layers\n",
        "model.add(Conv2D(32, (3, 3), activation='relu', input_shape=(224, 224, 3)))\n",
        "model.add(MaxPooling2D((2, 2)))\n",
        "model.add(Conv2D(64, (3, 3), activation='relu'))\n",
        "model.add(MaxPooling2D((2, 2)))\n",
        "model.add(Conv2D(128, (3, 3), activation='relu'))\n",
        "model.add(MaxPooling2D((2, 2)))"
      ]
    },
    {
      "cell_type": "code",
      "execution_count": null,
      "id": "3cf3bca6",
      "metadata": {
        "id": "3cf3bca6"
      },
      "outputs": [],
      "source": [
        "# Flatten the output before feeding into the fully connected layers\n",
        "model.add(Flatten())"
      ]
    },
    {
      "cell_type": "code",
      "execution_count": null,
      "id": "0f2206ac",
      "metadata": {
        "id": "0f2206ac"
      },
      "outputs": [],
      "source": [
        "# Add fully connected layers\n",
        "model.add(Dense(128, activation='relu'))\n",
        "model.add(Dense(8, activation='softmax'))  # 8 classes for tea leaf disease classification"
      ]
    },
    {
      "cell_type": "code",
      "execution_count": null,
      "id": "d3fe19b3",
      "metadata": {
        "id": "d3fe19b3",
        "outputId": "0934b8fb-6404-4a60-a657-835caab4d140"
      },
      "outputs": [
        {
          "name": "stdout",
          "output_type": "stream",
          "text": [
            "Model: \"sequential\"\n",
            "_________________________________________________________________\n",
            " Layer (type)                Output Shape              Param #   \n",
            "=================================================================\n",
            " conv2d (Conv2D)             (None, 222, 222, 32)      896       \n",
            "                                                                 \n",
            " max_pooling2d (MaxPooling2  (None, 111, 111, 32)      0         \n",
            " D)                                                              \n",
            "                                                                 \n",
            " conv2d_1 (Conv2D)           (None, 109, 109, 64)      18496     \n",
            "                                                                 \n",
            " max_pooling2d_1 (MaxPoolin  (None, 54, 54, 64)        0         \n",
            " g2D)                                                            \n",
            "                                                                 \n",
            " conv2d_2 (Conv2D)           (None, 52, 52, 128)       73856     \n",
            "                                                                 \n",
            " max_pooling2d_2 (MaxPoolin  (None, 26, 26, 128)       0         \n",
            " g2D)                                                            \n",
            "                                                                 \n",
            " flatten (Flatten)           (None, 86528)             0         \n",
            "                                                                 \n",
            " dense (Dense)               (None, 128)               11075712  \n",
            "                                                                 \n",
            " dense_1 (Dense)             (None, 8)                 1032      \n",
            "                                                                 \n",
            "=================================================================\n",
            "Total params: 11169992 (42.61 MB)\n",
            "Trainable params: 11169992 (42.61 MB)\n",
            "Non-trainable params: 0 (0.00 Byte)\n",
            "_________________________________________________________________\n"
          ]
        }
      ],
      "source": [
        "model.summary()"
      ]
    },
    {
      "cell_type": "code",
      "execution_count": null,
      "id": "daf3fbd6",
      "metadata": {
        "id": "daf3fbd6"
      },
      "outputs": [],
      "source": [
        "model.compile(optimizer=Adam(learning_rate=0.0001), loss='categorical_crossentropy', metrics=['accuracy'])"
      ]
    },
    {
      "cell_type": "code",
      "execution_count": null,
      "id": "6d7f32f6",
      "metadata": {
        "id": "6d7f32f6",
        "outputId": "1f8ee9e1-58a3-4a15-a192-b5ad2c383153"
      },
      "outputs": [
        {
          "name": "stdout",
          "output_type": "stream",
          "text": [
            "Epoch 1/30\n",
            "67/67 - 65s - loss: 0.2190 - accuracy: 0.9395 - val_loss: 0.9376 - val_accuracy: 0.6823 - 65s/epoch - 977ms/step\n",
            "Epoch 2/30\n",
            "67/67 - 56s - loss: 0.2146 - accuracy: 0.9349 - val_loss: 0.9586 - val_accuracy: 0.6667 - 56s/epoch - 834ms/step\n",
            "Epoch 3/30\n",
            "67/67 - 54s - loss: 0.1794 - accuracy: 0.9531 - val_loss: 0.9494 - val_accuracy: 0.7396 - 54s/epoch - 811ms/step\n",
            "Epoch 4/30\n",
            "67/67 - 57s - loss: 0.1526 - accuracy: 0.9546 - val_loss: 0.9464 - val_accuracy: 0.7292 - 57s/epoch - 846ms/step\n",
            "Epoch 5/30\n",
            "67/67 - 57s - loss: 0.1360 - accuracy: 0.9713 - val_loss: 1.1843 - val_accuracy: 0.6719 - 57s/epoch - 854ms/step\n",
            "Epoch 6/30\n",
            "67/67 - 58s - loss: 0.1276 - accuracy: 0.9576 - val_loss: 0.8893 - val_accuracy: 0.7240 - 58s/epoch - 863ms/step\n",
            "Epoch 7/30\n",
            "67/67 - 59s - loss: 0.0951 - accuracy: 0.9818 - val_loss: 0.9585 - val_accuracy: 0.7188 - 59s/epoch - 878ms/step\n",
            "Epoch 8/30\n",
            "67/67 - 56s - loss: 0.0722 - accuracy: 0.9894 - val_loss: 1.0360 - val_accuracy: 0.7292 - 56s/epoch - 830ms/step\n",
            "Epoch 9/30\n",
            "67/67 - 68s - loss: 0.0540 - accuracy: 0.9894 - val_loss: 1.0396 - val_accuracy: 0.7552 - 68s/epoch - 1s/step\n",
            "Epoch 10/30\n",
            "67/67 - 56s - loss: 0.0535 - accuracy: 0.9909 - val_loss: 1.0032 - val_accuracy: 0.7552 - 56s/epoch - 838ms/step\n",
            "Epoch 11/30\n",
            "67/67 - 58s - loss: 0.0360 - accuracy: 0.9955 - val_loss: 1.2565 - val_accuracy: 0.7292 - 58s/epoch - 859ms/step\n",
            "Epoch 12/30\n",
            "67/67 - 56s - loss: 0.0464 - accuracy: 0.9939 - val_loss: 1.0466 - val_accuracy: 0.7292 - 56s/epoch - 830ms/step\n",
            "Epoch 13/30\n",
            "67/67 - 56s - loss: 0.0441 - accuracy: 0.9849 - val_loss: 1.1695 - val_accuracy: 0.7344 - 56s/epoch - 843ms/step\n",
            "Epoch 14/30\n",
            "67/67 - 56s - loss: 0.0564 - accuracy: 0.9834 - val_loss: 1.1330 - val_accuracy: 0.7500 - 56s/epoch - 832ms/step\n",
            "Epoch 15/30\n",
            "67/67 - 56s - loss: 0.0399 - accuracy: 0.9955 - val_loss: 1.1322 - val_accuracy: 0.7292 - 56s/epoch - 830ms/step\n",
            "Epoch 16/30\n",
            "67/67 - 55s - loss: 0.0419 - accuracy: 0.9894 - val_loss: 1.5106 - val_accuracy: 0.7083 - 55s/epoch - 823ms/step\n",
            "Epoch 17/30\n",
            "67/67 - 56s - loss: 0.0298 - accuracy: 0.9939 - val_loss: 1.2029 - val_accuracy: 0.7083 - 56s/epoch - 838ms/step\n",
            "Epoch 18/30\n",
            "67/67 - 58s - loss: 0.0327 - accuracy: 0.9955 - val_loss: 1.1598 - val_accuracy: 0.7396 - 58s/epoch - 872ms/step\n",
            "Epoch 19/30\n",
            "67/67 - 57s - loss: 0.0327 - accuracy: 0.9909 - val_loss: 1.1734 - val_accuracy: 0.7448 - 57s/epoch - 849ms/step\n",
            "Epoch 20/30\n",
            "67/67 - 56s - loss: 0.0228 - accuracy: 0.9970 - val_loss: 1.3169 - val_accuracy: 0.7292 - 56s/epoch - 837ms/step\n",
            "Epoch 21/30\n",
            "67/67 - 58s - loss: 0.0498 - accuracy: 0.9924 - val_loss: 1.2245 - val_accuracy: 0.7188 - 58s/epoch - 873ms/step\n",
            "Epoch 22/30\n",
            "67/67 - 59s - loss: 0.0200 - accuracy: 0.9955 - val_loss: 1.2935 - val_accuracy: 0.7448 - 59s/epoch - 883ms/step\n",
            "Epoch 23/30\n",
            "67/67 - 57s - loss: 0.0247 - accuracy: 0.9955 - val_loss: 1.1228 - val_accuracy: 0.7552 - 57s/epoch - 855ms/step\n",
            "Epoch 24/30\n",
            "67/67 - 56s - loss: 0.0505 - accuracy: 0.9879 - val_loss: 1.3644 - val_accuracy: 0.7240 - 56s/epoch - 839ms/step\n",
            "Epoch 25/30\n",
            "67/67 - 59s - loss: 0.0349 - accuracy: 0.9924 - val_loss: 1.1045 - val_accuracy: 0.7812 - 59s/epoch - 884ms/step\n",
            "Epoch 26/30\n",
            "67/67 - 68s - loss: 0.0484 - accuracy: 0.9894 - val_loss: 1.3252 - val_accuracy: 0.7031 - 68s/epoch - 1s/step\n",
            "Epoch 27/30\n",
            "67/67 - 62s - loss: 0.0212 - accuracy: 0.9955 - val_loss: 1.2222 - val_accuracy: 0.7604 - 62s/epoch - 928ms/step\n",
            "Epoch 28/30\n",
            "67/67 - 59s - loss: 0.0228 - accuracy: 0.9955 - val_loss: 1.2914 - val_accuracy: 0.7240 - 59s/epoch - 883ms/step\n",
            "Epoch 29/30\n",
            "67/67 - 58s - loss: 0.0233 - accuracy: 0.9970 - val_loss: 1.2959 - val_accuracy: 0.7396 - 58s/epoch - 866ms/step\n",
            "Epoch 30/30\n",
            "67/67 - 55s - loss: 0.0206 - accuracy: 0.9955 - val_loss: 1.3284 - val_accuracy: 0.7396 - 55s/epoch - 825ms/step\n"
          ]
        },
        {
          "data": {
            "text/plain": [
              "<keras.src.callbacks.History at 0x27dfe940210>"
            ]
          },
          "execution_count": 21,
          "metadata": {},
          "output_type": "execute_result"
        }
      ],
      "source": [
        "model.fit(x=train_batches,\n",
        "            steps_per_epoch=len(train_batches),\n",
        "            validation_data=valid_batches,\n",
        "            validation_steps=len(valid_batches),\n",
        "            epochs=30,\n",
        "            verbose=2\n",
        ")"
      ]
    },
    {
      "cell_type": "code",
      "execution_count": null,
      "id": "b7915bf6",
      "metadata": {
        "id": "b7915bf6"
      },
      "outputs": [],
      "source": [
        "test_labels = test_batches.classes"
      ]
    },
    {
      "cell_type": "code",
      "execution_count": null,
      "id": "7410e9dc",
      "metadata": {
        "id": "7410e9dc"
      },
      "outputs": [],
      "source": [
        "predictions = model.predict(x=test_batches, steps=len(test_batches), verbose=0)"
      ]
    },
    {
      "cell_type": "code",
      "execution_count": null,
      "id": "54dfa337",
      "metadata": {
        "id": "54dfa337"
      },
      "outputs": [],
      "source": [
        "cm = confusion_matrix(y_true=test_labels, y_pred=predictions.argmax(axis=1))"
      ]
    },
    {
      "cell_type": "code",
      "execution_count": null,
      "id": "c73c4a17",
      "metadata": {
        "id": "c73c4a17"
      },
      "outputs": [],
      "source": [
        "def plot_confusion_matrix(cm, classes,\n",
        "                          normalize=False,\n",
        "                          title='Confusion matrix',\n",
        "                          cmap=plt.cm.Blues):\n",
        "    \"\"\"\n",
        "    This function prints and plots the confusion matrix.\n",
        "    Normalization can be applied by setting `normalize=True`.\n",
        "    \"\"\"\n",
        "    plt.imshow(cm, interpolation='nearest', cmap=cmap)\n",
        "    plt.title(title)\n",
        "    plt.colorbar()\n",
        "    tick_marks = np.arange(len(classes))\n",
        "    plt.xticks(tick_marks, classes, rotation=45)\n",
        "    plt.yticks(tick_marks, classes)\n",
        "\n",
        "    if normalize:\n",
        "        cm = cm.astype('float') / cm.sum(axis=1)[:, np.newaxis]\n",
        "        print(\"Normalized confusion matrix\")\n",
        "    else:\n",
        "        print('Confusion matrix, without normalization')\n",
        "\n",
        "    print(cm)\n",
        "\n",
        "    thresh = cm.max() / 2.\n",
        "    for i, j in itertools.product(range(cm.shape[0]), range(cm.shape[1])):\n",
        "        plt.text(j, i, cm[i, j],\n",
        "            horizontalalignment=\"center\",\n",
        "            color=\"white\" if cm[i, j] > thresh else \"black\")\n",
        "\n",
        "    plt.tight_layout()\n",
        "    plt.ylabel('True label')\n",
        "    plt.xlabel('Predicted label')"
      ]
    },
    {
      "cell_type": "code",
      "execution_count": null,
      "id": "e3640306",
      "metadata": {
        "id": "e3640306",
        "outputId": "1a1abd94-07be-4220-a218-5aafb237892b"
      },
      "outputs": [
        {
          "name": "stdout",
          "output_type": "stream",
          "text": [
            "Confusion matrix, without normalization\n",
            "[[3 0 0 1 0 0 0 0]\n",
            " [0 1 1 0 2 0 0 0]\n",
            " [0 0 3 0 1 0 0 0]\n",
            " [0 0 0 3 0 0 0 1]\n",
            " [0 0 1 0 3 0 0 0]\n",
            " [0 0 0 0 0 4 0 0]\n",
            " [0 0 0 0 0 0 4 0]\n",
            " [0 0 0 0 0 0 0 4]]\n"
          ]
        },
        {
          "data": {
            "image/png": "[encoded data removed]",
            "text/plain": [
              "<Figure size 640x480 with 2 Axes>"
            ]
          },
          "metadata": {},
          "output_type": "display_data"
        }
      ],
      "source": [
        "cm_plot_labels = ['algal leaf','Anthracnose','bird eye spot','brown blight','gray light','healthy','red leaf spot','white spot']\n",
        "plot_confusion_matrix(cm=cm, classes=cm_plot_labels, title='Confusion Matrix')"
      ]
    },
    {
      "cell_type": "code",
      "execution_count": null,
      "id": "99122344",
      "metadata": {
        "id": "99122344",
        "outputId": "b79333c0-e6e1-4326-92be-f615e7836e26"
      },
      "outputs": [
        {
          "ename": "NameError",
          "evalue": "name 'test_generator' is not defined",
          "output_type": "error",
          "traceback": [
            "\u001b[1;31m---------------------------------------------------------------------------\u001b[0m",
            "\u001b[1;31mNameError\u001b[0m                                 Traceback (most recent call last)",
            "Cell \u001b[1;32mIn[14], line 1\u001b[0m\n\u001b[1;32m----> 1\u001b[0m test_loss, test_accuracy \u001b[38;5;241m=\u001b[39m model\u001b[38;5;241m.\u001b[39mevaluate(test_generator, steps\u001b[38;5;241m=\u001b[39mtest_generator\u001b[38;5;241m.\u001b[39msamples \u001b[38;5;241m/\u001b[39m\u001b[38;5;241m/\u001b[39m batch_size)\n\u001b[0;32m      2\u001b[0m \u001b[38;5;28mprint\u001b[39m(\u001b[38;5;124mf\u001b[39m\u001b[38;5;124m'\u001b[39m\u001b[38;5;124mTest Accuracy: \u001b[39m\u001b[38;5;132;01m{\u001b[39;00mtest_accuracy\u001b[38;5;132;01m:\u001b[39;00m\u001b[38;5;124m.4f\u001b[39m\u001b[38;5;132;01m}\u001b[39;00m\u001b[38;5;124m'\u001b[39m)\n",
            "\u001b[1;31mNameError\u001b[0m: name 'test_generator' is not defined"
          ]
        }
      ],
      "source": [
        "test_loss, test_accuracy = model.evaluate(test_generator, steps=test_generator.samples // batch_size)\n",
        "print(f'Test Accuracy: {test_accuracy:.4f}')\n"
      ]
    },
    {
      "cell_type": "code",
      "execution_count": null,
      "id": "4780b96c",
      "metadata": {
        "id": "4780b96c",
        "outputId": "01a19af9-f54f-41a5-941d-c92122dd5a20"
      },
      "outputs": [
        {
          "ename": "NameError",
          "evalue": "name 'test_generator' is not defined",
          "output_type": "error",
          "traceback": [
            "\u001b[1;31m---------------------------------------------------------------------------\u001b[0m",
            "\u001b[1;31mNameError\u001b[0m                                 Traceback (most recent call last)",
            "Cell \u001b[1;32mIn[15], line 2\u001b[0m\n\u001b[0;32m      1\u001b[0m \u001b[38;5;66;03m# Evaluate the model\u001b[39;00m\n\u001b[1;32m----> 2\u001b[0m test_loss, test_accuracy \u001b[38;5;241m=\u001b[39m model\u001b[38;5;241m.\u001b[39mevaluate(test_generator, steps\u001b[38;5;241m=\u001b[39mtest_generator\u001b[38;5;241m.\u001b[39msamples \u001b[38;5;241m/\u001b[39m\u001b[38;5;241m/\u001b[39m \u001b[38;5;241m32\u001b[39m)\n\u001b[0;32m      3\u001b[0m \u001b[38;5;28mprint\u001b[39m(\u001b[38;5;124mf\u001b[39m\u001b[38;5;124m'\u001b[39m\u001b[38;5;124mTest Accuracy: \u001b[39m\u001b[38;5;132;01m{\u001b[39;00mtest_accuracy\u001b[38;5;132;01m:\u001b[39;00m\u001b[38;5;124m.4f\u001b[39m\u001b[38;5;132;01m}\u001b[39;00m\u001b[38;5;124m'\u001b[39m)\n\u001b[0;32m      5\u001b[0m \u001b[38;5;66;03m# Plot the test accuracy\u001b[39;00m\n",
            "\u001b[1;31mNameError\u001b[0m: name 'test_generator' is not defined"
          ]
        }
      ],
      "source": [
        "# Evaluate the model\n",
        "test_loss, test_accuracy = model.evaluate(test_generator, steps=test_generator.samples // 32)\n",
        "print(f'Test Accuracy: {test_accuracy:.4f}')\n",
        "\n",
        "# Plot the test accuracy\n",
        "test_accuracies = [test_accuracy]  # List of accuracies if evaluating multiple times\n",
        "plt.figure(figsize=(10, 5))\n",
        "plt.plot(test_accuracies, marker='o', linestyle='-', color='b')\n",
        "plt.title('Test Accuracy')\n",
        "plt.xlabel('Evaluation')\n",
        "plt.ylabel('Accuracy')\n",
        "plt.grid(True)\n",
        "plt.show()"
      ]
    },
    {
      "cell_type": "code",
      "execution_count": null,
      "id": "67591594",
      "metadata": {
        "id": "67591594",
        "outputId": "1b0b4c2e-9abb-4a05-814a-6016a39b8413"
      },
      "outputs": [
        {
          "ename": "NameError",
          "evalue": "name 'model' is not defined",
          "output_type": "error",
          "traceback": [
            "\u001b[1;31m---------------------------------------------------------------------------\u001b[0m",
            "\u001b[1;31mNameError\u001b[0m                                 Traceback (most recent call last)",
            "Cell \u001b[1;32mIn[4], line 2\u001b[0m\n\u001b[0;32m      1\u001b[0m \u001b[38;5;66;03m# Evaluate the model on the test set\u001b[39;00m\n\u001b[1;32m----> 2\u001b[0m test_loss, test_accuracy \u001b[38;5;241m=\u001b[39m model\u001b[38;5;241m.\u001b[39mevaluate(test_batches, steps\u001b[38;5;241m=\u001b[39m\u001b[38;5;28mlen\u001b[39m(test_batches), verbose\u001b[38;5;241m=\u001b[39m\u001b[38;5;241m0\u001b[39m)\n\u001b[0;32m      3\u001b[0m \u001b[38;5;28mprint\u001b[39m(\u001b[38;5;124mf\u001b[39m\u001b[38;5;124m'\u001b[39m\u001b[38;5;124mTest Accuracy: \u001b[39m\u001b[38;5;132;01m{\u001b[39;00mtest_accuracy\u001b[38;5;132;01m:\u001b[39;00m\u001b[38;5;124m.4f\u001b[39m\u001b[38;5;132;01m}\u001b[39;00m\u001b[38;5;124m'\u001b[39m)\n",
            "\u001b[1;31mNameError\u001b[0m: name 'model' is not defined"
          ]
        }
      ],
      "source": [
        "# Evaluate the model on the test set\n",
        "test_loss, test_accuracy = model.evaluate(test_batches, steps=len(test_batches), verbose=0)\n",
        "print(f'Test Accuracy: {test_accuracy:.4f}')"
      ]
    },
    {
      "cell_type": "code",
      "execution_count": null,
      "id": "14544990",
      "metadata": {
        "id": "14544990",
        "outputId": "3710be71-7e9b-492d-a19b-cf03ea0e8980"
      },
      "outputs": [
        {
          "ename": "NameError",
          "evalue": "name 'model' is not defined",
          "output_type": "error",
          "traceback": [
            "\u001b[1;31m---------------------------------------------------------------------------\u001b[0m",
            "\u001b[1;31mNameError\u001b[0m                                 Traceback (most recent call last)",
            "Cell \u001b[1;32mIn[5], line 2\u001b[0m\n\u001b[0;32m      1\u001b[0m \u001b[38;5;66;03m# Evaluate the model and print the test accuracy\u001b[39;00m\n\u001b[1;32m----> 2\u001b[0m test_loss, test_accuracy \u001b[38;5;241m=\u001b[39m model\u001b[38;5;241m.\u001b[39mevaluate(test_batches, steps\u001b[38;5;241m=\u001b[39m\u001b[38;5;28mlen\u001b[39m(test_batches))\n\u001b[0;32m      3\u001b[0m \u001b[38;5;28mprint\u001b[39m(\u001b[38;5;124mf\u001b[39m\u001b[38;5;124m'\u001b[39m\u001b[38;5;124mTest Accuracy: \u001b[39m\u001b[38;5;132;01m{\u001b[39;00mtest_accuracy\u001b[38;5;132;01m:\u001b[39;00m\u001b[38;5;124m.4f\u001b[39m\u001b[38;5;132;01m}\u001b[39;00m\u001b[38;5;124m'\u001b[39m)\n",
            "\u001b[1;31mNameError\u001b[0m: name 'model' is not defined"
          ]
        }
      ],
      "source": [
        "# Evaluate the model and print the test accuracy\n",
        "test_loss, test_accuracy = model.evaluate(test_batches, steps=len(test_batches))\n",
        "print(f'Test Accuracy: {test_accuracy:.4f}')\n"
      ]
    },
    {
      "cell_type": "code",
      "execution_count": null,
      "id": "ceaa1f3d",
      "metadata": {
        "id": "ceaa1f3d",
        "outputId": "1fd9e4e5-91c1-40aa-d15c-e3f3e86f0446"
      },
      "outputs": [
        {
          "ename": "NameError",
          "evalue": "name 'test_accuracy' is not defined",
          "output_type": "error",
          "traceback": [
            "\u001b[1;31m---------------------------------------------------------------------------\u001b[0m",
            "\u001b[1;31mNameError\u001b[0m                                 Traceback (most recent call last)",
            "Cell \u001b[1;32mIn[6], line 2\u001b[0m\n\u001b[0;32m      1\u001b[0m \u001b[38;5;66;03m# If you want to plot the test accuracy, assuming you evaluate multiple times\u001b[39;00m\n\u001b[1;32m----> 2\u001b[0m test_accuracies \u001b[38;5;241m=\u001b[39m [test_accuracy]  \u001b[38;5;66;03m# List of accuracies if evaluating multiple times\u001b[39;00m\n\u001b[0;32m      3\u001b[0m plt\u001b[38;5;241m.\u001b[39mfigure(figsize\u001b[38;5;241m=\u001b[39m(\u001b[38;5;241m10\u001b[39m, \u001b[38;5;241m5\u001b[39m))\n\u001b[0;32m      4\u001b[0m plt\u001b[38;5;241m.\u001b[39mplot(test_accuracies, marker\u001b[38;5;241m=\u001b[39m\u001b[38;5;124m'\u001b[39m\u001b[38;5;124mo\u001b[39m\u001b[38;5;124m'\u001b[39m, linestyle\u001b[38;5;241m=\u001b[39m\u001b[38;5;124m'\u001b[39m\u001b[38;5;124m-\u001b[39m\u001b[38;5;124m'\u001b[39m, color\u001b[38;5;241m=\u001b[39m\u001b[38;5;124m'\u001b[39m\u001b[38;5;124mb\u001b[39m\u001b[38;5;124m'\u001b[39m)\n",
            "\u001b[1;31mNameError\u001b[0m: name 'test_accuracy' is not defined"
          ]
        }
      ],
      "source": [
        "# If you want to plot the test accuracy, assuming you evaluate multiple times\n",
        "test_accuracies = [test_accuracy]  # List of accuracies if evaluating multiple times\n",
        "plt.figure(figsize=(10, 5))\n",
        "plt.plot(test_accuracies, marker='o', linestyle='-', color='b')\n",
        "plt.title('Test Accuracy')\n",
        "plt.xlabel('Evaluation')\n",
        "plt.ylabel('Accuracy')\n",
        "plt.grid(True)\n",
        "plt.show()"
      ]
    },
    {
      "cell_type": "code",
      "execution_count": null,
      "id": "0011442e",
      "metadata": {
        "id": "0011442e",
        "outputId": "bb249846-933d-45ce-e3d3-d0b461ba66a8"
      },
      "outputs": [
        {
          "name": "stdout",
          "output_type": "stream",
          "text": [
            "Found 661 images belonging to 8 classes.\n",
            "Found 192 images belonging to 8 classes.\n",
            "Found 32 images belonging to 8 classes.\n",
            "WARNING:tensorflow:From D:\\Anaconda\\Lib\\site-packages\\keras\\src\\backend.py:873: The name tf.get_default_graph is deprecated. Please use tf.compat.v1.get_default_graph instead.\n",
            "\n",
            "WARNING:tensorflow:From D:\\Anaconda\\Lib\\site-packages\\keras\\src\\layers\\pooling\\max_pooling2d.py:161: The name tf.nn.max_pool is deprecated. Please use tf.nn.max_pool2d instead.\n",
            "\n",
            "Epoch 1/30\n",
            "WARNING:tensorflow:From D:\\Anaconda\\Lib\\site-packages\\keras\\src\\utils\\tf_utils.py:492: The name tf.ragged.RaggedTensorValue is deprecated. Please use tf.compat.v1.ragged.RaggedTensorValue instead.\n",
            "\n",
            "WARNING:tensorflow:From D:\\Anaconda\\Lib\\site-packages\\keras\\src\\engine\\base_layer_utils.py:384: The name tf.executing_eagerly_outside_functions is deprecated. Please use tf.compat.v1.executing_eagerly_outside_functions instead.\n",
            "\n",
            "67/67 - 56s - loss: 1.7936 - accuracy: 0.2390 - val_loss: 1.3289 - val_accuracy: 0.4948 - 56s/epoch - 840ms/step\n",
            "Epoch 2/30\n",
            "67/67 - 51s - loss: 1.1745 - accuracy: 0.4871 - val_loss: 1.0285 - val_accuracy: 0.5417 - 51s/epoch - 766ms/step\n",
            "Epoch 3/30\n",
            "67/67 - 52s - loss: 1.0071 - accuracy: 0.5658 - val_loss: 1.0235 - val_accuracy: 0.5000 - 52s/epoch - 778ms/step\n",
            "Epoch 4/30\n",
            "67/67 - 53s - loss: 0.7855 - accuracy: 0.6959 - val_loss: 0.8503 - val_accuracy: 0.6615 - 53s/epoch - 791ms/step\n",
            "Epoch 5/30\n",
            "67/67 - 53s - loss: 0.6491 - accuracy: 0.7398 - val_loss: 0.8366 - val_accuracy: 0.6771 - 53s/epoch - 798ms/step\n",
            "Epoch 6/30\n",
            "67/67 - 52s - loss: 0.5893 - accuracy: 0.7731 - val_loss: 0.8028 - val_accuracy: 0.6719 - 52s/epoch - 775ms/step\n",
            "Epoch 7/30\n",
            "67/67 - 53s - loss: 0.4948 - accuracy: 0.8139 - val_loss: 0.8684 - val_accuracy: 0.6198 - 53s/epoch - 794ms/step\n",
            "Epoch 8/30\n",
            "67/67 - 53s - loss: 0.4591 - accuracy: 0.8366 - val_loss: 0.8587 - val_accuracy: 0.6771 - 53s/epoch - 785ms/step\n",
            "Epoch 9/30\n",
            "67/67 - 4201s - loss: 0.3463 - accuracy: 0.8775 - val_loss: 0.9339 - val_accuracy: 0.6667 - 4201s/epoch - 63s/step\n",
            "Epoch 10/30\n",
            "67/67 - 74s - loss: 0.3292 - accuracy: 0.8926 - val_loss: 0.8149 - val_accuracy: 0.7240 - 74s/epoch - 1s/step\n",
            "Epoch 11/30\n",
            "67/67 - 84s - loss: 0.2726 - accuracy: 0.9138 - val_loss: 0.7881 - val_accuracy: 0.7448 - 84s/epoch - 1s/step\n",
            "Epoch 12/30\n",
            "67/67 - 98s - loss: 0.1962 - accuracy: 0.9425 - val_loss: 0.7767 - val_accuracy: 0.7448 - 98s/epoch - 1s/step\n",
            "Epoch 13/30\n",
            "67/67 - 89s - loss: 0.1836 - accuracy: 0.9516 - val_loss: 0.7904 - val_accuracy: 0.7344 - 89s/epoch - 1s/step\n",
            "Epoch 14/30\n",
            "67/67 - 72s - loss: 0.1561 - accuracy: 0.9592 - val_loss: 0.8234 - val_accuracy: 0.7344 - 72s/epoch - 1s/step\n",
            "Epoch 15/30\n",
            "67/67 - 72s - loss: 0.1417 - accuracy: 0.9592 - val_loss: 0.9473 - val_accuracy: 0.7500 - 72s/epoch - 1s/step\n",
            "Epoch 16/30\n",
            "67/67 - 72s - loss: 0.1290 - accuracy: 0.9607 - val_loss: 0.9517 - val_accuracy: 0.7240 - 72s/epoch - 1s/step\n",
            "Epoch 17/30\n",
            "67/67 - 84s - loss: 0.0959 - accuracy: 0.9773 - val_loss: 0.9113 - val_accuracy: 0.7396 - 84s/epoch - 1s/step\n",
            "Epoch 18/30\n",
            "67/67 - 74s - loss: 0.0986 - accuracy: 0.9743 - val_loss: 0.9876 - val_accuracy: 0.7448 - 74s/epoch - 1s/step\n",
            "Epoch 19/30\n",
            "67/67 - 66s - loss: 0.0959 - accuracy: 0.9788 - val_loss: 0.8415 - val_accuracy: 0.7448 - 66s/epoch - 992ms/step\n",
            "Epoch 20/30\n",
            "67/67 - 67s - loss: 0.0866 - accuracy: 0.9773 - val_loss: 1.0222 - val_accuracy: 0.7604 - 67s/epoch - 998ms/step\n",
            "Epoch 21/30\n",
            "67/67 - 67s - loss: 0.1003 - accuracy: 0.9697 - val_loss: 0.9525 - val_accuracy: 0.7604 - 67s/epoch - 1s/step\n",
            "Epoch 22/30\n",
            "67/67 - 72s - loss: 0.0680 - accuracy: 0.9849 - val_loss: 0.9455 - val_accuracy: 0.7604 - 72s/epoch - 1s/step\n",
            "Epoch 23/30\n",
            "67/67 - 85s - loss: 0.0547 - accuracy: 0.9894 - val_loss: 1.0253 - val_accuracy: 0.7396 - 85s/epoch - 1s/step\n",
            "Epoch 24/30\n",
            "67/67 - 89s - loss: 0.0536 - accuracy: 0.9939 - val_loss: 1.0841 - val_accuracy: 0.7396 - 89s/epoch - 1s/step\n",
            "Epoch 25/30\n",
            "67/67 - 94s - loss: 0.0544 - accuracy: 0.9864 - val_loss: 1.2705 - val_accuracy: 0.6979 - 94s/epoch - 1s/step\n",
            "Epoch 26/30\n",
            "67/67 - 86s - loss: 0.0785 - accuracy: 0.9713 - val_loss: 1.0897 - val_accuracy: 0.7240 - 86s/epoch - 1s/step\n",
            "Epoch 27/30\n",
            "67/67 - 88s - loss: 0.0383 - accuracy: 0.9924 - val_loss: 1.1444 - val_accuracy: 0.7552 - 88s/epoch - 1s/step\n",
            "Epoch 28/30\n",
            "67/67 - 74s - loss: 0.0422 - accuracy: 0.9924 - val_loss: 1.2297 - val_accuracy: 0.7396 - 74s/epoch - 1s/step\n",
            "Epoch 29/30\n",
            "67/67 - 71s - loss: 0.0418 - accuracy: 0.9924 - val_loss: 1.1470 - val_accuracy: 0.7448 - 71s/epoch - 1s/step\n",
            "Epoch 30/30\n",
            "67/67 - 70s - loss: 0.0333 - accuracy: 0.9955 - val_loss: 1.1276 - val_accuracy: 0.7448 - 70s/epoch - 1s/step\n",
            "Test Accuracy: 0.7812\n",
            "Confusion matrix, without normalization\n",
            "[[3 0 0 1 0 0 0 0]\n",
            " [0 1 1 0 2 0 0 0]\n",
            " [0 0 3 0 1 0 0 0]\n",
            " [0 0 0 3 0 0 0 1]\n",
            " [0 0 1 0 3 0 0 0]\n",
            " [0 0 0 0 0 4 0 0]\n",
            " [0 0 0 0 0 0 4 0]\n",
            " [0 0 0 0 0 0 0 4]]\n"
          ]
        },
        {
          "data": {
            "image/png": "[encoded data removed]",
            "text/plain": [
              "<Figure size 640x480 with 2 Axes>"
            ]
          },
          "metadata": {},
          "output_type": "display_data"
        }
      ],
      "source": [
        "import os\n",
        "import shutil\n",
        "import random\n",
        "import numpy as np\n",
        "import matplotlib.pyplot as plt\n",
        "import itertools\n",
        "\n",
        "from tensorflow.keras.preprocessing.image import ImageDataGenerator\n",
        "from tensorflow.keras.models import Sequential\n",
        "from tensorflow.keras.layers import Conv2D, MaxPooling2D, Flatten, Dense\n",
        "from tensorflow.keras.optimizers import Adam\n",
        "\n",
        "from sklearn.metrics import confusion_matrix, accuracy_score\n",
        "\n",
        "# Organize data into train, valid, test directories\n",
        "os.chdir('data/Tea-Leaf-Diseases-Dataset')\n",
        "if os.path.isdir('train/0/') is False:\n",
        "    os.mkdir('train')\n",
        "    os.mkdir('valid')\n",
        "    os.mkdir('test')\n",
        "\n",
        "    for i in range(0, 8):\n",
        "        shutil.move(f'{i}', 'train')\n",
        "        os.mkdir(f'valid/{i}')\n",
        "        os.mkdir(f'test/{i}')\n",
        "\n",
        "        valid_samples = random.sample(os.listdir(f'train/{i}'), 24)\n",
        "        for j in valid_samples:\n",
        "            shutil.move(f'train/{i}/{j}', f'valid/{i}')\n",
        "\n",
        "        test_samples = random.sample(os.listdir(f'train/{i}'), 4)\n",
        "        for k in test_samples:\n",
        "            shutil.move(f'train/{i}/{k}', f'test/{i}')\n",
        "os.chdir('../..')\n",
        "\n",
        "# Data generators\n",
        "train_path = 'data/Tea-Leaf-Diseases-Dataset/train'\n",
        "valid_path = 'data/Tea-Leaf-Diseases-Dataset/valid'\n",
        "test_path = 'data/Tea-Leaf-Diseases-Dataset/test'\n",
        "\n",
        "train_batches = ImageDataGenerator(rescale=1.0/255).flow_from_directory(\n",
        "    directory=train_path, target_size=(224, 224), batch_size=10)\n",
        "valid_batches = ImageDataGenerator(rescale=1.0/255).flow_from_directory(\n",
        "    directory=valid_path, target_size=(224, 224), batch_size=10)\n",
        "test_batches = ImageDataGenerator(rescale=1.0/255).flow_from_directory(\n",
        "    directory=test_path, target_size=(224, 224), batch_size=10, shuffle=False)\n",
        "\n",
        "# Define the model\n",
        "model = Sequential()\n",
        "\n",
        "# Add convolutional layers\n",
        "model.add(Conv2D(32, (3, 3), activation='relu', input_shape=(224, 224, 3)))\n",
        "model.add(MaxPooling2D((2, 2)))\n",
        "model.add(Conv2D(64, (3, 3), activation='relu'))\n",
        "model.add(MaxPooling2D((2, 2)))\n",
        "model.add(Conv2D(128, (3, 3), activation='relu'))\n",
        "model.add(MaxPooling2D((2, 2)))\n",
        "\n",
        "# Flatten the output before feeding into the fully connected layers\n",
        "model.add(Flatten())\n",
        "\n",
        "# Add fully connected layers\n",
        "model.add(Dense(128, activation='relu'))\n",
        "model.add(Dense(8, activation='softmax'))  # 8 classes for tea leaf disease classification\n",
        "\n",
        "model.compile(optimizer=Adam(learning_rate=0.0001), loss='categorical_crossentropy', metrics=['accuracy'])\n",
        "\n",
        "model.fit(x=train_batches,\n",
        "          steps_per_epoch=len(train_batches),\n",
        "          validation_data=valid_batches,\n",
        "          validation_steps=len(valid_batches),\n",
        "          epochs=30,\n",
        "          verbose=2)\n",
        "\n",
        "# Predict the classes of the test set\n",
        "test_batches.reset()\n",
        "predictions = model.predict(test_batches, steps=len(test_batches), verbose=0)\n",
        "predicted_classes = np.argmax(predictions, axis=1)\n",
        "\n",
        "# True labels\n",
        "true_classes = test_batches.classes\n",
        "\n",
        "# Calculate accuracy\n",
        "test_accuracy = accuracy_score(true_classes, predicted_classes)\n",
        "print(f'Test Accuracy: {test_accuracy:.4f}')\n",
        "\n",
        "# Generate confusion matrix\n",
        "cm = confusion_matrix(true_classes, predicted_classes)\n",
        "\n",
        "# Function to plot the confusion matrix\n",
        "def plot_confusion_matrix(cm, classes,\n",
        "                          normalize=False,\n",
        "                          title='Confusion matrix',\n",
        "                          cmap=plt.cm.Blues):\n",
        "    plt.imshow(cm, interpolation='nearest', cmap=cmap)\n",
        "    plt.title(title)\n",
        "    plt.colorbar()\n",
        "    tick_marks = np.arange(len(classes))\n",
        "    plt.xticks(tick_marks, classes, rotation=45)\n",
        "    plt.yticks(tick_marks, classes)\n",
        "\n",
        "    if normalize:\n",
        "        cm = cm.astype('float') / cm.sum(axis=1)[:, np.newaxis]\n",
        "        print(\"Normalized confusion matrix\")\n",
        "    else:\n",
        "        print('Confusion matrix, without normalization')\n",
        "\n",
        "    print(cm)\n",
        "\n",
        "    thresh = cm.max() / 2.\n",
        "    for i, j in itertools.product(range(cm.shape[0]), range(cm.shape[1])):\n",
        "        plt.text(j, i, cm[i, j],\n",
        "                 horizontalalignment=\"center\",\n",
        "                 color=\"white\" if cm[i, j] > thresh else \"black\")\n",
        "\n",
        "    plt.tight_layout()\n",
        "    plt.ylabel('True label')\n",
        "    plt.xlabel('Predicted label')\n",
        "\n",
        "# Plot confusion matrix\n",
        "cm_plot_labels = ['algal leaf','Anthracnose','bird eye spot','brown blight','gray light','healthy','red leaf spot','white spot']\n",
        "plot_confusion_matrix(cm=cm, classes=cm_plot_labels, title='Confusion Matrix')\n",
        "plt.show()\n"
      ]
    },
    {
      "cell_type": "code",
      "execution_count": null,
      "id": "8899deea",
      "metadata": {
        "id": "8899deea"
      },
      "outputs": [],
      "source": [
        "from sklearn.metrics import accuracy_score"
      ]
    },
    {
      "cell_type": "code",
      "execution_count": null,
      "id": "152d10d3",
      "metadata": {
        "id": "152d10d3"
      },
      "outputs": [],
      "source": [
        "# Assuming you have already trained your model and obtained predictions on test data\n",
        "# y_true are the true labels, and y_pred are the predicted labels\n",
        "y_true = [...]  # True labels of the test data\n",
        "y_pred = [...]  # Predicted labels of the test data\n",
        "\n",
        "# Calculate the accuracy\n",
        "accuracy = accuracy_score(y_true, y_pred)\n",
        "\n",
        "# Print the accuracy\n",
        "print(\"Test Accuracy:\", accuracy)"
      ]
    },
    {
      "cell_type": "code",
      "execution_count": null,
      "id": "d5b6e54d",
      "metadata": {
        "id": "d5b6e54d",
        "outputId": "486afafd-6ccc-45da-e8db-1df1a2ae01a5"
      },
      "outputs": [
        {
          "name": "stdout",
          "output_type": "stream",
          "text": [
            "WARNING:tensorflow:From D:\\Anaconda\\Lib\\site-packages\\keras\\src\\losses.py:2976: The name tf.losses.sparse_softmax_cross_entropy is deprecated. Please use tf.compat.v1.losses.sparse_softmax_cross_entropy instead.\n",
            "\n",
            "Found 661 images belonging to 8 classes.\n",
            "Found 192 images belonging to 8 classes.\n",
            "Found 32 images belonging to 8 classes.\n",
            "WARNING:tensorflow:From D:\\Anaconda\\Lib\\site-packages\\keras\\src\\backend.py:873: The name tf.get_default_graph is deprecated. Please use tf.compat.v1.get_default_graph instead.\n",
            "\n",
            "WARNING:tensorflow:From D:\\Anaconda\\Lib\\site-packages\\keras\\src\\layers\\pooling\\max_pooling2d.py:161: The name tf.nn.max_pool is deprecated. Please use tf.nn.max_pool2d instead.\n",
            "\n",
            "Epoch 1/30\n",
            "WARNING:tensorflow:From D:\\Anaconda\\Lib\\site-packages\\keras\\src\\utils\\tf_utils.py:492: The name tf.ragged.RaggedTensorValue is deprecated. Please use tf.compat.v1.ragged.RaggedTensorValue instead.\n",
            "\n",
            "WARNING:tensorflow:From D:\\Anaconda\\Lib\\site-packages\\keras\\src\\engine\\base_layer_utils.py:384: The name tf.executing_eagerly_outside_functions is deprecated. Please use tf.compat.v1.executing_eagerly_outside_functions instead.\n",
            "\n",
            "67/67 - 129s - loss: 1.7575 - accuracy: 0.2648 - val_loss: 1.2800 - val_accuracy: 0.3594 - 129s/epoch - 2s/step\n",
            "Epoch 2/30\n",
            "67/67 - 156s - loss: 1.0966 - accuracy: 0.5446 - val_loss: 0.9544 - val_accuracy: 0.6198 - 156s/epoch - 2s/step\n",
            "Epoch 3/30\n",
            "67/67 - 103s - loss: 0.8944 - accuracy: 0.6369 - val_loss: 0.8719 - val_accuracy: 0.6562 - 103s/epoch - 2s/step\n",
            "Epoch 4/30\n",
            "67/67 - 137s - loss: 0.6905 - accuracy: 0.7262 - val_loss: 0.7865 - val_accuracy: 0.6979 - 137s/epoch - 2s/step\n",
            "Epoch 5/30\n",
            "67/67 - 136s - loss: 0.5379 - accuracy: 0.8033 - val_loss: 0.8076 - val_accuracy: 0.6667 - 136s/epoch - 2s/step\n",
            "Epoch 6/30\n",
            "67/67 - 163s - loss: 0.5370 - accuracy: 0.7821 - val_loss: 0.9855 - val_accuracy: 0.6510 - 163s/epoch - 2s/step\n",
            "Epoch 7/30\n",
            "67/67 - 150s - loss: 0.4712 - accuracy: 0.8260 - val_loss: 0.7484 - val_accuracy: 0.7083 - 150s/epoch - 2s/step\n",
            "Epoch 8/30\n",
            "67/67 - 159s - loss: 0.3791 - accuracy: 0.8684 - val_loss: 0.6903 - val_accuracy: 0.7396 - 159s/epoch - 2s/step\n",
            "Epoch 9/30\n",
            "67/67 - 164s - loss: 0.4017 - accuracy: 0.8472 - val_loss: 0.7600 - val_accuracy: 0.7344 - 164s/epoch - 2s/step\n",
            "Epoch 10/30\n",
            "67/67 - 99s - loss: 0.2869 - accuracy: 0.9017 - val_loss: 0.7598 - val_accuracy: 0.7031 - 99s/epoch - 1s/step\n",
            "Epoch 11/30\n",
            "67/67 - 111s - loss: 0.2707 - accuracy: 0.9002 - val_loss: 0.7633 - val_accuracy: 0.7031 - 111s/epoch - 2s/step\n",
            "Epoch 12/30\n",
            "67/67 - 92s - loss: 0.2206 - accuracy: 0.9395 - val_loss: 0.8158 - val_accuracy: 0.7344 - 92s/epoch - 1s/step\n",
            "Epoch 13/30\n",
            "67/67 - 82s - loss: 0.2383 - accuracy: 0.9092 - val_loss: 0.8889 - val_accuracy: 0.7240 - 82s/epoch - 1s/step\n",
            "Epoch 14/30\n",
            "67/67 - 104s - loss: 0.1948 - accuracy: 0.9410 - val_loss: 0.8626 - val_accuracy: 0.7344 - 104s/epoch - 2s/step\n",
            "Epoch 15/30\n",
            "67/67 - 119s - loss: 0.1580 - accuracy: 0.9501 - val_loss: 0.8221 - val_accuracy: 0.7292 - 119s/epoch - 2s/step\n",
            "Epoch 16/30\n",
            "67/67 - 110s - loss: 0.1458 - accuracy: 0.9516 - val_loss: 0.9188 - val_accuracy: 0.7292 - 110s/epoch - 2s/step\n",
            "Epoch 17/30\n",
            "67/67 - 105s - loss: 0.1045 - accuracy: 0.9758 - val_loss: 0.8799 - val_accuracy: 0.7396 - 105s/epoch - 2s/step\n",
            "Epoch 18/30\n",
            "67/67 - 97s - loss: 0.0838 - accuracy: 0.9773 - val_loss: 0.8968 - val_accuracy: 0.7708 - 97s/epoch - 1s/step\n",
            "Epoch 19/30\n",
            "67/67 - 110s - loss: 0.1168 - accuracy: 0.9607 - val_loss: 0.9998 - val_accuracy: 0.6771 - 110s/epoch - 2s/step\n",
            "Epoch 20/30\n",
            "67/67 - 125s - loss: 0.0998 - accuracy: 0.9682 - val_loss: 1.0255 - val_accuracy: 0.7292 - 125s/epoch - 2s/step\n",
            "Epoch 21/30\n",
            "67/67 - 98s - loss: 0.0850 - accuracy: 0.9773 - val_loss: 1.0306 - val_accuracy: 0.7240 - 98s/epoch - 1s/step\n",
            "Epoch 22/30\n",
            "67/67 - 102s - loss: 0.0579 - accuracy: 0.9894 - val_loss: 1.0040 - val_accuracy: 0.7552 - 102s/epoch - 2s/step\n",
            "Epoch 23/30\n",
            "67/67 - 105s - loss: 0.0828 - accuracy: 0.9758 - val_loss: 1.0145 - val_accuracy: 0.7135 - 105s/epoch - 2s/step\n",
            "Epoch 24/30\n",
            "67/67 - 93s - loss: 0.0689 - accuracy: 0.9849 - val_loss: 1.0368 - val_accuracy: 0.7292 - 93s/epoch - 1s/step\n",
            "Epoch 25/30\n",
            "67/67 - 97s - loss: 0.0381 - accuracy: 0.9939 - val_loss: 0.9968 - val_accuracy: 0.7396 - 97s/epoch - 1s/step\n",
            "Epoch 26/30\n",
            "67/67 - 127s - loss: 0.0317 - accuracy: 0.9939 - val_loss: 0.9675 - val_accuracy: 0.7708 - 127s/epoch - 2s/step\n",
            "Epoch 27/30\n",
            "67/67 - 84s - loss: 0.0357 - accuracy: 0.9909 - val_loss: 1.0853 - val_accuracy: 0.7604 - 84s/epoch - 1s/step\n",
            "Epoch 28/30\n",
            "67/67 - 85s - loss: 0.0344 - accuracy: 0.9924 - val_loss: 1.0250 - val_accuracy: 0.7708 - 85s/epoch - 1s/step\n",
            "Epoch 29/30\n",
            "67/67 - 77s - loss: 0.0303 - accuracy: 0.9939 - val_loss: 1.1272 - val_accuracy: 0.7552 - 77s/epoch - 1s/step\n",
            "Epoch 30/30\n",
            "67/67 - 77s - loss: 0.0560 - accuracy: 0.9849 - val_loss: 1.2375 - val_accuracy: 0.7448 - 77s/epoch - 1s/step\n",
            "Test Accuracy: 0.7812\n",
            "Confusion matrix, without normalization\n",
            "[[3 0 0 1 0 0 0 0]\n",
            " [0 3 0 0 1 0 0 0]\n",
            " [0 1 2 0 1 0 0 0]\n",
            " [0 0 0 3 0 0 0 1]\n",
            " [0 2 0 0 2 0 0 0]\n",
            " [0 0 0 0 0 4 0 0]\n",
            " [0 0 0 0 0 0 4 0]\n",
            " [0 0 0 0 0 0 0 4]]\n"
          ]
        },
        {
          "data": {
            "image/png": "[encoded data removed]",
            "text/plain": [
              "<Figure size 640x480 with 2 Axes>"
            ]
          },
          "metadata": {},
          "output_type": "display_data"
        }
      ],
      "source": [
        "import os\n",
        "import shutil\n",
        "import random\n",
        "import numpy as np\n",
        "import matplotlib.pyplot as plt\n",
        "import itertools\n",
        "\n",
        "from tensorflow.keras.preprocessing.image import ImageDataGenerator\n",
        "from tensorflow.keras.models import Sequential\n",
        "from tensorflow.keras.layers import Conv2D, MaxPooling2D, Flatten, Dense\n",
        "from tensorflow.keras.optimizers import Adam\n",
        "\n",
        "from sklearn.metrics import confusion_matrix, accuracy_score\n",
        "\n",
        "# Organize data into train, valid, test directories\n",
        "os.chdir('data/Tea-Leaf-Diseases-Dataset')\n",
        "if os.path.isdir('train/0/') is False:\n",
        "    os.mkdir('train')\n",
        "    os.mkdir('valid')\n",
        "    os.mkdir('test')\n",
        "\n",
        "    for i in range(0, 8):\n",
        "        shutil.move(f'{i}', 'train')\n",
        "        os.mkdir(f'valid/{i}')\n",
        "        os.mkdir(f'test/{i}')\n",
        "\n",
        "        valid_samples = random.sample(os.listdir(f'train/{i}'), 24)\n",
        "        for j in valid_samples:\n",
        "            shutil.move(f'train/{i}/{j}', f'valid/{i}')\n",
        "\n",
        "        test_samples = random.sample(os.listdir(f'train/{i}'), 4)\n",
        "        for k in test_samples:\n",
        "            shutil.move(f'train/{i}/{k}', f'test/{i}')\n",
        "os.chdir('../..')\n",
        "\n",
        "# Data generators\n",
        "train_path = 'data/Tea-Leaf-Diseases-Dataset/train'\n",
        "valid_path = 'data/Tea-Leaf-Diseases-Dataset/valid'\n",
        "test_path = 'data/Tea-Leaf-Diseases-Dataset/test'\n",
        "\n",
        "train_batches = ImageDataGenerator(rescale=1.0/255).flow_from_directory(\n",
        "    directory=train_path, target_size=(224, 224), batch_size=10)\n",
        "valid_batches = ImageDataGenerator(rescale=1.0/255).flow_from_directory(\n",
        "    directory=valid_path, target_size=(224, 224), batch_size=10)\n",
        "test_batches = ImageDataGenerator(rescale=1.0/255).flow_from_directory(\n",
        "    directory=test_path, target_size=(224, 224), batch_size=10, shuffle=False)\n",
        "\n",
        "# Define the model\n",
        "model = Sequential()\n",
        "\n",
        "# Add convolutional layers\n",
        "model.add(Conv2D(32, (3, 3), activation='relu', input_shape=(224, 224, 3)))\n",
        "model.add(MaxPooling2D((2, 2)))\n",
        "model.add(Conv2D(64, (3, 3), activation='relu'))\n",
        "model.add(MaxPooling2D((2, 2)))\n",
        "model.add(Conv2D(128, (3, 3), activation='relu'))\n",
        "model.add(MaxPooling2D((2, 2)))\n",
        "\n",
        "# Flatten the output before feeding into the fully connected layers\n",
        "model.add(Flatten())\n",
        "\n",
        "# Add fully connected layers\n",
        "model.add(Dense(128, activation='relu'))\n",
        "model.add(Dense(8, activation='softmax'))  # 8 classes for tea leaf disease classification\n",
        "\n",
        "model.compile(optimizer=Adam(learning_rate=0.0001), loss='categorical_crossentropy', metrics=['accuracy'])\n",
        "\n",
        "model.fit(x=train_batches,\n",
        "          steps_per_epoch=len(train_batches),\n",
        "          validation_data=valid_batches,\n",
        "          validation_steps=len(valid_batches),\n",
        "          epochs=30,\n",
        "          verbose=2)\n",
        "\n",
        "# Predict the classes of the test set\n",
        "test_batches.reset()\n",
        "predictions = model.predict(test_batches, steps=len(test_batches), verbose=0)\n",
        "predicted_classes = np.argmax(predictions, axis=1)\n",
        "\n",
        "# True labels\n",
        "true_classes = test_batches.classes\n",
        "\n",
        "# Calculate accuracy\n",
        "test_accuracy = accuracy_score(true_classes, predicted_classes)\n",
        "print(f'Test Accuracy: {test_accuracy:.4f}')\n",
        "\n",
        "# Generate confusion matrix\n",
        "cm = confusion_matrix(true_classes, predicted_classes)\n",
        "\n",
        "# Function to plot the confusion matrix\n",
        "def plot_confusion_matrix(cm, classes,\n",
        "                          normalize=False,\n",
        "                          title='Confusion matrix',\n",
        "                          cmap=plt.cm.Blues):\n",
        "    plt.imshow(cm, interpolation='nearest', cmap=cmap)\n",
        "    plt.title(title)\n",
        "    plt.colorbar()\n",
        "    tick_marks = np.arange(len(classes))\n",
        "    plt.xticks(tick_marks, classes, rotation=45)\n",
        "    plt.yticks(tick_marks, classes)\n",
        "\n",
        "    if normalize:\n",
        "        cm = cm.astype('float') / cm.sum(axis=1)[:, np.newaxis]\n",
        "        print(\"Normalized confusion matrix\")\n",
        "    else:\n",
        "        print('Confusion matrix, without normalization')\n",
        "\n",
        "    print(cm)\n",
        "\n",
        "    thresh = cm.max() / 2.\n",
        "    for i, j in itertools.product(range(cm.shape[0]), range(cm.shape[1])):\n",
        "        plt.text(j, i, cm[i, j],\n",
        "                 horizontalalignment=\"center\",\n",
        "                 color=\"white\" if cm[i, j] > thresh else \"black\")\n",
        "\n",
        "    plt.tight_layout()\n",
        "    plt.ylabel('True label')\n",
        "    plt.xlabel('Predicted label')\n",
        "\n",
        "# Plot confusion matrix\n",
        "cm_plot_labels = ['0','1','2','3','4','5','6','7'] # class names\n",
        "plot_confusion_matrix(cm=cm, classes=cm_plot_labels, title='Confusion Matrix')\n",
        "plt.show()\n"
      ]
    },
    {
      "cell_type": "code",
      "execution_count": null,
      "id": "c559f07b",
      "metadata": {
        "id": "c559f07b",
        "outputId": "785f9044-58c4-4869-975b-93eba9c610bd"
      },
      "outputs": [
        {
          "name": "stdout",
          "output_type": "stream",
          "text": [
            "Test Accuracy: 0.7812\n",
            "Confusion matrix, without normalization\n",
            "[[3 0 0 1 0 0 0 0]\n",
            " [0 3 0 0 1 0 0 0]\n",
            " [0 1 2 0 1 0 0 0]\n",
            " [0 0 0 3 0 0 0 1]\n",
            " [0 2 0 0 2 0 0 0]\n",
            " [0 0 0 0 0 4 0 0]\n",
            " [0 0 0 0 0 0 4 0]\n",
            " [0 0 0 0 0 0 0 4]]\n"
          ]
        },
        {
          "data": {
            "image/png": "[encoded data removed]",
            "text/plain": [
              "<Figure size 640x480 with 2 Axes>"
            ]
          },
          "metadata": {},
          "output_type": "display_data"
        }
      ],
      "source": [
        "# Predict the classes of the test set\n",
        "test_batches.reset()\n",
        "predictions = model.predict(test_batches, steps=len(test_batches), verbose=0)\n",
        "predicted_classes = np.argmax(predictions, axis=1)\n",
        "\n",
        "# True labels\n",
        "true_classes = test_batches.classes\n",
        "\n",
        "# Calculate accuracy\n",
        "test_accuracy = accuracy_score(true_classes, predicted_classes)\n",
        "print(f'Test Accuracy: {test_accuracy:.4f}')\n",
        "\n",
        "# Generate confusion matrix\n",
        "cm = confusion_matrix(true_classes, predicted_classes)\n",
        "\n",
        "# Function to plot the confusion matrix\n",
        "def plot_confusion_matrix(cm, classes,\n",
        "                          normalize=False,\n",
        "                          title='Confusion matrix',\n",
        "                          cmap=plt.cm.Blues):\n",
        "    plt.imshow(cm, interpolation='nearest', cmap=cmap)\n",
        "    plt.title(title)\n",
        "    plt.colorbar()\n",
        "    tick_marks = np.arange(len(classes))\n",
        "    plt.xticks(tick_marks, classes, rotation=45)\n",
        "    plt.yticks(tick_marks, classes)\n",
        "\n",
        "    if normalize:\n",
        "        cm = cm.astype('float') / cm.sum(axis=1)[:, np.newaxis]\n",
        "        print(\"Normalized confusion matrix\")\n",
        "    else:\n",
        "        print('Confusion matrix, without normalization')\n",
        "\n",
        "    print(cm)\n",
        "\n",
        "    thresh = cm.max() / 2.\n",
        "    for i, j in itertools.product(range(cm.shape[0]), range(cm.shape[1])):\n",
        "        plt.text(j, i, cm[i, j],\n",
        "                 horizontalalignment=\"center\",\n",
        "                 color=\"white\" if cm[i, j] > thresh else \"black\")\n",
        "\n",
        "    plt.tight_layout()\n",
        "    plt.ylabel('True label')\n",
        "    plt.xlabel('Predicted label')\n",
        "\n",
        "# Plot confusion matrix\n",
        "cm_plot_labels = ['0','1','2','3','4','5','6','7'] # class names\n",
        "plot_confusion_matrix(cm=cm, classes=cm_plot_labels, title='Confusion Matrix')\n",
        "plt.show()"
      ]
    },
    {
      "cell_type": "code",
      "execution_count": null,
      "id": "30409c2a",
      "metadata": {
        "id": "30409c2a",
        "outputId": "b8dc0125-c13b-4392-e480-d26607513e64"
      },
      "outputs": [
        {
          "name": "stdout",
          "output_type": "stream",
          "text": [
            "Test Accuracy: 0.7812\n"
          ]
        }
      ],
      "source": [
        "# Predict the classes of the test set\n",
        "test_batches.reset()\n",
        "predictions = model.predict(test_batches, steps=len(test_batches), verbose=0)\n",
        "predicted_classes = np.argmax(predictions, axis=1)\n",
        "\n",
        "# True labels\n",
        "true_classes = test_batches.classes\n",
        "\n",
        "# Calculate accuracy\n",
        "test_accuracy = accuracy_score(true_classes, predicted_classes)\n",
        "print(f'Test Accuracy: {test_accuracy:.4f}')"
      ]
    },
    {
      "cell_type": "code",
      "execution_count": null,
      "id": "fdca0c99",
      "metadata": {
        "id": "fdca0c99",
        "outputId": "f3640da2-5bd4-45bb-d377-b9ca2bfee549"
      },
      "outputs": [
        {
          "ename": "NameError",
          "evalue": "name 'model' is not defined",
          "output_type": "error",
          "traceback": [
            "\u001b[1;31m---------------------------------------------------------------------------\u001b[0m",
            "\u001b[1;31mNameError\u001b[0m                                 Traceback (most recent call last)",
            "Cell \u001b[1;32mIn[1], line 1\u001b[0m\n\u001b[1;32m----> 1\u001b[0m model\u001b[38;5;241m.\u001b[39msummary()\n",
            "\u001b[1;31mNameError\u001b[0m: name 'model' is not defined"
          ]
        }
      ],
      "source": [
        "model.summary()"
      ]
    },
    {
      "cell_type": "code",
      "execution_count": null,
      "id": "65db47de",
      "metadata": {
        "id": "65db47de"
      },
      "outputs": [],
      "source": []
    }
  ],
  "metadata": {
    "kernelspec": {
      "display_name": "Python 3 (ipykernel)",
      "language": "python",
      "name": "python3"
    },
    "language_info": {
      "codemirror_mode": {
        "name": "ipython",
        "version": 3
      },
      "file_extension": ".py",
      "mimetype": "text/x-python",
      "name": "python",
      "nbconvert_exporter": "python",
      "pygments_lexer": "ipython3",
      "version": "3.11.5"
    },
    "colab": {
      "provenance": [],
      "include_colab_link": true
    }
  },
  "nbformat": 4,
  "nbformat_minor": 5
}