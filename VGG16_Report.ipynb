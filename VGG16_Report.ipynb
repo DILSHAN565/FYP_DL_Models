{
  "nbformat": 4,
  "nbformat_minor": 0,
  "metadata": {
    "colab": {
      "provenance": [],
      "gpuType": "T4",
      "authorship_tag": "ABX9TyMehsk9fCXBES0lktefiz+a",
      "include_colab_link": true
    },
    "kernelspec": {
      "name": "python3",
      "display_name": "Python 3"
    },
    "language_info": {
      "name": "python"
    },
    "accelerator": "GPU"
  },
  "cells": [
    {
      "cell_type": "markdown",
      "metadata": {
        "id": "view-in-github",
        "colab_type": "text"
      },
      "source": [
        "<a href=\"https://colab.research.google.com/github/DILSHAN565/FYP_DL_Models/blob/main/VGG16_Report.ipynb\" target=\"_parent\"><img src=\"https://colab.research.google.com/assets/colab-badge.svg\" alt=\"Open In Colab\"/></a>"
      ]
    },
    {
      "cell_type": "code",
      "execution_count": 1,
      "metadata": {
        "colab": {
          "base_uri": "https://localhost:8080/"
        },
        "id": "nx5EIB0oVMcn",
        "outputId": "302d61e7-05d4-450b-bfd5-bcd53034b578"
      },
      "outputs": [
        {
          "output_type": "stream",
          "name": "stdout",
          "text": [
            "Mounted at /content/drive\n"
          ]
        }
      ],
      "source": [
        "\n",
        "# Mount Google Drive\n",
        "from google.colab import drive\n",
        "drive.mount('/content/drive')\n"
      ]
    },
    {
      "cell_type": "code",
      "source": [
        "# Install necessary libraries\n",
        "!pip -q install vit_keras tensorflow-addons\n",
        "!pip -q install --upgrade --no-cache-dir gdown\n",
        "!pip install tensorflow-addons\n",
        "!pip install vit-keras"
      ],
      "metadata": {
        "colab": {
          "base_uri": "https://localhost:8080/"
        },
        "id": "V0vSgvzjVNdS",
        "outputId": "d812ddbe-7ab4-4768-ec2c-6f278c0c176e"
      },
      "execution_count": 2,
      "outputs": [
        {
          "output_type": "stream",
          "name": "stdout",
          "text": [
            "\u001b[?25l     \u001b[90m━━━━━━━━━━━━━━━━━━━━━━━━━━━━━━━━━━━━━━━━\u001b[0m \u001b[32m0.0/611.8 kB\u001b[0m \u001b[31m?\u001b[0m eta \u001b[36m-:--:--\u001b[0m\r\u001b[2K     \u001b[91m━━━━━━━━━━━━━━━━━━\u001b[0m\u001b[91m╸\u001b[0m\u001b[90m━━━━━━━━━━━━━━━━━━━━━\u001b[0m \u001b[32m286.7/611.8 kB\u001b[0m \u001b[31m8.9 MB/s\u001b[0m eta \u001b[36m0:00:01\u001b[0m\r\u001b[2K     \u001b[90m━━━━━━━━━━━━━━━━━━━━━━━━━━━━━━━━━━━━━━━━\u001b[0m \u001b[32m611.8/611.8 kB\u001b[0m \u001b[31m9.3 MB/s\u001b[0m eta \u001b[36m0:00:00\u001b[0m\n",
            "\u001b[?25h\u001b[?25l     \u001b[90m━━━━━━━━━━━━━━━━━━━━━━━━━━━━━━━━━━━━━━━━\u001b[0m \u001b[32m0.0/41.4 kB\u001b[0m \u001b[31m?\u001b[0m eta \u001b[36m-:--:--\u001b[0m\r\u001b[2K     \u001b[90m━━━━━━━━━━━━━━━━━━━━━━━━━━━━━━━━━━━━━━━━\u001b[0m \u001b[32m41.4/41.4 kB\u001b[0m \u001b[31m4.0 MB/s\u001b[0m eta \u001b[36m0:00:00\u001b[0m\n",
            "\u001b[?25hRequirement already satisfied: tensorflow-addons in /usr/local/lib/python3.10/dist-packages (0.23.0)\n",
            "Requirement already satisfied: packaging in /usr/local/lib/python3.10/dist-packages (from tensorflow-addons) (24.1)\n",
            "Requirement already satisfied: typeguard<3.0.0,>=2.7 in /usr/local/lib/python3.10/dist-packages (from tensorflow-addons) (2.13.3)\n",
            "Requirement already satisfied: vit-keras in /usr/local/lib/python3.10/dist-packages (0.1.2)\n",
            "Requirement already satisfied: scipy in /usr/local/lib/python3.10/dist-packages (from vit-keras) (1.11.4)\n",
            "Requirement already satisfied: validators in /usr/local/lib/python3.10/dist-packages (from vit-keras) (0.29.0)\n",
            "Requirement already satisfied: numpy<1.28.0,>=1.21.6 in /usr/local/lib/python3.10/dist-packages (from scipy->vit-keras) (1.25.2)\n"
          ]
        }
      ]
    },
    {
      "cell_type": "code",
      "source": [
        "import os\n",
        "import numpy as np\n",
        "import tensorflow as tf\n",
        "from tensorflow.keras.preprocessing.image import ImageDataGenerator\n",
        "from tensorflow.keras.optimizers import Adam\n",
        "from tensorflow.keras.layers import Dense, Flatten\n",
        "from tensorflow.keras.models import Model, Sequential\n",
        "from tensorflow.keras.applications import VGG16\n",
        "from sklearn.metrics import confusion_matrix, classification_report\n",
        "import matplotlib.pyplot as plt\n",
        "import seaborn as sns\n",
        "import itertools"
      ],
      "metadata": {
        "id": "q0G0LrMgVOyl"
      },
      "execution_count": 3,
      "outputs": []
    },
    {
      "cell_type": "code",
      "source": [
        "# Set the seed for reproducibility\n",
        "SEED = 42\n",
        "np.random.seed(SEED)"
      ],
      "metadata": {
        "id": "a6nri_KyVO1B"
      },
      "execution_count": 4,
      "outputs": []
    },
    {
      "cell_type": "code",
      "source": [
        "# Define dataset paths\n",
        "train_path = '/content/drive/MyDrive/progress/Tea-Leaf-Diseases-Dataset/train'\n",
        "val_path = '/content/drive/MyDrive/progress/Tea-Leaf-Diseases-Dataset/validation'\n",
        "test_path = '/content/drive/MyDrive/progress/Tea-Leaf-Diseases-Dataset/test'\n",
        ""
      ],
      "metadata": {
        "id": "7c2zT2VRVO4T"
      },
      "execution_count": 5,
      "outputs": []
    },
    {
      "cell_type": "code",
      "source": [
        "# Define image size, batch size, and other constants\n",
        "IMAGE_SIZE = 224\n",
        "BATCH_SIZE = 16\n",
        "EPOCHS = 100\n",
        "LEARNING_RATE = 1e-4"
      ],
      "metadata": {
        "id": "R0rHBd-WVO6f"
      },
      "execution_count": 6,
      "outputs": []
    },
    {
      "cell_type": "code",
      "source": [
        "\n",
        "\n",
        "# Apply data augmentation\n",
        "train_datagen = ImageDataGenerator(\n",
        "    rescale=1./255,\n",
        "    rotation_range=360,\n",
        "    height_shift_range=0.1,\n",
        "    shear_range=0.1,\n",
        "    zoom_range=0.1,\n",
        "    fill_mode='nearest',\n",
        "    brightness_range=[0.8, 1.4],\n",
        "    vertical_flip=True,\n",
        "    horizontal_flip=True\n",
        ")\n",
        "\n",
        "val_datagen = ImageDataGenerator(rescale=1./255)\n",
        "test_datagen = ImageDataGenerator(rescale=1./255)\n",
        "\n",
        "# Create data generators\n",
        "train_generator = train_datagen.flow_from_directory(\n",
        "    train_path,\n",
        "    target_size=(IMAGE_SIZE, IMAGE_SIZE),\n",
        "    batch_size=BATCH_SIZE,\n",
        "    class_mode='categorical'\n",
        ")\n",
        "\n",
        "validation_generator = val_datagen.flow_from_directory(\n",
        "    val_path,\n",
        "    target_size=(IMAGE_SIZE, IMAGE_SIZE),\n",
        "    batch_size=BATCH_SIZE,\n",
        "    class_mode='categorical'\n",
        ")\n",
        "\n",
        "test_generator = test_datagen.flow_from_directory(\n",
        "    test_path,\n",
        "    target_size=(IMAGE_SIZE, IMAGE_SIZE),\n",
        "    batch_size=BATCH_SIZE,\n",
        "    class_mode='categorical',\n",
        "    shuffle=False\n",
        ")"
      ],
      "metadata": {
        "colab": {
          "base_uri": "https://localhost:8080/"
        },
        "id": "oVizUy37VO9I",
        "outputId": "fd315e0c-b4bf-421f-b6b9-b4c0b66b64ce"
      },
      "execution_count": 7,
      "outputs": [
        {
          "output_type": "stream",
          "name": "stdout",
          "text": [
            "Found 725 images belonging to 8 classes.\n",
            "Found 82 images belonging to 8 classes.\n",
            "Found 83 images belonging to 8 classes.\n"
          ]
        }
      ]
    },
    {
      "cell_type": "code",
      "source": [
        "# Define the model using VGG16\n",
        "vgg16_model = VGG16(include_top=False, input_shape=(224, 224, 3))\n",
        "vgg16_model.summary()"
      ],
      "metadata": {
        "colab": {
          "base_uri": "https://localhost:8080/"
        },
        "id": "mR5Nucj5VO_w",
        "outputId": "a4d4dfdd-9e6f-4f42-ab03-0123050570d1"
      },
      "execution_count": 8,
      "outputs": [
        {
          "output_type": "stream",
          "name": "stdout",
          "text": [
            "Downloading data from https://storage.googleapis.com/tensorflow/keras-applications/vgg16/vgg16_weights_tf_dim_ordering_tf_kernels_notop.h5\n",
            "58889256/58889256 [==============================] - 2s 0us/step\n",
            "Model: \"vgg16\"\n",
            "_________________________________________________________________\n",
            " Layer (type)                Output Shape              Param #   \n",
            "=================================================================\n",
            " input_1 (InputLayer)        [(None, 224, 224, 3)]     0         \n",
            "                                                                 \n",
            " block1_conv1 (Conv2D)       (None, 224, 224, 64)      1792      \n",
            "                                                                 \n",
            " block1_conv2 (Conv2D)       (None, 224, 224, 64)      36928     \n",
            "                                                                 \n",
            " block1_pool (MaxPooling2D)  (None, 112, 112, 64)      0         \n",
            "                                                                 \n",
            " block2_conv1 (Conv2D)       (None, 112, 112, 128)     73856     \n",
            "                                                                 \n",
            " block2_conv2 (Conv2D)       (None, 112, 112, 128)     147584    \n",
            "                                                                 \n",
            " block2_pool (MaxPooling2D)  (None, 56, 56, 128)       0         \n",
            "                                                                 \n",
            " block3_conv1 (Conv2D)       (None, 56, 56, 256)       295168    \n",
            "                                                                 \n",
            " block3_conv2 (Conv2D)       (None, 56, 56, 256)       590080    \n",
            "                                                                 \n",
            " block3_conv3 (Conv2D)       (None, 56, 56, 256)       590080    \n",
            "                                                                 \n",
            " block3_pool (MaxPooling2D)  (None, 28, 28, 256)       0         \n",
            "                                                                 \n",
            " block4_conv1 (Conv2D)       (None, 28, 28, 512)       1180160   \n",
            "                                                                 \n",
            " block4_conv2 (Conv2D)       (None, 28, 28, 512)       2359808   \n",
            "                                                                 \n",
            " block4_conv3 (Conv2D)       (None, 28, 28, 512)       2359808   \n",
            "                                                                 \n",
            " block4_pool (MaxPooling2D)  (None, 14, 14, 512)       0         \n",
            "                                                                 \n",
            " block5_conv1 (Conv2D)       (None, 14, 14, 512)       2359808   \n",
            "                                                                 \n",
            " block5_conv2 (Conv2D)       (None, 14, 14, 512)       2359808   \n",
            "                                                                 \n",
            " block5_conv3 (Conv2D)       (None, 14, 14, 512)       2359808   \n",
            "                                                                 \n",
            " block5_pool (MaxPooling2D)  (None, 7, 7, 512)         0         \n",
            "                                                                 \n",
            "=================================================================\n",
            "Total params: 14714688 (56.13 MB)\n",
            "Trainable params: 14714688 (56.13 MB)\n",
            "Non-trainable params: 0 (0.00 Byte)\n",
            "_________________________________________________________________\n"
          ]
        }
      ]
    },
    {
      "cell_type": "code",
      "source": [
        "# Build the model\n",
        "model = Sequential()\n",
        "for layer in vgg16_model.layers:\n",
        "    model.add(layer)\n",
        "\n",
        "# Freeze the layers\n",
        "for layer in model.layers:\n",
        "    layer.trainable = False"
      ],
      "metadata": {
        "id": "IYu8Lhp3VPC5"
      },
      "execution_count": 9,
      "outputs": []
    },
    {
      "cell_type": "code",
      "source": [
        "# Add custom layers\n",
        "model.add(Flatten())\n",
        "model.add(Dense(units=1024, activation='relu'))  # Reduced number of units\n",
        "model.add(Dense(units=512, activation='relu'))  # Reduced number of units\n",
        "model.add(Dense(units=8, activation='softmax'))\n",
        ""
      ],
      "metadata": {
        "id": "h22SM6opVPFx"
      },
      "execution_count": 10,
      "outputs": []
    },
    {
      "cell_type": "code",
      "source": [
        "# Compile the model\n",
        "model.compile(optimizer=Adam(learning_rate=LEARNING_RATE), loss='categorical_crossentropy', metrics=['accuracy'])\n",
        "\n",
        "# Train the model\n",
        "history = model.fit(\n",
        "    train_generator,\n",
        "    steps_per_epoch=len(train_generator),\n",
        "    validation_data=validation_generator,\n",
        "    validation_steps=len(validation_generator),\n",
        "    epochs=EPOCHS,\n",
        "    verbose=2\n",
        ")"
      ],
      "metadata": {
        "colab": {
          "base_uri": "https://localhost:8080/"
        },
        "id": "SWwmYdK5VPII",
        "outputId": "834ba14f-f86d-4d33-a9e0-426c74862e7f"
      },
      "execution_count": 12,
      "outputs": [
        {
          "output_type": "stream",
          "name": "stdout",
          "text": [
            "Epoch 1/100\n",
            "46/46 - 178s - loss: 1.5125 - accuracy: 0.4276 - val_loss: 1.0837 - val_accuracy: 0.6463 - 178s/epoch - 4s/step\n",
            "Epoch 2/100\n",
            "46/46 - 42s - loss: 1.2023 - accuracy: 0.5283 - val_loss: 0.9785 - val_accuracy: 0.6463 - 42s/epoch - 921ms/step\n",
            "Epoch 3/100\n",
            "46/46 - 44s - loss: 1.0545 - accuracy: 0.5945 - val_loss: 0.8838 - val_accuracy: 0.6585 - 44s/epoch - 951ms/step\n",
            "Epoch 4/100\n",
            "46/46 - 42s - loss: 0.9243 - accuracy: 0.6359 - val_loss: 0.8039 - val_accuracy: 0.7195 - 42s/epoch - 919ms/step\n",
            "Epoch 5/100\n",
            "46/46 - 41s - loss: 0.8599 - accuracy: 0.6703 - val_loss: 0.8741 - val_accuracy: 0.6341 - 41s/epoch - 901ms/step\n",
            "Epoch 6/100\n",
            "46/46 - 42s - loss: 0.8054 - accuracy: 0.6897 - val_loss: 0.9738 - val_accuracy: 0.6098 - 42s/epoch - 904ms/step\n",
            "Epoch 7/100\n",
            "46/46 - 42s - loss: 0.7671 - accuracy: 0.6910 - val_loss: 0.7743 - val_accuracy: 0.6951 - 42s/epoch - 920ms/step\n",
            "Epoch 8/100\n",
            "46/46 - 45s - loss: 0.7128 - accuracy: 0.7159 - val_loss: 0.7140 - val_accuracy: 0.7073 - 45s/epoch - 988ms/step\n",
            "Epoch 9/100\n",
            "46/46 - 41s - loss: 0.7419 - accuracy: 0.7076 - val_loss: 0.6170 - val_accuracy: 0.7805 - 41s/epoch - 901ms/step\n",
            "Epoch 10/100\n",
            "46/46 - 42s - loss: 0.6611 - accuracy: 0.7407 - val_loss: 0.6447 - val_accuracy: 0.7439 - 42s/epoch - 919ms/step\n",
            "Epoch 11/100\n",
            "46/46 - 42s - loss: 0.7086 - accuracy: 0.7283 - val_loss: 0.7658 - val_accuracy: 0.7195 - 42s/epoch - 918ms/step\n",
            "Epoch 12/100\n",
            "46/46 - 43s - loss: 0.6764 - accuracy: 0.7200 - val_loss: 0.7585 - val_accuracy: 0.6951 - 43s/epoch - 925ms/step\n",
            "Epoch 13/100\n",
            "46/46 - 44s - loss: 0.5921 - accuracy: 0.7614 - val_loss: 0.7205 - val_accuracy: 0.7439 - 44s/epoch - 953ms/step\n",
            "Epoch 14/100\n",
            "46/46 - 42s - loss: 0.6002 - accuracy: 0.7669 - val_loss: 0.8508 - val_accuracy: 0.6951 - 42s/epoch - 914ms/step\n",
            "Epoch 15/100\n",
            "46/46 - 43s - loss: 0.6303 - accuracy: 0.7614 - val_loss: 0.7000 - val_accuracy: 0.6829 - 43s/epoch - 924ms/step\n",
            "Epoch 16/100\n",
            "46/46 - 43s - loss: 0.5399 - accuracy: 0.7945 - val_loss: 0.6359 - val_accuracy: 0.7439 - 43s/epoch - 937ms/step\n",
            "Epoch 17/100\n",
            "46/46 - 41s - loss: 0.5262 - accuracy: 0.7972 - val_loss: 0.7325 - val_accuracy: 0.7195 - 41s/epoch - 899ms/step\n",
            "Epoch 18/100\n",
            "46/46 - 42s - loss: 0.5620 - accuracy: 0.7972 - val_loss: 0.6902 - val_accuracy: 0.7439 - 42s/epoch - 912ms/step\n",
            "Epoch 19/100\n",
            "46/46 - 42s - loss: 0.5933 - accuracy: 0.7614 - val_loss: 0.6410 - val_accuracy: 0.8171 - 42s/epoch - 905ms/step\n",
            "Epoch 20/100\n",
            "46/46 - 43s - loss: 0.5760 - accuracy: 0.7710 - val_loss: 0.5722 - val_accuracy: 0.7561 - 43s/epoch - 933ms/step\n",
            "Epoch 21/100\n",
            "46/46 - 43s - loss: 0.5329 - accuracy: 0.7876 - val_loss: 0.5706 - val_accuracy: 0.7927 - 43s/epoch - 946ms/step\n",
            "Epoch 22/100\n",
            "46/46 - 42s - loss: 0.4925 - accuracy: 0.8138 - val_loss: 0.6173 - val_accuracy: 0.7439 - 42s/epoch - 917ms/step\n",
            "Epoch 23/100\n",
            "46/46 - 43s - loss: 0.5036 - accuracy: 0.8028 - val_loss: 0.6862 - val_accuracy: 0.7317 - 43s/epoch - 926ms/step\n",
            "Epoch 24/100\n",
            "46/46 - 45s - loss: 0.4893 - accuracy: 0.8207 - val_loss: 0.6640 - val_accuracy: 0.7317 - 45s/epoch - 986ms/step\n",
            "Epoch 25/100\n",
            "46/46 - 42s - loss: 0.4727 - accuracy: 0.8221 - val_loss: 0.6466 - val_accuracy: 0.7561 - 42s/epoch - 903ms/step\n",
            "Epoch 26/100\n",
            "46/46 - 42s - loss: 0.4967 - accuracy: 0.7972 - val_loss: 0.5408 - val_accuracy: 0.7683 - 42s/epoch - 923ms/step\n",
            "Epoch 27/100\n",
            "46/46 - 42s - loss: 0.4441 - accuracy: 0.8331 - val_loss: 0.5433 - val_accuracy: 0.7805 - 42s/epoch - 922ms/step\n",
            "Epoch 28/100\n",
            "46/46 - 45s - loss: 0.5063 - accuracy: 0.8179 - val_loss: 0.5964 - val_accuracy: 0.7927 - 45s/epoch - 982ms/step\n",
            "Epoch 29/100\n",
            "46/46 - 41s - loss: 0.5058 - accuracy: 0.7917 - val_loss: 0.6472 - val_accuracy: 0.7073 - 41s/epoch - 897ms/step\n",
            "Epoch 30/100\n",
            "46/46 - 42s - loss: 0.4445 - accuracy: 0.8248 - val_loss: 0.6147 - val_accuracy: 0.7927 - 42s/epoch - 905ms/step\n",
            "Epoch 31/100\n",
            "46/46 - 42s - loss: 0.4894 - accuracy: 0.7903 - val_loss: 0.6310 - val_accuracy: 0.7195 - 42s/epoch - 921ms/step\n",
            "Epoch 32/100\n",
            "46/46 - 44s - loss: 0.4474 - accuracy: 0.8028 - val_loss: 0.5971 - val_accuracy: 0.7805 - 44s/epoch - 951ms/step\n",
            "Epoch 33/100\n",
            "46/46 - 41s - loss: 0.4157 - accuracy: 0.8400 - val_loss: 0.6578 - val_accuracy: 0.7805 - 41s/epoch - 899ms/step\n",
            "Epoch 34/100\n",
            "46/46 - 42s - loss: 0.4126 - accuracy: 0.8414 - val_loss: 0.6346 - val_accuracy: 0.7683 - 42s/epoch - 911ms/step\n",
            "Epoch 35/100\n",
            "46/46 - 41s - loss: 0.4224 - accuracy: 0.8483 - val_loss: 0.6472 - val_accuracy: 0.7561 - 41s/epoch - 901ms/step\n",
            "Epoch 36/100\n",
            "46/46 - 44s - loss: 0.4370 - accuracy: 0.8193 - val_loss: 0.6110 - val_accuracy: 0.7317 - 44s/epoch - 954ms/step\n",
            "Epoch 37/100\n",
            "46/46 - 41s - loss: 0.4480 - accuracy: 0.8193 - val_loss: 0.6265 - val_accuracy: 0.7561 - 41s/epoch - 902ms/step\n",
            "Epoch 38/100\n",
            "46/46 - 43s - loss: 0.4540 - accuracy: 0.8331 - val_loss: 0.5584 - val_accuracy: 0.7805 - 43s/epoch - 927ms/step\n",
            "Epoch 39/100\n",
            "46/46 - 42s - loss: 0.3709 - accuracy: 0.8538 - val_loss: 0.7862 - val_accuracy: 0.7439 - 42s/epoch - 908ms/step\n",
            "Epoch 40/100\n",
            "46/46 - 44s - loss: 0.4219 - accuracy: 0.8276 - val_loss: 0.6479 - val_accuracy: 0.7561 - 44s/epoch - 946ms/step\n",
            "Epoch 41/100\n",
            "46/46 - 43s - loss: 0.4281 - accuracy: 0.8372 - val_loss: 0.6165 - val_accuracy: 0.7683 - 43s/epoch - 940ms/step\n",
            "Epoch 42/100\n",
            "46/46 - 42s - loss: 0.4317 - accuracy: 0.8290 - val_loss: 0.5973 - val_accuracy: 0.7805 - 42s/epoch - 908ms/step\n",
            "Epoch 43/100\n",
            "46/46 - 43s - loss: 0.3670 - accuracy: 0.8621 - val_loss: 0.5567 - val_accuracy: 0.7805 - 43s/epoch - 938ms/step\n",
            "Epoch 44/100\n",
            "46/46 - 42s - loss: 0.3993 - accuracy: 0.8317 - val_loss: 0.6680 - val_accuracy: 0.7317 - 42s/epoch - 921ms/step\n",
            "Epoch 45/100\n",
            "46/46 - 42s - loss: 0.4143 - accuracy: 0.8345 - val_loss: 0.6370 - val_accuracy: 0.7805 - 42s/epoch - 910ms/step\n",
            "Epoch 46/100\n",
            "46/46 - 43s - loss: 0.3497 - accuracy: 0.8662 - val_loss: 0.6259 - val_accuracy: 0.7683 - 43s/epoch - 944ms/step\n",
            "Epoch 47/100\n",
            "46/46 - 41s - loss: 0.3518 - accuracy: 0.8648 - val_loss: 0.7700 - val_accuracy: 0.7439 - 41s/epoch - 901ms/step\n",
            "Epoch 48/100\n",
            "46/46 - 44s - loss: 0.3513 - accuracy: 0.8579 - val_loss: 0.5864 - val_accuracy: 0.7927 - 44s/epoch - 954ms/step\n",
            "Epoch 49/100\n",
            "46/46 - 41s - loss: 0.3709 - accuracy: 0.8579 - val_loss: 0.6048 - val_accuracy: 0.7927 - 41s/epoch - 896ms/step\n",
            "Epoch 50/100\n",
            "46/46 - 42s - loss: 0.3624 - accuracy: 0.8717 - val_loss: 0.6681 - val_accuracy: 0.7683 - 42s/epoch - 907ms/step\n",
            "Epoch 51/100\n",
            "46/46 - 43s - loss: 0.3566 - accuracy: 0.8717 - val_loss: 0.6450 - val_accuracy: 0.7439 - 43s/epoch - 945ms/step\n",
            "Epoch 52/100\n",
            "46/46 - 42s - loss: 0.3655 - accuracy: 0.8634 - val_loss: 0.5590 - val_accuracy: 0.7683 - 42s/epoch - 918ms/step\n",
            "Epoch 53/100\n",
            "46/46 - 41s - loss: 0.3429 - accuracy: 0.8607 - val_loss: 0.8752 - val_accuracy: 0.7073 - 41s/epoch - 894ms/step\n",
            "Epoch 54/100\n",
            "46/46 - 42s - loss: 0.3595 - accuracy: 0.8662 - val_loss: 0.7314 - val_accuracy: 0.7317 - 42s/epoch - 911ms/step\n",
            "Epoch 55/100\n",
            "46/46 - 41s - loss: 0.3288 - accuracy: 0.8621 - val_loss: 0.6570 - val_accuracy: 0.7439 - 41s/epoch - 896ms/step\n",
            "Epoch 56/100\n",
            "46/46 - 44s - loss: 0.3242 - accuracy: 0.8814 - val_loss: 0.7280 - val_accuracy: 0.6951 - 44s/epoch - 962ms/step\n",
            "Epoch 57/100\n",
            "46/46 - 42s - loss: 0.3599 - accuracy: 0.8731 - val_loss: 0.6598 - val_accuracy: 0.7317 - 42s/epoch - 908ms/step\n",
            "Epoch 58/100\n",
            "46/46 - 42s - loss: 0.3032 - accuracy: 0.8966 - val_loss: 0.7290 - val_accuracy: 0.8049 - 42s/epoch - 910ms/step\n",
            "Epoch 59/100\n",
            "46/46 - 42s - loss: 0.3491 - accuracy: 0.8676 - val_loss: 0.7204 - val_accuracy: 0.7073 - 42s/epoch - 908ms/step\n",
            "Epoch 60/100\n",
            "46/46 - 44s - loss: 0.3583 - accuracy: 0.8538 - val_loss: 0.6223 - val_accuracy: 0.7805 - 44s/epoch - 965ms/step\n",
            "Epoch 61/100\n",
            "46/46 - 43s - loss: 0.2996 - accuracy: 0.8841 - val_loss: 0.5967 - val_accuracy: 0.7683 - 43s/epoch - 939ms/step\n",
            "Epoch 62/100\n",
            "46/46 - 42s - loss: 0.3257 - accuracy: 0.8648 - val_loss: 0.6913 - val_accuracy: 0.7561 - 42s/epoch - 905ms/step\n",
            "Epoch 63/100\n",
            "46/46 - 42s - loss: 0.3394 - accuracy: 0.8566 - val_loss: 0.7747 - val_accuracy: 0.7317 - 42s/epoch - 916ms/step\n",
            "Epoch 64/100\n",
            "46/46 - 45s - loss: 0.3160 - accuracy: 0.8745 - val_loss: 0.5553 - val_accuracy: 0.7805 - 45s/epoch - 973ms/step\n",
            "Epoch 65/100\n",
            "46/46 - 42s - loss: 0.2917 - accuracy: 0.8731 - val_loss: 0.6066 - val_accuracy: 0.7561 - 42s/epoch - 905ms/step\n",
            "Epoch 66/100\n",
            "46/46 - 43s - loss: 0.3180 - accuracy: 0.8772 - val_loss: 0.5635 - val_accuracy: 0.7805 - 43s/epoch - 941ms/step\n",
            "Epoch 67/100\n",
            "46/46 - 42s - loss: 0.2965 - accuracy: 0.8938 - val_loss: 0.5848 - val_accuracy: 0.7927 - 42s/epoch - 918ms/step\n",
            "Epoch 68/100\n",
            "46/46 - 44s - loss: 0.3192 - accuracy: 0.8841 - val_loss: 0.6192 - val_accuracy: 0.7561 - 44s/epoch - 949ms/step\n",
            "Epoch 69/100\n",
            "46/46 - 42s - loss: 0.3033 - accuracy: 0.8814 - val_loss: 0.6054 - val_accuracy: 0.7805 - 42s/epoch - 919ms/step\n",
            "Epoch 70/100\n",
            "46/46 - 42s - loss: 0.3251 - accuracy: 0.8745 - val_loss: 0.8385 - val_accuracy: 0.7317 - 42s/epoch - 911ms/step\n",
            "Epoch 71/100\n",
            "46/46 - 43s - loss: 0.2789 - accuracy: 0.8993 - val_loss: 0.5911 - val_accuracy: 0.7439 - 43s/epoch - 944ms/step\n",
            "Epoch 72/100\n",
            "46/46 - 43s - loss: 0.3141 - accuracy: 0.8745 - val_loss: 0.5254 - val_accuracy: 0.7927 - 43s/epoch - 927ms/step\n",
            "Epoch 73/100\n",
            "46/46 - 41s - loss: 0.3551 - accuracy: 0.8552 - val_loss: 0.6548 - val_accuracy: 0.7683 - 41s/epoch - 902ms/step\n",
            "Epoch 74/100\n",
            "46/46 - 42s - loss: 0.2911 - accuracy: 0.8855 - val_loss: 0.5412 - val_accuracy: 0.7805 - 42s/epoch - 917ms/step\n",
            "Epoch 75/100\n",
            "46/46 - 44s - loss: 0.3692 - accuracy: 0.8579 - val_loss: 0.4992 - val_accuracy: 0.7927 - 44s/epoch - 956ms/step\n",
            "Epoch 76/100\n",
            "46/46 - 43s - loss: 0.3142 - accuracy: 0.8800 - val_loss: 0.7006 - val_accuracy: 0.7561 - 43s/epoch - 927ms/step\n",
            "Epoch 77/100\n",
            "46/46 - 42s - loss: 0.2789 - accuracy: 0.8924 - val_loss: 0.6177 - val_accuracy: 0.7683 - 42s/epoch - 915ms/step\n",
            "Epoch 78/100\n",
            "46/46 - 43s - loss: 0.3454 - accuracy: 0.8648 - val_loss: 0.7181 - val_accuracy: 0.7317 - 43s/epoch - 941ms/step\n",
            "Epoch 79/100\n",
            "46/46 - 43s - loss: 0.3173 - accuracy: 0.8662 - val_loss: 0.6645 - val_accuracy: 0.7927 - 43s/epoch - 935ms/step\n",
            "Epoch 80/100\n",
            "46/46 - 45s - loss: 0.2758 - accuracy: 0.8938 - val_loss: 0.6270 - val_accuracy: 0.7805 - 45s/epoch - 986ms/step\n",
            "Epoch 81/100\n",
            "46/46 - 41s - loss: 0.2780 - accuracy: 0.8855 - val_loss: 0.6191 - val_accuracy: 0.7683 - 41s/epoch - 896ms/step\n",
            "Epoch 82/100\n",
            "46/46 - 43s - loss: 0.3234 - accuracy: 0.8800 - val_loss: 0.5881 - val_accuracy: 0.7805 - 43s/epoch - 931ms/step\n",
            "Epoch 83/100\n",
            "46/46 - 43s - loss: 0.2685 - accuracy: 0.8924 - val_loss: 0.7641 - val_accuracy: 0.7561 - 43s/epoch - 944ms/step\n",
            "Epoch 84/100\n",
            "46/46 - 45s - loss: 0.3202 - accuracy: 0.8690 - val_loss: 0.4662 - val_accuracy: 0.7805 - 45s/epoch - 969ms/step\n",
            "Epoch 85/100\n",
            "46/46 - 41s - loss: 0.3278 - accuracy: 0.8690 - val_loss: 0.9670 - val_accuracy: 0.6707 - 41s/epoch - 891ms/step\n",
            "Epoch 86/100\n",
            "46/46 - 45s - loss: 0.3321 - accuracy: 0.8786 - val_loss: 0.5719 - val_accuracy: 0.8171 - 45s/epoch - 985ms/step\n",
            "Epoch 87/100\n",
            "46/46 - 43s - loss: 0.2295 - accuracy: 0.9159 - val_loss: 0.7086 - val_accuracy: 0.8293 - 43s/epoch - 927ms/step\n",
            "Epoch 88/100\n",
            "46/46 - 44s - loss: 0.2720 - accuracy: 0.8938 - val_loss: 0.7782 - val_accuracy: 0.7683 - 44s/epoch - 953ms/step\n",
            "Epoch 89/100\n",
            "46/46 - 42s - loss: 0.2657 - accuracy: 0.8883 - val_loss: 0.5245 - val_accuracy: 0.7805 - 42s/epoch - 919ms/step\n",
            "Epoch 90/100\n",
            "46/46 - 44s - loss: 0.2360 - accuracy: 0.9131 - val_loss: 0.6736 - val_accuracy: 0.7317 - 44s/epoch - 963ms/step\n",
            "Epoch 91/100\n",
            "46/46 - 42s - loss: 0.3015 - accuracy: 0.8855 - val_loss: 0.6801 - val_accuracy: 0.8049 - 42s/epoch - 917ms/step\n",
            "Epoch 92/100\n",
            "46/46 - 42s - loss: 0.3070 - accuracy: 0.8731 - val_loss: 0.6451 - val_accuracy: 0.7317 - 42s/epoch - 917ms/step\n",
            "Epoch 93/100\n",
            "46/46 - 42s - loss: 0.2418 - accuracy: 0.9090 - val_loss: 0.5815 - val_accuracy: 0.8293 - 42s/epoch - 907ms/step\n",
            "Epoch 94/100\n",
            "46/46 - 45s - loss: 0.2750 - accuracy: 0.8814 - val_loss: 0.6032 - val_accuracy: 0.7683 - 45s/epoch - 977ms/step\n",
            "Epoch 95/100\n",
            "46/46 - 42s - loss: 0.2409 - accuracy: 0.9062 - val_loss: 0.6660 - val_accuracy: 0.7561 - 42s/epoch - 920ms/step\n",
            "Epoch 96/100\n",
            "46/46 - 43s - loss: 0.2322 - accuracy: 0.9172 - val_loss: 0.6627 - val_accuracy: 0.7805 - 43s/epoch - 933ms/step\n",
            "Epoch 97/100\n",
            "46/46 - 42s - loss: 0.2168 - accuracy: 0.9241 - val_loss: 0.6303 - val_accuracy: 0.7927 - 42s/epoch - 907ms/step\n",
            "Epoch 98/100\n",
            "46/46 - 44s - loss: 0.1880 - accuracy: 0.9310 - val_loss: 0.5771 - val_accuracy: 0.7683 - 44s/epoch - 954ms/step\n",
            "Epoch 99/100\n",
            "46/46 - 43s - loss: 0.2592 - accuracy: 0.9021 - val_loss: 0.7488 - val_accuracy: 0.7927 - 43s/epoch - 943ms/step\n",
            "Epoch 100/100\n",
            "46/46 - 44s - loss: 0.2279 - accuracy: 0.9117 - val_loss: 0.5414 - val_accuracy: 0.7927 - 44s/epoch - 963ms/step\n"
          ]
        }
      ]
    },
    {
      "cell_type": "code",
      "source": [],
      "metadata": {
        "id": "_dPrJtF8Xc-r"
      },
      "execution_count": null,
      "outputs": []
    }
  ]
}