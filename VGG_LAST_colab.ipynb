{
  "cells": [
    {
      "cell_type": "markdown",
      "metadata": {
        "id": "view-in-github",
        "colab_type": "text"
      },
      "source": [
        "<a href=\"https://colab.research.google.com/github/DILSHAN565/FYP_DL_Models/blob/main/VGG_LAST_colab.ipynb\" target=\"_parent\"><img src=\"https://colab.research.google.com/assets/colab-badge.svg\" alt=\"Open In Colab\"/></a>"
      ]
    },
    {
      "cell_type": "code",
      "execution_count": null,
      "metadata": {
        "colab": {
          "base_uri": "https://localhost:8080/"
        },
        "id": "Z4-e17VcJ5Pm",
        "outputId": "f154824f-7e4f-4b3c-b982-06bcce52aa2c"
      },
      "outputs": [
        {
          "name": "stdout",
          "output_type": "stream",
          "text": [
            "Mounted at /content/drive\n"
          ]
        }
      ],
      "source": [
        "# Mount Google Drive\n",
        "from google.colab import drive\n",
        "drive.mount('/content/drive')\n"
      ]
    },
    {
      "cell_type": "code",
      "execution_count": null,
      "metadata": {
        "colab": {
          "base_uri": "https://localhost:8080/"
        },
        "id": "gVmPAO0eJ6co",
        "outputId": "febcc4e1-a59b-4abc-9aeb-bda1464bf8eb"
      },
      "outputs": [
        {
          "name": "stdout",
          "output_type": "stream",
          "text": [
            "\u001b[?25l     \u001b[90m━━━━━━━━━━━━━━━━━━━━━━━━━━━━━━━━━━━━━━━━\u001b[0m \u001b[32m0.0/611.8 kB\u001b[0m \u001b[31m?\u001b[0m eta \u001b[36m-:--:--\u001b[0m\r\u001b[2K     \u001b[91m━━━━━━━━━━━━━━━━━━━━━━━━━━━━━━━━━━━━━━━\u001b[0m\u001b[91m╸\u001b[0m \u001b[32m604.2/611.8 kB\u001b[0m \u001b[31m18.1 MB/s\u001b[0m eta \u001b[36m0:00:01\u001b[0m\r\u001b[2K     \u001b[90m━━━━━━━━━━━━━━━━━━━━━━━━━━━━━━━━━━━━━━━━\u001b[0m \u001b[32m611.8/611.8 kB\u001b[0m \u001b[31m13.0 MB/s\u001b[0m eta \u001b[36m0:00:00\u001b[0m\n",
            "\u001b[?25h\u001b[?25l     \u001b[90m━━━━━━━━━━━━━━━━━━━━━━━━━━━━━━━━━━━━━━━━\u001b[0m \u001b[32m0.0/40.0 kB\u001b[0m \u001b[31m?\u001b[0m eta \u001b[36m-:--:--\u001b[0m\r\u001b[2K     \u001b[90m━━━━━━━━━━━━━━━━━━━━━━━━━━━━━━━━━━━━━━━━\u001b[0m \u001b[32m40.0/40.0 kB\u001b[0m \u001b[31m4.6 MB/s\u001b[0m eta \u001b[36m0:00:00\u001b[0m\n",
            "\u001b[?25hRequirement already satisfied: tensorflow-addons in /usr/local/lib/python3.10/dist-packages (0.23.0)\n",
            "Requirement already satisfied: packaging in /usr/local/lib/python3.10/dist-packages (from tensorflow-addons) (24.0)\n",
            "Requirement already satisfied: typeguard<3.0.0,>=2.7 in /usr/local/lib/python3.10/dist-packages (from tensorflow-addons) (2.13.3)\n",
            "Requirement already satisfied: vit-keras in /usr/local/lib/python3.10/dist-packages (0.1.2)\n",
            "Requirement already satisfied: scipy in /usr/local/lib/python3.10/dist-packages (from vit-keras) (1.11.4)\n",
            "Requirement already satisfied: validators in /usr/local/lib/python3.10/dist-packages (from vit-keras) (0.28.3)\n",
            "Requirement already satisfied: numpy<1.28.0,>=1.21.6 in /usr/local/lib/python3.10/dist-packages (from scipy->vit-keras) (1.25.2)\n"
          ]
        }
      ],
      "source": [
        "# Install necessary libraries\n",
        "!pip -q install vit_keras tensorflow-addons\n",
        "!pip -q install --upgrade --no-cache-dir gdown\n",
        "!pip install tensorflow-addons\n",
        "!pip install vit-keras"
      ]
    },
    {
      "cell_type": "code",
      "execution_count": null,
      "metadata": {
        "id": "PdNU41GiKDNi"
      },
      "outputs": [],
      "source": [
        "import os\n",
        "import numpy as np\n",
        "import tensorflow as tf\n",
        "from tensorflow.keras.preprocessing.image import ImageDataGenerator\n",
        "from tensorflow.keras.optimizers import Adam\n",
        "from tensorflow.keras.layers import Dense, Flatten\n",
        "from tensorflow.keras.models import Model, Sequential\n",
        "from tensorflow.keras.applications import VGG16\n",
        "from sklearn.metrics import confusion_matrix, classification_report\n",
        "import matplotlib.pyplot as plt\n",
        "import seaborn as sns\n",
        "import itertools"
      ]
    },
    {
      "cell_type": "code",
      "execution_count": null,
      "metadata": {
        "id": "RpaH4b0RKGFs"
      },
      "outputs": [],
      "source": [
        "# Set the seed for reproducibility\n",
        "SEED = 42\n",
        "np.random.seed(SEED)\n"
      ]
    },
    {
      "cell_type": "code",
      "execution_count": null,
      "metadata": {
        "id": "eY6vNISjKGIA"
      },
      "outputs": [],
      "source": [
        "# Define dataset paths\n",
        "train_path = '/content/drive/MyDrive/progress/Tea-Leaf-Diseases-Dataset/train'\n",
        "val_path = '/content/drive/MyDrive/progress/Tea-Leaf-Diseases-Dataset/validation'\n",
        "test_path = '/content/drive/MyDrive/progress/Tea-Leaf-Diseases-Dataset/test'"
      ]
    },
    {
      "cell_type": "code",
      "execution_count": null,
      "metadata": {
        "id": "NWedqfKWKGK-"
      },
      "outputs": [],
      "source": [
        "# Define image size, batch size, and other constants\n",
        "IMAGE_SIZE = 224\n",
        "BATCH_SIZE = 8\n",
        "EPOCHS = 30\n",
        "LEARNING_RATE = 1e-4"
      ]
    },
    {
      "cell_type": "code",
      "execution_count": null,
      "metadata": {
        "colab": {
          "base_uri": "https://localhost:8080/"
        },
        "id": "QvesZn2nKGNQ",
        "outputId": "9c1a4c3c-c561-4051-aa7e-8d1e9d770ed2"
      },
      "outputs": [
        {
          "name": "stdout",
          "output_type": "stream",
          "text": [
            "Found 725 images belonging to 8 classes.\n",
            "Found 82 images belonging to 8 classes.\n",
            "Found 83 images belonging to 8 classes.\n"
          ]
        }
      ],
      "source": [
        "\n",
        "\n",
        "# Apply data augmentation\n",
        "train_datagen = ImageDataGenerator(\n",
        "    rescale=1./255,\n",
        "    rotation_range=360,\n",
        "    height_shift_range=0.1,\n",
        "    shear_range=0.1,\n",
        "    zoom_range=0.1,\n",
        "    fill_mode='nearest',\n",
        "    brightness_range=[0.8, 1.4],\n",
        "    vertical_flip=True,\n",
        "    horizontal_flip=True\n",
        ")\n",
        "\n",
        "val_datagen = ImageDataGenerator(rescale=1./255)\n",
        "test_datagen = ImageDataGenerator(rescale=1./255)\n",
        "\n",
        "# Create data generators\n",
        "train_generator = train_datagen.flow_from_directory(\n",
        "    train_path,\n",
        "    target_size=(IMAGE_SIZE, IMAGE_SIZE),\n",
        "    batch_size=BATCH_SIZE,\n",
        "    class_mode='categorical'\n",
        ")\n",
        "\n",
        "validation_generator = val_datagen.flow_from_directory(\n",
        "    val_path,\n",
        "    target_size=(IMAGE_SIZE, IMAGE_SIZE),\n",
        "    batch_size=BATCH_SIZE,\n",
        "    class_mode='categorical'\n",
        ")\n",
        "\n",
        "test_generator = test_datagen.flow_from_directory(\n",
        "    test_path,\n",
        "    target_size=(IMAGE_SIZE, IMAGE_SIZE),\n",
        "    batch_size=BATCH_SIZE,\n",
        "    class_mode='categorical',\n",
        "    shuffle=False\n",
        ")\n"
      ]
    },
    {
      "cell_type": "code",
      "execution_count": null,
      "metadata": {
        "colab": {
          "base_uri": "https://localhost:8080/"
        },
        "id": "fiCaEdDdKGPs",
        "outputId": "1a191fbf-175a-473e-f821-cac13a674361"
      },
      "outputs": [
        {
          "name": "stdout",
          "output_type": "stream",
          "text": [
            "Downloading data from https://storage.googleapis.com/tensorflow/keras-applications/vgg16/vgg16_weights_tf_dim_ordering_tf_kernels_notop.h5\n",
            "58889256/58889256 [==============================] - 0s 0us/step\n",
            "Model: \"vgg16\"\n",
            "_________________________________________________________________\n",
            " Layer (type)                Output Shape              Param #   \n",
            "=================================================================\n",
            " input_1 (InputLayer)        [(None, 224, 224, 3)]     0         \n",
            "                                                                 \n",
            " block1_conv1 (Conv2D)       (None, 224, 224, 64)      1792      \n",
            "                                                                 \n",
            " block1_conv2 (Conv2D)       (None, 224, 224, 64)      36928     \n",
            "                                                                 \n",
            " block1_pool (MaxPooling2D)  (None, 112, 112, 64)      0         \n",
            "                                                                 \n",
            " block2_conv1 (Conv2D)       (None, 112, 112, 128)     73856     \n",
            "                                                                 \n",
            " block2_conv2 (Conv2D)       (None, 112, 112, 128)     147584    \n",
            "                                                                 \n",
            " block2_pool (MaxPooling2D)  (None, 56, 56, 128)       0         \n",
            "                                                                 \n",
            " block3_conv1 (Conv2D)       (None, 56, 56, 256)       295168    \n",
            "                                                                 \n",
            " block3_conv2 (Conv2D)       (None, 56, 56, 256)       590080    \n",
            "                                                                 \n",
            " block3_conv3 (Conv2D)       (None, 56, 56, 256)       590080    \n",
            "                                                                 \n",
            " block3_pool (MaxPooling2D)  (None, 28, 28, 256)       0         \n",
            "                                                                 \n",
            " block4_conv1 (Conv2D)       (None, 28, 28, 512)       1180160   \n",
            "                                                                 \n",
            " block4_conv2 (Conv2D)       (None, 28, 28, 512)       2359808   \n",
            "                                                                 \n",
            " block4_conv3 (Conv2D)       (None, 28, 28, 512)       2359808   \n",
            "                                                                 \n",
            " block4_pool (MaxPooling2D)  (None, 14, 14, 512)       0         \n",
            "                                                                 \n",
            " block5_conv1 (Conv2D)       (None, 14, 14, 512)       2359808   \n",
            "                                                                 \n",
            " block5_conv2 (Conv2D)       (None, 14, 14, 512)       2359808   \n",
            "                                                                 \n",
            " block5_conv3 (Conv2D)       (None, 14, 14, 512)       2359808   \n",
            "                                                                 \n",
            " block5_pool (MaxPooling2D)  (None, 7, 7, 512)         0         \n",
            "                                                                 \n",
            "=================================================================\n",
            "Total params: 14714688 (56.13 MB)\n",
            "Trainable params: 14714688 (56.13 MB)\n",
            "Non-trainable params: 0 (0.00 Byte)\n",
            "_________________________________________________________________\n"
          ]
        }
      ],
      "source": [
        "# Define the model using VGG16\n",
        "vgg16_model = VGG16(include_top=False, input_shape=(224, 224, 3))\n",
        "vgg16_model.summary()"
      ]
    },
    {
      "cell_type": "code",
      "execution_count": null,
      "metadata": {
        "id": "OSZO16B0KGS5"
      },
      "outputs": [],
      "source": [
        "# Build the model\n",
        "model = Sequential()\n",
        "for layer in vgg16_model.layers:\n",
        "    model.add(layer)\n",
        "\n",
        "# Freeze the layers\n",
        "for layer in model.layers:\n",
        "    layer.trainable = False"
      ]
    },
    {
      "cell_type": "code",
      "execution_count": null,
      "metadata": {
        "id": "Of2t9PTsKhl2"
      },
      "outputs": [],
      "source": [
        "# Add custom layers\n",
        "model.add(Flatten())\n",
        "model.add(Dense(units=1024, activation='relu'))  # Reduced number of units\n",
        "model.add(Dense(units=512, activation='relu'))  # Reduced number of units\n",
        "model.add(Dense(units=8, activation='softmax'))"
      ]
    },
    {
      "cell_type": "code",
      "execution_count": null,
      "metadata": {
        "colab": {
          "base_uri": "https://localhost:8080/"
        },
        "id": "RML3Vv3YKjvi",
        "outputId": "527a2f5c-b84e-40b9-8101-c0feb4f44a6b"
      },
      "outputs": [
        {
          "output_type": "stream",
          "name": "stdout",
          "text": [
            "Epoch 1/30\n",
            "91/91 - 560s - loss: 1.7203 - accuracy: 0.3393 - val_loss: 1.5511 - val_accuracy: 0.4512 - 560s/epoch - 6s/step\n",
            "Epoch 2/30\n",
            "91/91 - 544s - loss: 1.2731 - accuracy: 0.5172 - val_loss: 1.1475 - val_accuracy: 0.5488 - 544s/epoch - 6s/step\n",
            "Epoch 3/30\n",
            "91/91 - 512s - loss: 1.0334 - accuracy: 0.5903 - val_loss: 0.8228 - val_accuracy: 0.7073 - 512s/epoch - 6s/step\n",
            "Epoch 4/30\n",
            "91/91 - 546s - loss: 0.9402 - accuracy: 0.6414 - val_loss: 0.9059 - val_accuracy: 0.5854 - 546s/epoch - 6s/step\n",
            "Epoch 5/30\n",
            "91/91 - 515s - loss: 0.8662 - accuracy: 0.6717 - val_loss: 0.8656 - val_accuracy: 0.6341 - 515s/epoch - 6s/step\n",
            "Epoch 6/30\n",
            "91/91 - 507s - loss: 0.7969 - accuracy: 0.6910 - val_loss: 0.7250 - val_accuracy: 0.7073 - 507s/epoch - 6s/step\n",
            "Epoch 7/30\n",
            "91/91 - 507s - loss: 0.7607 - accuracy: 0.7048 - val_loss: 0.7923 - val_accuracy: 0.6341 - 507s/epoch - 6s/step\n",
            "Epoch 8/30\n",
            "91/91 - 507s - loss: 0.7010 - accuracy: 0.7214 - val_loss: 0.6764 - val_accuracy: 0.7439 - 507s/epoch - 6s/step\n",
            "Epoch 9/30\n",
            "91/91 - 505s - loss: 0.7125 - accuracy: 0.7117 - val_loss: 0.7009 - val_accuracy: 0.7561 - 505s/epoch - 6s/step\n",
            "Epoch 10/30\n",
            "91/91 - 506s - loss: 0.6359 - accuracy: 0.7476 - val_loss: 0.6223 - val_accuracy: 0.7317 - 506s/epoch - 6s/step\n",
            "Epoch 11/30\n",
            "91/91 - 506s - loss: 0.7072 - accuracy: 0.6924 - val_loss: 0.6578 - val_accuracy: 0.6585 - 506s/epoch - 6s/step\n",
            "Epoch 12/30\n",
            "91/91 - 507s - loss: 0.7194 - accuracy: 0.6993 - val_loss: 0.7240 - val_accuracy: 0.6829 - 507s/epoch - 6s/step\n",
            "Epoch 13/30\n",
            "91/91 - 508s - loss: 0.6692 - accuracy: 0.7324 - val_loss: 0.6071 - val_accuracy: 0.7195 - 508s/epoch - 6s/step\n",
            "Epoch 14/30\n",
            "91/91 - 507s - loss: 0.6116 - accuracy: 0.7421 - val_loss: 0.8058 - val_accuracy: 0.6341 - 507s/epoch - 6s/step\n",
            "Epoch 15/30\n",
            "91/91 - 506s - loss: 0.6371 - accuracy: 0.7283 - val_loss: 0.6583 - val_accuracy: 0.6829 - 506s/epoch - 6s/step\n",
            "Epoch 16/30\n",
            "91/91 - 507s - loss: 0.5322 - accuracy: 0.7834 - val_loss: 0.6134 - val_accuracy: 0.7195 - 507s/epoch - 6s/step\n",
            "Epoch 17/30\n",
            "91/91 - 543s - loss: 0.5571 - accuracy: 0.7903 - val_loss: 0.6728 - val_accuracy: 0.7805 - 543s/epoch - 6s/step\n",
            "Epoch 18/30\n",
            "91/91 - 504s - loss: 0.5930 - accuracy: 0.7559 - val_loss: 0.8694 - val_accuracy: 0.6707 - 504s/epoch - 6s/step\n",
            "Epoch 19/30\n",
            "91/91 - 506s - loss: 0.5557 - accuracy: 0.7766 - val_loss: 0.5839 - val_accuracy: 0.7805 - 506s/epoch - 6s/step\n",
            "Epoch 20/30\n",
            "91/91 - 507s - loss: 0.5793 - accuracy: 0.7807 - val_loss: 0.6248 - val_accuracy: 0.7439 - 507s/epoch - 6s/step\n",
            "Epoch 21/30\n",
            "91/91 - 546s - loss: 0.5046 - accuracy: 0.7931 - val_loss: 0.6332 - val_accuracy: 0.7317 - 546s/epoch - 6s/step\n",
            "Epoch 22/30\n",
            "91/91 - 507s - loss: 0.4907 - accuracy: 0.8083 - val_loss: 0.6122 - val_accuracy: 0.7195 - 507s/epoch - 6s/step\n",
            "Epoch 23/30\n",
            "91/91 - 509s - loss: 0.5325 - accuracy: 0.7710 - val_loss: 0.6377 - val_accuracy: 0.7439 - 509s/epoch - 6s/step\n",
            "Epoch 24/30\n",
            "91/91 - 509s - loss: 0.5144 - accuracy: 0.7903 - val_loss: 0.6759 - val_accuracy: 0.7317 - 509s/epoch - 6s/step\n",
            "Epoch 25/30\n",
            "91/91 - 510s - loss: 0.4990 - accuracy: 0.8028 - val_loss: 0.7483 - val_accuracy: 0.6829 - 510s/epoch - 6s/step\n",
            "Epoch 26/30\n",
            "91/91 - 507s - loss: 0.4749 - accuracy: 0.7986 - val_loss: 0.5445 - val_accuracy: 0.7805 - 507s/epoch - 6s/step\n",
            "Epoch 27/30\n",
            "91/91 - 506s - loss: 0.4769 - accuracy: 0.8083 - val_loss: 0.6010 - val_accuracy: 0.7439 - 506s/epoch - 6s/step\n",
            "Epoch 28/30\n",
            "91/91 - 506s - loss: 0.4961 - accuracy: 0.7959 - val_loss: 0.6515 - val_accuracy: 0.7317 - 506s/epoch - 6s/step\n",
            "Epoch 29/30\n",
            "91/91 - 543s - loss: 0.4779 - accuracy: 0.8166 - val_loss: 0.5888 - val_accuracy: 0.7805 - 543s/epoch - 6s/step\n",
            "Epoch 30/30\n"
          ]
        }
      ],
      "source": [
        "# Compile the model\n",
        "model.compile(optimizer=Adam(learning_rate=LEARNING_RATE), loss='categorical_crossentropy', metrics=['accuracy'])\n",
        "\n",
        "# Train the model\n",
        "history = model.fit(\n",
        "    train_generator,\n",
        "    steps_per_epoch=len(train_generator),\n",
        "    validation_data=validation_generator,\n",
        "    validation_steps=len(validation_generator),\n",
        "    epochs=EPOCHS,\n",
        "    verbose=2\n",
        ")\n"
      ]
    },
    {
      "cell_type": "code",
      "execution_count": 14,
      "metadata": {
        "id": "mHOolSk-Ku4c"
      },
      "outputs": [],
      "source": [
        "# Evaluate the model\n",
        "test_labels = test_generator.classes\n",
        "predictions = model.predict(test_generator, steps=len(test_generator), verbose=0)\n",
        "cm = confusion_matrix(test_labels, predictions.argmax(axis=1))\n"
      ]
    },
    {
      "cell_type": "code",
      "execution_count": 15,
      "metadata": {
        "id": "OW1SbYfJKy7C"
      },
      "outputs": [],
      "source": [
        "# Plot confusion matrix\n",
        "def plot_confusion_matrix(cm, classes, normalize=False, title='Confusion matrix', cmap=plt.cm.Blues):\n",
        "    plt.imshow(cm, interpolation='nearest', cmap=cmap)\n",
        "    plt.title(title)\n",
        "    plt.colorbar()\n",
        "    tick_marks = np.arange(len(classes))\n",
        "    plt.xticks(tick_marks, classes, rotation=45)\n",
        "    plt.yticks(tick_marks, classes)\n",
        "\n",
        "    if normalize:\n",
        "        cm = cm.astype('float') / cm.sum(axis=1)[:, np.newaxis]\n",
        "        print(\"Normalized confusion matrix\")\n",
        "    else:\n",
        "        print('Confusion matrix, without normalization')\n",
        "\n",
        "    print(cm)\n",
        "\n",
        "    thresh = cm.max() / 2.\n",
        "    for i, j in itertools.product(range(cm.shape[0]), range(cm.shape[1])):\n",
        "        plt.text(j, i, format(cm[i, j], 'd'),\n",
        "                 horizontalalignment=\"center\",\n",
        "                 color=\"white\" if cm[i, j] > thresh else \"black\")\n",
        "\n",
        "    plt.tight_layout()\n",
        "    plt.ylabel('True label')\n",
        "    plt.xlabel('Predicted label')\n"
      ]
    },
    {
      "cell_type": "code",
      "execution_count": 16,
      "metadata": {
        "id": "bABi5A8xKy-a",
        "colab": {
          "base_uri": "https://localhost:8080/",
          "height": 610
        },
        "outputId": "600daa28-4263-4876-9172-012dc629b49d"
      },
      "outputs": [
        {
          "output_type": "stream",
          "name": "stdout",
          "text": [
            "Classification Report\n",
            "              precision    recall  f1-score   support\n",
            "\n",
            "           0       1.00      0.30      0.46        10\n",
            "           1       0.60      0.60      0.60        10\n",
            "           2       0.67      0.55      0.60        11\n",
            "           3       0.82      0.90      0.86        10\n",
            "           4       0.71      1.00      0.83        10\n",
            "           5       1.00      1.00      1.00         8\n",
            "           6       0.85      0.92      0.88        12\n",
            "           7       0.73      0.92      0.81        12\n",
            "\n",
            "    accuracy                           0.77        83\n",
            "   macro avg       0.80      0.77      0.76        83\n",
            "weighted avg       0.79      0.77      0.75        83\n",
            "\n"
          ]
        },
        {
          "output_type": "error",
          "ename": "IndexError",
          "evalue": "list index out of range",
          "traceback": [
            "\u001b[0;31m---------------------------------------------------------------------------\u001b[0m",
            "\u001b[0;31mIndexError\u001b[0m                                Traceback (most recent call last)",
            "\u001b[0;32m<ipython-input-16-eca399f8d9ef>\u001b[0m in \u001b[0;36m<cell line: 40>\u001b[0;34m()\u001b[0m\n\u001b[1;32m     38\u001b[0m \u001b[0mprint\u001b[0m\u001b[0;34m(\u001b[0m\u001b[0mcr\u001b[0m\u001b[0;34m)\u001b[0m\u001b[0;34m\u001b[0m\u001b[0;34m\u001b[0m\u001b[0m\n\u001b[1;32m     39\u001b[0m \u001b[0;34m\u001b[0m\u001b[0m\n\u001b[0;32m---> 40\u001b[0;31m \u001b[0mplot_classification_report\u001b[0m\u001b[0;34m(\u001b[0m\u001b[0mcr\u001b[0m\u001b[0;34m,\u001b[0m \u001b[0mtitle\u001b[0m\u001b[0;34m=\u001b[0m\u001b[0;34m'Classification Report'\u001b[0m\u001b[0;34m,\u001b[0m \u001b[0mwith_avg_total\u001b[0m\u001b[0;34m=\u001b[0m\u001b[0;32mTrue\u001b[0m\u001b[0;34m)\u001b[0m\u001b[0;34m\u001b[0m\u001b[0;34m\u001b[0m\u001b[0m\n\u001b[0m\u001b[1;32m     41\u001b[0m \u001b[0mplt\u001b[0m\u001b[0;34m.\u001b[0m\u001b[0mshow\u001b[0m\u001b[0;34m(\u001b[0m\u001b[0;34m)\u001b[0m\u001b[0;34m\u001b[0m\u001b[0;34m\u001b[0m\u001b[0m\n\u001b[1;32m     42\u001b[0m \u001b[0;34m\u001b[0m\u001b[0m\n",
            "\u001b[0;32m<ipython-input-16-eca399f8d9ef>\u001b[0m in \u001b[0;36mplot_classification_report\u001b[0;34m(cr, title, with_avg_total, cmap)\u001b[0m\n\u001b[1;32m      6\u001b[0m     \u001b[0;32mfor\u001b[0m \u001b[0mline\u001b[0m \u001b[0;32min\u001b[0m \u001b[0mlines\u001b[0m\u001b[0;34m[\u001b[0m\u001b[0;36m2\u001b[0m \u001b[0;34m:\u001b[0m \u001b[0;34m(\u001b[0m\u001b[0mlen\u001b[0m\u001b[0;34m(\u001b[0m\u001b[0mlines\u001b[0m\u001b[0;34m)\u001b[0m \u001b[0;34m-\u001b[0m \u001b[0;36m3\u001b[0m\u001b[0;34m)\u001b[0m\u001b[0;34m]\u001b[0m\u001b[0;34m:\u001b[0m\u001b[0;34m\u001b[0m\u001b[0;34m\u001b[0m\u001b[0m\n\u001b[1;32m      7\u001b[0m         \u001b[0mt\u001b[0m \u001b[0;34m=\u001b[0m \u001b[0mline\u001b[0m\u001b[0;34m.\u001b[0m\u001b[0msplit\u001b[0m\u001b[0;34m(\u001b[0m\u001b[0;34m)\u001b[0m\u001b[0;34m\u001b[0m\u001b[0;34m\u001b[0m\u001b[0m\n\u001b[0;32m----> 8\u001b[0;31m         \u001b[0mclasses\u001b[0m\u001b[0;34m.\u001b[0m\u001b[0mappend\u001b[0m\u001b[0;34m(\u001b[0m\u001b[0mt\u001b[0m\u001b[0;34m[\u001b[0m\u001b[0;36m0\u001b[0m\u001b[0;34m]\u001b[0m\u001b[0;34m)\u001b[0m\u001b[0;34m\u001b[0m\u001b[0;34m\u001b[0m\u001b[0m\n\u001b[0m\u001b[1;32m      9\u001b[0m         \u001b[0mv\u001b[0m \u001b[0;34m=\u001b[0m \u001b[0;34m[\u001b[0m\u001b[0mfloat\u001b[0m\u001b[0;34m(\u001b[0m\u001b[0mx\u001b[0m\u001b[0;34m)\u001b[0m \u001b[0;32mfor\u001b[0m \u001b[0mx\u001b[0m \u001b[0;32min\u001b[0m \u001b[0mt\u001b[0m\u001b[0;34m[\u001b[0m\u001b[0;36m1\u001b[0m\u001b[0;34m:\u001b[0m \u001b[0mlen\u001b[0m\u001b[0;34m(\u001b[0m\u001b[0mt\u001b[0m\u001b[0;34m)\u001b[0m \u001b[0;34m-\u001b[0m \u001b[0;36m1\u001b[0m\u001b[0;34m]\u001b[0m\u001b[0;34m]\u001b[0m\u001b[0;34m\u001b[0m\u001b[0;34m\u001b[0m\u001b[0m\n\u001b[1;32m     10\u001b[0m         \u001b[0mplot_mat\u001b[0m\u001b[0;34m.\u001b[0m\u001b[0mappend\u001b[0m\u001b[0;34m(\u001b[0m\u001b[0mv\u001b[0m\u001b[0;34m)\u001b[0m\u001b[0;34m\u001b[0m\u001b[0;34m\u001b[0m\u001b[0m\n",
            "\u001b[0;31mIndexError\u001b[0m: list index out of range"
          ]
        }
      ],
      "source": [
        "# Plot classification report\n",
        "def plot_classification_report(cr, title='Classification report ', with_avg_total=False, cmap=plt.cm.Blues):\n",
        "    lines = cr.split('\\n')\n",
        "    classes = []\n",
        "    plot_mat = []\n",
        "    for line in lines[2 : (len(lines) - 3)]:\n",
        "        t = line.split()\n",
        "        classes.append(t[0])\n",
        "        v = [float(x) for x in t[1: len(t) - 1]]\n",
        "        plot_mat.append(v)\n",
        "\n",
        "    if with_avg_total:\n",
        "        ave_total = lines[len(lines) - 1].split()\n",
        "        classes.append('avg/total')\n",
        "        v_ave_total = [float(x) for x in ave_total[1: len(ave_total) - 1]]\n",
        "        plot_mat.append(v_ave_total)\n",
        "\n",
        "    plt.imshow(plot_mat, interpolation='nearest', cmap=cmap)\n",
        "    plt.title(title)\n",
        "    plt.colorbar()\n",
        "    x_tick_marks = np.arange(3)\n",
        "    y_tick_marks = np.arange(len(classes))\n",
        "    plt.xticks(x_tick_marks, ['precision', 'recall', 'f1-score'], rotation=45)\n",
        "    plt.yticks(y_tick_marks, classes)\n",
        "\n",
        "    thresh = np.max(plot_mat) / 2.\n",
        "    for i, j in itertools.product(range(len(plot_mat)), range(len(plot_mat[0]))):\n",
        "        plt.text(j, i, format(plot_mat[i][j], '.2f'), horizontalalignment=\"center\",\n",
        "                 color=\"white\" if plot_mat[i][j] > thresh else \"black\")\n",
        "\n",
        "    plt.ylabel('Classes')\n",
        "    plt.xlabel('Metrics')\n",
        "    plt.tight_layout()\n",
        "\n",
        "# Print and plot classification report\n",
        "print('Classification Report')\n",
        "cr = classification_report(test_labels, predictions.argmax(axis=1), target_names=[str(i) for i in range(8)])\n",
        "print(cr)\n",
        "\n",
        "plot_classification_report(cr, title='Classification Report', with_avg_total=True)\n",
        "plt.show()\n",
        "\n",
        "# Plot and print confusion matrix\n",
        "plot_confusion_matrix(cm, classes=[str(i) for i in range(8)], title='Confusion Matrix')\n",
        "plt.show()"
      ]
    },
    {
      "cell_type": "code",
      "source": [
        "import itertools\n",
        "import numpy as np\n",
        "import matplotlib.pyplot as plt\n",
        "from sklearn.metrics import confusion_matrix\n",
        "\n",
        "def plot_confusion_matrix(cm, classes, normalize=False, title='Confusion matrix', cmap=plt.cm.Blues):\n",
        "    plt.imshow(cm, interpolation='nearest', cmap=cmap)\n",
        "    plt.title(title)\n",
        "    plt.colorbar()\n",
        "    tick_marks = np.arange(len(classes))\n",
        "    plt.xticks(tick_marks, classes, rotation=45)\n",
        "    plt.yticks(tick_marks, classes)\n",
        "\n",
        "    if normalize:\n",
        "        cm = cm.astype('float') / cm.sum(axis=1)[:, np.newaxis]\n",
        "        print(\"Normalized confusion matrix\")\n",
        "    else:\n",
        "        print('Confusion matrix, without normalization')\n",
        "\n",
        "    print(cm)\n",
        "\n",
        "    thresh = cm.max() / 2.\n",
        "    for i, j in itertools.product(range(cm.shape[0]), range(cm.shape[1])):\n",
        "        plt.text(j, i, format(cm[i, j], 'd'),\n",
        "                 horizontalalignment=\"center\",\n",
        "                 color=\"white\" if cm[i, j] > thresh else \"black\")\n",
        "\n",
        "    plt.tight_layout()\n",
        "    plt.ylabel('True label')\n",
        "    plt.xlabel('Predicted label')\n",
        "\n",
        "# Example usage\n",
        "test_labels = test_generator.classes\n",
        "predictions = model.predict(test_generator, steps=len(test_generator), verbose=0)\n",
        "cm = confusion_matrix(test_labels, predictions.argmax(axis=1))\n",
        "\n",
        "plot_confusion_matrix(cm, classes=[str(i) for i in range(8)], title='Confusion Matrix')\n",
        "plt.show()\n"
      ],
      "metadata": {
        "colab": {
          "base_uri": "https://localhost:8080/",
          "height": 662
        },
        "id": "7ywh6TIwhRBh",
        "outputId": "6c922199-40f3-4957-a5f5-503ee9fe4a5b"
      },
      "execution_count": 17,
      "outputs": [
        {
          "output_type": "stream",
          "name": "stdout",
          "text": [
            "Confusion matrix, without normalization\n",
            "[[ 3  0  1  1  0  0  2  3]\n",
            " [ 0  6  2  0  2  0  0  0]\n",
            " [ 0  3  6  0  2  0  0  0]\n",
            " [ 0  0  0  9  0  0  0  1]\n",
            " [ 0  0  0  0 10  0  0  0]\n",
            " [ 0  0  0  0  0  8  0  0]\n",
            " [ 0  1  0  0  0  0 11  0]\n",
            " [ 0  0  0  1  0  0  0 11]]\n"
          ]
        },
        {
          "output_type": "display_data",
          "data": {
            "text/plain": [
              "<Figure size 640x480 with 2 Axes>"
            ],
            "image/png": "[encoded data removed]"
          },
          "metadata": {}
        }
      ]
    },
    {
      "cell_type": "code",
      "source": [
        "import matplotlib.pyplot as plt\n",
        "\n",
        "# Extract accuracy data from the history object\n",
        "train_acc = history.history['accuracy']\n",
        "val_acc = history.history['val_accuracy']\n",
        "epochs = range(1, len(train_acc) + 1)\n",
        "\n",
        "# Plot training and validation accuracy\n",
        "plt.figure(figsize=(10, 6))\n",
        "plt.plot(epochs, train_acc, 'bo-', label='Training Accuracy')\n",
        "plt.plot(epochs, val_acc, 'ro-', label='Validation Accuracy')\n",
        "plt.title('Training and Validation Accuracy')\n",
        "plt.xlabel('Epochs')\n",
        "plt.ylabel('Accuracy')\n",
        "plt.legend()\n",
        "plt.grid(True)\n",
        "plt.show()\n"
      ],
      "metadata": {
        "colab": {
          "base_uri": "https://localhost:8080/",
          "height": 564
        },
        "id": "s0gbhO7ZiLzf",
        "outputId": "2a2a950f-08ad-4ecc-887e-639ffdf68aa6"
      },
      "execution_count": 18,
      "outputs": [
        {
          "output_type": "display_data",
          "data": {
            "text/plain": [
              "<Figure size 1000x600 with 1 Axes>"
            ],
            "image/png": "[encoded data removed]"
          },
          "metadata": {}
        }
      ]
    },
    {
      "cell_type": "code",
      "source": [],
      "metadata": {
        "id": "xnLcaak1j3VH"
      },
      "execution_count": null,
      "outputs": []
    }
  ],
  "metadata": {
    "colab": {
      "provenance": [],
      "authorship_tag": "ABX9TyP6q+qgsPYB2MKgF4XEQw3S",
      "include_colab_link": true
    },
    "kernelspec": {
      "display_name": "Python 3",
      "name": "python3"
    },
    "language_info": {
      "name": "python"
    }
  },
  "nbformat": 4,
  "nbformat_minor": 0
}